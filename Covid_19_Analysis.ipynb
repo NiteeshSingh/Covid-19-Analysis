{
  "nbformat": 4,
  "nbformat_minor": 0,
  "metadata": {
    "colab": {
      "name": "Covid-19 Analysis.ipynb",
      "provenance": [],
      "collapsed_sections": [],
      "mount_file_id": "1zcqdh5Vkbi5fsIasqL57CXqyh5WtOKvs",
      "authorship_tag": "ABX9TyOfEGCEosZIDL3z2zU6yXox",
      "include_colab_link": true
    },
    "kernelspec": {
      "name": "python3",
      "display_name": "Python 3"
    },
    "language_info": {
      "name": "python"
    }
  },
  "cells": [
    {
      "cell_type": "markdown",
      "metadata": {
        "id": "view-in-github",
        "colab_type": "text"
      },
      "source": [
        "<a href=\"https://colab.research.google.com/github/NiteeshSingh/Covid-19-Analysis/blob/main/Covid_19_Analysis.ipynb\" target=\"_parent\"><img src=\"https://colab.research.google.com/assets/colab-badge.svg\" alt=\"Open In Colab\"/></a>"
      ]
    },
    {
      "cell_type": "code",
      "execution_count": null,
      "metadata": {
        "id": "Z19hqZVJuO5O"
      },
      "outputs": [],
      "source": [
        "import pandas as pd\n",
        "import numpy as np\n",
        "import seaborn as sns\n",
        "import matplotlib.pyplot as plt\n",
        "import plotly.express as px\n",
        "import plotly.graph_objs as go\n",
        "\n",
        "import os\n",
        "import math\n",
        "\n",
        "from sklearn.preprocessing import LabelEncoder\n",
        "from sklearn.model_selection import train_test_split\n"
      ]
    },
    {
      "cell_type": "code",
      "source": [
        "from google.colab import data_table\n",
        "data_table.enable_dataframe_formatter()"
      ],
      "metadata": {
        "id": "ttklMNkWWJfZ"
      },
      "execution_count": null,
      "outputs": []
    },
    {
      "cell_type": "code",
      "source": [
        "world_daily = pd.read_csv('/content/drive/MyDrive/WIDS Project/DATASET/global data/worldometer_coronavirus_daily_data.csv')\n",
        "world_summ = pd.read_csv('/content/drive/MyDrive/WIDS Project/DATASET/global data/worldometer_coronavirus_summary_data.csv')\n",
        "india_statewise = pd.read_csv('/content/drive/MyDrive/WIDS Project/DATASET/india data/covid_19_india.csv')\n",
        "vacc_statewise = pd.read_csv('/content/drive/MyDrive/WIDS Project/DATASET/india data/covid_vaccine_statewise.csv')"
      ],
      "metadata": {
        "id": "B6yQxD-6e0UM"
      },
      "execution_count": null,
      "outputs": []
    },
    {
      "cell_type": "markdown",
      "source": [
        "# Analysing the Impact at Global Level\n",
        " Which will help to realise how widespread this disease is. "
      ],
      "metadata": {
        "id": "VNKa7Wyvs0iu"
      }
    },
    {
      "cell_type": "markdown",
      "source": [
        "##first look and cleaning the data \n"
      ],
      "metadata": {
        "id": "_pG2QOxQyLuQ"
      }
    },
    {
      "cell_type": "code",
      "source": [
        "world_summ.head()"
      ],
      "metadata": {
        "colab": {
          "base_uri": "https://localhost:8080/",
          "height": 211
        },
        "id": "BO-50Dg_MvW8",
        "outputId": "83b16779-b8a1-4603-ea8f-7f0f8d99c54e"
      },
      "execution_count": null,
      "outputs": [
        {
          "output_type": "execute_result",
          "data": {
            "application/vnd.google.colaboratory.module+javascript": "\n      import \"https://ssl.gstatic.com/colaboratory/data_table/81f25a011006ed3d/data_table.js\";\n\n      window.createDataTable({\n        data: [[{\n            'v': 0,\n            'f': \"0\",\n        },\n\"Afghanistan\",\n\"Asia\",\n{\n            'v': 158275,\n            'f': \"158275\",\n        },\n{\n            'v': 7367.0,\n            'f': \"7367.0\",\n        },\n{\n            'v': 145750.0,\n            'f': \"145750.0\",\n        },\n{\n            'v': 5158.0,\n            'f': \"5158.0\",\n        },\n{\n            'v': 1124.0,\n            'f': \"1124.0\",\n        },\n{\n            'v': 3932,\n            'f': \"3932\",\n        },\n{\n            'v': 183.0,\n            'f': \"183.0\",\n        },\n{\n            'v': 826810.0,\n            'f': \"826810.0\",\n        },\n{\n            'v': 20541.0,\n            'f': \"20541.0\",\n        },\n{\n            'v': 40250878,\n            'f': \"40250878\",\n        }],\n [{\n            'v': 1,\n            'f': \"1\",\n        },\n\"Albania\",\n\"Europe\",\n{\n            'v': 213257,\n            'f': \"213257\",\n        },\n{\n            'v': 3228.0,\n            'f': \"3228.0\",\n        },\n{\n            'v': 202077.0,\n            'f': \"202077.0\",\n        },\n{\n            'v': 7952.0,\n            'f': \"7952.0\",\n        },\n{\n            'v': 23.0,\n            'f': \"23.0\",\n        },\n{\n            'v': 74227,\n            'f': \"74227\",\n        },\n{\n            'v': 1124.0,\n            'f': \"1124.0\",\n        },\n{\n            'v': 1495002.0,\n            'f': \"1495002.0\",\n        },\n{\n            'v': 520354.0,\n            'f': \"520354.0\",\n        },\n{\n            'v': 2873049,\n            'f': \"2873049\",\n        }],\n [{\n            'v': 2,\n            'f': \"2\",\n        },\n\"Algeria\",\n\"Africa\",\n{\n            'v': 220415,\n            'f': \"220415\",\n        },\n{\n            'v': 6310.0,\n            'f': \"6310.0\",\n        },\n{\n            'v': 151347.0,\n            'f': \"151347.0\",\n        },\n{\n            'v': 62758.0,\n            'f': \"62758.0\",\n        },\n{\n            'v': 34.0,\n            'f': \"34.0\",\n        },\n{\n            'v': 4893,\n            'f': \"4893\",\n        },\n{\n            'v': 140.0,\n            'f': \"140.0\",\n        },\n{\n            'v': 230861.0,\n            'f': \"230861.0\",\n        },\n{\n            'v': 5125.0,\n            'f': \"5125.0\",\n        },\n{\n            'v': 45046063,\n            'f': \"45046063\",\n        }],\n [{\n            'v': 3,\n            'f': \"3\",\n        },\n\"Andorra\",\n\"Europe\",\n{\n            'v': 25289,\n            'f': \"25289\",\n        },\n{\n            'v': 141.0,\n            'f': \"141.0\",\n        },\n{\n            'v': 21511.0,\n            'f': \"21511.0\",\n        },\n{\n            'v': 3637.0,\n            'f': \"3637.0\",\n        },\n{\n            'v': 31.0,\n            'f': \"31.0\",\n        },\n{\n            'v': 326512,\n            'f': \"326512\",\n        },\n{\n            'v': 1820.0,\n            'f': \"1820.0\",\n        },\n{\n            'v': 249838.0,\n            'f': \"249838.0\",\n        },\n{\n            'v': 3225714.0,\n            'f': \"3225714.0\",\n        },\n{\n            'v': 77452,\n            'f': \"77452\",\n        }],\n [{\n            'v': 4,\n            'f': \"4\",\n        },\n\"Angola\",\n\"Africa\",\n{\n            'v': 86636,\n            'f': \"86636\",\n        },\n{\n            'v': 1789.0,\n            'f': \"1789.0\",\n        },\n{\n            'v': 67477.0,\n            'f': \"67477.0\",\n        },\n{\n            'v': 17370.0,\n            'f': \"17370.0\",\n        },\n{\n            'v': 7.0,\n            'f': \"7.0\",\n        },\n{\n            'v': 2518,\n            'f': \"2518\",\n        },\n{\n            'v': 52.0,\n            'f': \"52.0\",\n        },\n{\n            'v': 1296669.0,\n            'f': \"1296669.0\",\n        },\n{\n            'v': 37686.0,\n            'f': \"37686.0\",\n        },\n{\n            'v': 34407243,\n            'f': \"34407243\",\n        }]],\n        columns: [[\"number\", \"index\"], [\"string\", \"country\"], [\"string\", \"continent\"], [\"number\", \"total_confirmed\"], [\"number\", \"total_deaths\"], [\"number\", \"total_recovered\"], [\"number\", \"active_cases\"], [\"number\", \"serious_or_critical\"], [\"number\", \"total_cases_per_1m_population\"], [\"number\", \"total_deaths_per_1m_population\"], [\"number\", \"total_tests\"], [\"number\", \"total_tests_per_1m_population\"], [\"number\", \"population\"]],\n        columnOptions: [{\"width\": \"1px\", \"className\": \"index_column\"}],\n        rowsPerPage: 25,\n        helpUrl: \"https://colab.research.google.com/notebooks/data_table.ipynb\",\n        suppressOutputScrolling: true,\n        minimumWidth: undefined,\n      });\n    ",
            "text/html": [
              "\n",
              "  <div id=\"df-438c70c7-3207-4002-a619-37a7737b8f11\">\n",
              "    <div class=\"colab-df-container\">\n",
              "      <div>\n",
              "<style scoped>\n",
              "    .dataframe tbody tr th:only-of-type {\n",
              "        vertical-align: middle;\n",
              "    }\n",
              "\n",
              "    .dataframe tbody tr th {\n",
              "        vertical-align: top;\n",
              "    }\n",
              "\n",
              "    .dataframe thead th {\n",
              "        text-align: right;\n",
              "    }\n",
              "</style>\n",
              "<table border=\"1\" class=\"dataframe\">\n",
              "  <thead>\n",
              "    <tr style=\"text-align: right;\">\n",
              "      <th></th>\n",
              "      <th>country</th>\n",
              "      <th>continent</th>\n",
              "      <th>total_confirmed</th>\n",
              "      <th>total_deaths</th>\n",
              "      <th>total_recovered</th>\n",
              "      <th>active_cases</th>\n",
              "      <th>serious_or_critical</th>\n",
              "      <th>total_cases_per_1m_population</th>\n",
              "      <th>total_deaths_per_1m_population</th>\n",
              "      <th>total_tests</th>\n",
              "      <th>total_tests_per_1m_population</th>\n",
              "      <th>population</th>\n",
              "    </tr>\n",
              "  </thead>\n",
              "  <tbody>\n",
              "    <tr>\n",
              "      <th>0</th>\n",
              "      <td>Afghanistan</td>\n",
              "      <td>Asia</td>\n",
              "      <td>158275</td>\n",
              "      <td>7367.0</td>\n",
              "      <td>145750.0</td>\n",
              "      <td>5158.0</td>\n",
              "      <td>1124.0</td>\n",
              "      <td>3932</td>\n",
              "      <td>183.0</td>\n",
              "      <td>826810.0</td>\n",
              "      <td>20541.0</td>\n",
              "      <td>40250878</td>\n",
              "    </tr>\n",
              "    <tr>\n",
              "      <th>1</th>\n",
              "      <td>Albania</td>\n",
              "      <td>Europe</td>\n",
              "      <td>213257</td>\n",
              "      <td>3228.0</td>\n",
              "      <td>202077.0</td>\n",
              "      <td>7952.0</td>\n",
              "      <td>23.0</td>\n",
              "      <td>74227</td>\n",
              "      <td>1124.0</td>\n",
              "      <td>1495002.0</td>\n",
              "      <td>520354.0</td>\n",
              "      <td>2873049</td>\n",
              "    </tr>\n",
              "    <tr>\n",
              "      <th>2</th>\n",
              "      <td>Algeria</td>\n",
              "      <td>Africa</td>\n",
              "      <td>220415</td>\n",
              "      <td>6310.0</td>\n",
              "      <td>151347.0</td>\n",
              "      <td>62758.0</td>\n",
              "      <td>34.0</td>\n",
              "      <td>4893</td>\n",
              "      <td>140.0</td>\n",
              "      <td>230861.0</td>\n",
              "      <td>5125.0</td>\n",
              "      <td>45046063</td>\n",
              "    </tr>\n",
              "    <tr>\n",
              "      <th>3</th>\n",
              "      <td>Andorra</td>\n",
              "      <td>Europe</td>\n",
              "      <td>25289</td>\n",
              "      <td>141.0</td>\n",
              "      <td>21511.0</td>\n",
              "      <td>3637.0</td>\n",
              "      <td>31.0</td>\n",
              "      <td>326512</td>\n",
              "      <td>1820.0</td>\n",
              "      <td>249838.0</td>\n",
              "      <td>3225714.0</td>\n",
              "      <td>77452</td>\n",
              "    </tr>\n",
              "    <tr>\n",
              "      <th>4</th>\n",
              "      <td>Angola</td>\n",
              "      <td>Africa</td>\n",
              "      <td>86636</td>\n",
              "      <td>1789.0</td>\n",
              "      <td>67477.0</td>\n",
              "      <td>17370.0</td>\n",
              "      <td>7.0</td>\n",
              "      <td>2518</td>\n",
              "      <td>52.0</td>\n",
              "      <td>1296669.0</td>\n",
              "      <td>37686.0</td>\n",
              "      <td>34407243</td>\n",
              "    </tr>\n",
              "  </tbody>\n",
              "</table>\n",
              "</div>\n",
              "      <button class=\"colab-df-convert\" onclick=\"convertToInteractive('df-438c70c7-3207-4002-a619-37a7737b8f11')\"\n",
              "              title=\"Convert this dataframe to an interactive table.\"\n",
              "              style=\"display:none;\">\n",
              "        \n",
              "  <svg xmlns=\"http://www.w3.org/2000/svg\" height=\"24px\"viewBox=\"0 0 24 24\"\n",
              "       width=\"24px\">\n",
              "    <path d=\"M0 0h24v24H0V0z\" fill=\"none\"/>\n",
              "    <path d=\"M18.56 5.44l.94 2.06.94-2.06 2.06-.94-2.06-.94-.94-2.06-.94 2.06-2.06.94zm-11 1L8.5 8.5l.94-2.06 2.06-.94-2.06-.94L8.5 2.5l-.94 2.06-2.06.94zm10 10l.94 2.06.94-2.06 2.06-.94-2.06-.94-.94-2.06-.94 2.06-2.06.94z\"/><path d=\"M17.41 7.96l-1.37-1.37c-.4-.4-.92-.59-1.43-.59-.52 0-1.04.2-1.43.59L10.3 9.45l-7.72 7.72c-.78.78-.78 2.05 0 2.83L4 21.41c.39.39.9.59 1.41.59.51 0 1.02-.2 1.41-.59l7.78-7.78 2.81-2.81c.8-.78.8-2.07 0-2.86zM5.41 20L4 18.59l7.72-7.72 1.47 1.35L5.41 20z\"/>\n",
              "  </svg>\n",
              "      </button>\n",
              "      \n",
              "  <style>\n",
              "    .colab-df-container {\n",
              "      display:flex;\n",
              "      flex-wrap:wrap;\n",
              "      gap: 12px;\n",
              "    }\n",
              "\n",
              "    .colab-df-convert {\n",
              "      background-color: #E8F0FE;\n",
              "      border: none;\n",
              "      border-radius: 50%;\n",
              "      cursor: pointer;\n",
              "      display: none;\n",
              "      fill: #1967D2;\n",
              "      height: 32px;\n",
              "      padding: 0 0 0 0;\n",
              "      width: 32px;\n",
              "    }\n",
              "\n",
              "    .colab-df-convert:hover {\n",
              "      background-color: #E2EBFA;\n",
              "      box-shadow: 0px 1px 2px rgba(60, 64, 67, 0.3), 0px 1px 3px 1px rgba(60, 64, 67, 0.15);\n",
              "      fill: #174EA6;\n",
              "    }\n",
              "\n",
              "    [theme=dark] .colab-df-convert {\n",
              "      background-color: #3B4455;\n",
              "      fill: #D2E3FC;\n",
              "    }\n",
              "\n",
              "    [theme=dark] .colab-df-convert:hover {\n",
              "      background-color: #434B5C;\n",
              "      box-shadow: 0px 1px 3px 1px rgba(0, 0, 0, 0.15);\n",
              "      filter: drop-shadow(0px 1px 2px rgba(0, 0, 0, 0.3));\n",
              "      fill: #FFFFFF;\n",
              "    }\n",
              "  </style>\n",
              "\n",
              "      <script>\n",
              "        const buttonEl =\n",
              "          document.querySelector('#df-438c70c7-3207-4002-a619-37a7737b8f11 button.colab-df-convert');\n",
              "        buttonEl.style.display =\n",
              "          google.colab.kernel.accessAllowed ? 'block' : 'none';\n",
              "\n",
              "        async function convertToInteractive(key) {\n",
              "          const element = document.querySelector('#df-438c70c7-3207-4002-a619-37a7737b8f11');\n",
              "          const dataTable =\n",
              "            await google.colab.kernel.invokeFunction('convertToInteractive',\n",
              "                                                     [key], {});\n",
              "          if (!dataTable) return;\n",
              "\n",
              "          const docLinkHtml = 'Like what you see? Visit the ' +\n",
              "            '<a target=\"_blank\" href=https://colab.research.google.com/notebooks/data_table.ipynb>data table notebook</a>'\n",
              "            + ' to learn more about interactive tables.';\n",
              "          element.innerHTML = '';\n",
              "          dataTable['output_type'] = 'display_data';\n",
              "          await google.colab.output.renderOutput(dataTable, element);\n",
              "          const docLink = document.createElement('div');\n",
              "          docLink.innerHTML = docLinkHtml;\n",
              "          element.appendChild(docLink);\n",
              "        }\n",
              "      </script>\n",
              "    </div>\n",
              "  </div>\n",
              "  "
            ],
            "text/plain": [
              "       country continent  ...  total_tests_per_1m_population  population\n",
              "0  Afghanistan      Asia  ...                        20541.0    40250878\n",
              "1      Albania    Europe  ...                       520354.0     2873049\n",
              "2      Algeria    Africa  ...                         5125.0    45046063\n",
              "3      Andorra    Europe  ...                      3225714.0       77452\n",
              "4       Angola    Africa  ...                        37686.0    34407243\n",
              "\n",
              "[5 rows x 12 columns]"
            ]
          },
          "metadata": {},
          "execution_count": 4
        }
      ]
    },
    {
      "cell_type": "code",
      "source": [
        "world_summ.info()\n",
        "print(\"\\n Total number of unique Countries\", len(pd.unique(world_summ[\"country\"])))"
      ],
      "metadata": {
        "colab": {
          "base_uri": "https://localhost:8080/"
        },
        "id": "KPXbaO0YMvT0",
        "outputId": "7eebb5e0-a069-4d6f-d099-8ad34d2df358"
      },
      "execution_count": null,
      "outputs": [
        {
          "output_type": "stream",
          "name": "stdout",
          "text": [
            "<class 'pandas.core.frame.DataFrame'>\n",
            "RangeIndex: 221 entries, 0 to 220\n",
            "Data columns (total 12 columns):\n",
            " #   Column                          Non-Null Count  Dtype  \n",
            "---  ------                          --------------  -----  \n",
            " 0   country                         221 non-null    object \n",
            " 1   continent                       221 non-null    object \n",
            " 2   total_confirmed                 221 non-null    int64  \n",
            " 3   total_deaths                    211 non-null    float64\n",
            " 4   total_recovered                 214 non-null    float64\n",
            " 5   active_cases                    214 non-null    float64\n",
            " 6   serious_or_critical             157 non-null    float64\n",
            " 7   total_cases_per_1m_population   221 non-null    int64  \n",
            " 8   total_deaths_per_1m_population  211 non-null    float64\n",
            " 9   total_tests                     208 non-null    float64\n",
            " 10  total_tests_per_1m_population   208 non-null    float64\n",
            " 11  population                      221 non-null    int64  \n",
            "dtypes: float64(7), int64(3), object(2)\n",
            "memory usage: 20.8+ KB\n",
            "\n",
            " Total number of unique Countries 221\n"
          ]
        }
      ]
    },
    {
      "cell_type": "code",
      "source": [
        "#Droping the  serious_or_critical column\n",
        "world_summ_cleaned = world_summ.drop([\"serious_or_critical\"], axis=1)\n",
        "is_NaN = world_summ_cleaned.isnull()\n",
        "row_has_NaN = is_NaN.any(axis=1)\n",
        "rows_with_NaN = world_summ_cleaned[row_has_NaN]\n",
        "rows_with_NaN"
      ],
      "metadata": {
        "colab": {
          "base_uri": "https://localhost:8080/",
          "height": 787
        },
        "id": "nR3c4kAdzTWA",
        "outputId": "9651f9db-c702-49ee-9ef7-55c590bd1d30"
      },
      "execution_count": null,
      "outputs": [
        {
          "output_type": "execute_result",
          "data": {
            "application/vnd.google.colaboratory.module+javascript": "\n      import \"https://ssl.gstatic.com/colaboratory/data_table/81f25a011006ed3d/data_table.js\";\n\n      window.createDataTable({\n        data: [[{\n            'v': 27,\n            'f': \"27\",\n        },\n\"British Virgin Islands\",\n\"North America\",\n{\n            'v': 3760,\n            'f': \"3760\",\n        },\n{\n            'v': 40.0,\n            'f': \"40.0\",\n        },\n{\n            'v': NaN,\n            'f': \"NaN\",\n        },\n{\n            'v': NaN,\n            'f': \"NaN\",\n        },\n{\n            'v': 123137,\n            'f': \"123137\",\n        },\n{\n            'v': 1310.0,\n            'f': \"1310.0\",\n        },\n{\n            'v': 93379.0,\n            'f': \"93379.0\",\n        },\n{\n            'v': 3058097.0,\n            'f': \"3058097.0\",\n        },\n{\n            'v': 30535,\n            'f': \"30535\",\n        }],\n [{\n            'v': 43,\n            'f': \"43\",\n        },\n\"China Macao Sar\",\n\"Asia\",\n{\n            'v': 79,\n            'f': \"79\",\n        },\n{\n            'v': NaN,\n            'f': \"NaN\",\n        },\n{\n            'v': 77.0,\n            'f': \"77.0\",\n        },\n{\n            'v': 2.0,\n            'f': \"2.0\",\n        },\n{\n            'v': 119,\n            'f': \"119\",\n        },\n{\n            'v': NaN,\n            'f': \"NaN\",\n        },\n{\n            'v': 5075.0,\n            'f': \"5075.0\",\n        },\n{\n            'v': 7658.0,\n            'f': \"7658.0\",\n        },\n{\n            'v': 662699,\n            'f': \"662699\",\n        }],\n [{\n            'v': 46,\n            'f': \"46\",\n        },\n\"Comoros\",\n\"Africa\",\n{\n            'v': 7405,\n            'f': \"7405\",\n        },\n{\n            'v': 158.0,\n            'f': \"158.0\",\n        },\n{\n            'v': 5650.0,\n            'f': \"5650.0\",\n        },\n{\n            'v': 1597.0,\n            'f': \"1597.0\",\n        },\n{\n            'v': 8250,\n            'f': \"8250\",\n        },\n{\n            'v': 176.0,\n            'f': \"176.0\",\n        },\n{\n            'v': NaN,\n            'f': \"NaN\",\n        },\n{\n            'v': NaN,\n            'f': \"NaN\",\n        },\n{\n            'v': 897548,\n            'f': \"897548\",\n        }],\n [{\n            'v': 68,\n            'f': \"68\",\n        },\n\"Falkland Islands Malvinas\",\n\"South America\",\n{\n            'v': 84,\n            'f': \"84\",\n        },\n{\n            'v': NaN,\n            'f': \"NaN\",\n        },\n{\n            'v': NaN,\n            'f': \"NaN\",\n        },\n{\n            'v': NaN,\n            'f': \"NaN\",\n        },\n{\n            'v': 23121,\n            'f': \"23121\",\n        },\n{\n            'v': NaN,\n            'f': \"NaN\",\n        },\n{\n            'v': 8528.0,\n            'f': \"8528.0\",\n        },\n{\n            'v': 2347371.0,\n            'f': \"2347371.0\",\n        },\n{\n            'v': 3633,\n            'f': \"3633\",\n        }],\n [{\n            'v': 73,\n            'f': \"73\",\n        },\n\"French Polynesia\",\n\"Australia/Oceania\",\n{\n            'v': 46474,\n            'f': \"46474\",\n        },\n{\n            'v': 636.0,\n            'f': \"636.0\",\n        },\n{\n            'v': NaN,\n            'f': \"NaN\",\n        },\n{\n            'v': NaN,\n            'f': \"NaN\",\n        },\n{\n            'v': 164010,\n            'f': \"164010\",\n        },\n{\n            'v': 2244.0,\n            'f': \"2244.0\",\n        },\n{\n            'v': NaN,\n            'f': \"NaN\",\n        },\n{\n            'v': NaN,\n            'f': \"NaN\",\n        },\n{\n            'v': 283361,\n            'f': \"283361\",\n        }],\n [{\n            'v': 89,\n            'f': \"89\",\n        },\n\"Holy See\",\n\"Europe\",\n{\n            'v': 27,\n            'f': \"27\",\n        },\n{\n            'v': NaN,\n            'f': \"NaN\",\n        },\n{\n            'v': 27.0,\n            'f': \"27.0\",\n        },\n{\n            'v': 0.0,\n            'f': \"0.0\",\n        },\n{\n            'v': 33582,\n            'f': \"33582\",\n        },\n{\n            'v': NaN,\n            'f': \"NaN\",\n        },\n{\n            'v': NaN,\n            'f': \"NaN\",\n        },\n{\n            'v': NaN,\n            'f': \"NaN\",\n        },\n{\n            'v': 804,\n            'f': \"804\",\n        }],\n [{\n            'v': 124,\n            'f': \"124\",\n        },\n\"Marshall Islands\",\n\"Australia/Oceania\",\n{\n            'v': 4,\n            'f': \"4\",\n        },\n{\n            'v': NaN,\n            'f': \"NaN\",\n        },\n{\n            'v': 4.0,\n            'f': \"4.0\",\n        },\n{\n            'v': 0.0,\n            'f': \"0.0\",\n        },\n{\n            'v': 67,\n            'f': \"67\",\n        },\n{\n            'v': NaN,\n            'f': \"NaN\",\n        },\n{\n            'v': NaN,\n            'f': \"NaN\",\n        },\n{\n            'v': NaN,\n            'f': \"NaN\",\n        },\n{\n            'v': 59793,\n            'f': \"59793\",\n        }],\n [{\n            'v': 130,\n            'f': \"130\",\n        },\n\"Micronesia\",\n\"Australia/Oceania\",\n{\n            'v': 1,\n            'f': \"1\",\n        },\n{\n            'v': NaN,\n            'f': \"NaN\",\n        },\n{\n            'v': 1.0,\n            'f': \"1.0\",\n        },\n{\n            'v': 0.0,\n            'f': \"0.0\",\n        },\n{\n            'v': 9,\n            'f': \"9\",\n        },\n{\n            'v': NaN,\n            'f': \"NaN\",\n        },\n{\n            'v': NaN,\n            'f': \"NaN\",\n        },\n{\n            'v': NaN,\n            'f': \"NaN\",\n        },\n{\n            'v': 116844,\n            'f': \"116844\",\n        }],\n [{\n            'v': 144,\n            'f': \"144\",\n        },\n\"Nicaragua\",\n\"North America\",\n{\n            'v': 17526,\n            'f': \"17526\",\n        },\n{\n            'v': 213.0,\n            'f': \"213.0\",\n        },\n{\n            'v': 4225.0,\n            'f': \"4225.0\",\n        },\n{\n            'v': 13088.0,\n            'f': \"13088.0\",\n        },\n{\n            'v': 2599,\n            'f': \"2599\",\n        },\n{\n            'v': 32.0,\n            'f': \"32.0\",\n        },\n{\n            'v': NaN,\n            'f': \"NaN\",\n        },\n{\n            'v': NaN,\n            'f': \"NaN\",\n        },\n{\n            'v': 6743566,\n            'f': \"6743566\",\n        }],\n [{\n            'v': 153,\n            'f': \"153\",\n        },\n\"Peru\",\n\"South America\",\n{\n            'v': 2318543,\n            'f': \"2318543\",\n        },\n{\n            'v': 202904.0,\n            'f': \"202904.0\",\n        },\n{\n            'v': NaN,\n            'f': \"NaN\",\n        },\n{\n            'v': NaN,\n            'f': \"NaN\",\n        },\n{\n            'v': 68870,\n            'f': \"68870\",\n        },\n{\n            'v': 6027.0,\n            'f': \"6027.0\",\n        },\n{\n            'v': 21999418.0,\n            'f': \"21999418.0\",\n        },\n{\n            'v': 653475.0,\n            'f': \"653475.0\",\n        },\n{\n            'v': 33665283,\n            'f': \"33665283\",\n        }],\n [{\n            'v': 162,\n            'f': \"162\",\n        },\n\"Saint Barthelemy\",\n\"North America\",\n{\n            'v': 1895,\n            'f': \"1895\",\n        },\n{\n            'v': 6.0,\n            'f': \"6.0\",\n        },\n{\n            'v': NaN,\n            'f': \"NaN\",\n        },\n{\n            'v': NaN,\n            'f': \"NaN\",\n        },\n{\n            'v': 190970,\n            'f': \"190970\",\n        },\n{\n            'v': 605.0,\n            'f': \"605.0\",\n        },\n{\n            'v': 56491.0,\n            'f': \"56491.0\",\n        },\n{\n            'v': 5692936.0,\n            'f': \"5692936.0\",\n        },\n{\n            'v': 9923,\n            'f': \"9923\",\n        }],\n [{\n            'v': 163,\n            'f': \"163\",\n        },\n\"Saint Helena\",\n\"Africa\",\n{\n            'v': 2,\n            'f': \"2\",\n        },\n{\n            'v': NaN,\n            'f': \"NaN\",\n        },\n{\n            'v': 2.0,\n            'f': \"2.0\",\n        },\n{\n            'v': 0.0,\n            'f': \"0.0\",\n        },\n{\n            'v': 328,\n            'f': \"328\",\n        },\n{\n            'v': NaN,\n            'f': \"NaN\",\n        },\n{\n            'v': NaN,\n            'f': \"NaN\",\n        },\n{\n            'v': NaN,\n            'f': \"NaN\",\n        },\n{\n            'v': 6104,\n            'f': \"6104\",\n        }],\n [{\n            'v': 167,\n            'f': \"167\",\n        },\n\"Saint Pierre And Miquelon\",\n\"North America\",\n{\n            'v': 113,\n            'f': \"113\",\n        },\n{\n            'v': NaN,\n            'f': \"NaN\",\n        },\n{\n            'v': 97.0,\n            'f': \"97.0\",\n        },\n{\n            'v': 16.0,\n            'f': \"16.0\",\n        },\n{\n            'v': 19649,\n            'f': \"19649\",\n        },\n{\n            'v': NaN,\n            'f': \"NaN\",\n        },\n{\n            'v': 14402.0,\n            'f': \"14402.0\",\n        },\n{\n            'v': 2504260.0,\n            'f': \"2504260.0\",\n        },\n{\n            'v': 5751,\n            'f': \"5751\",\n        }],\n [{\n            'v': 169,\n            'f': \"169\",\n        },\n\"Samoa\",\n\"Australia/Oceania\",\n{\n            'v': 3,\n            'f': \"3\",\n        },\n{\n            'v': NaN,\n            'f': \"NaN\",\n        },\n{\n            'v': 3.0,\n            'f': \"3.0\",\n        },\n{\n            'v': 0.0,\n            'f': \"0.0\",\n        },\n{\n            'v': 15,\n            'f': \"15\",\n        },\n{\n            'v': NaN,\n            'f': \"NaN\",\n        },\n{\n            'v': NaN,\n            'f': \"NaN\",\n        },\n{\n            'v': NaN,\n            'f': \"NaN\",\n        },\n{\n            'v': 200406,\n            'f': \"200406\",\n        }],\n [{\n            'v': 175,\n            'f': \"175\",\n        },\n\"Seychelles\",\n\"Africa\",\n{\n            'v': 26255,\n            'f': \"26255\",\n        },\n{\n            'v': 134.0,\n            'f': \"134.0\",\n        },\n{\n            'v': 24303.0,\n            'f': \"24303.0\",\n        },\n{\n            'v': 1818.0,\n            'f': \"1818.0\",\n        },\n{\n            'v': 264489,\n            'f': \"264489\",\n        },\n{\n            'v': 1350.0,\n            'f': \"1350.0\",\n        },\n{\n            'v': NaN,\n            'f': \"NaN\",\n        },\n{\n            'v': NaN,\n            'f': \"NaN\",\n        },\n{\n            'v': 99267,\n            'f': \"99267\",\n        }],\n [{\n            'v': 176,\n            'f': \"176\",\n        },\n\"Sierra Leone\",\n\"Africa\",\n{\n            'v': 7352,\n            'f': \"7352\",\n        },\n{\n            'v': 123.0,\n            'f': \"123.0\",\n        },\n{\n            'v': NaN,\n            'f': \"NaN\",\n        },\n{\n            'v': NaN,\n            'f': \"NaN\",\n        },\n{\n            'v': 894,\n            'f': \"894\",\n        },\n{\n            'v': 15.0,\n            'f': \"15.0\",\n        },\n{\n            'v': 259958.0,\n            'f': \"259958.0\",\n        },\n{\n            'v': 31618.0,\n            'f': \"31618.0\",\n        },\n{\n            'v': 8221745,\n            'f': \"8221745\",\n        }],\n [{\n            'v': 181,\n            'f': \"181\",\n        },\n\"Solomon Islands\",\n\"Australia/Oceania\",\n{\n            'v': 24,\n            'f': \"24\",\n        },\n{\n            'v': NaN,\n            'f': \"NaN\",\n        },\n{\n            'v': 20.0,\n            'f': \"20.0\",\n        },\n{\n            'v': 4.0,\n            'f': \"4.0\",\n        },\n{\n            'v': 34,\n            'f': \"34\",\n        },\n{\n            'v': NaN,\n            'f': \"NaN\",\n        },\n{\n            'v': 4500.0,\n            'f': \"4500.0\",\n        },\n{\n            'v': 6318.0,\n            'f': \"6318.0\",\n        },\n{\n            'v': 712289,\n            'f': \"712289\",\n        }],\n [{\n            'v': 196,\n            'f': \"196\",\n        },\n\"Tajikistan\",\n\"Asia\",\n{\n            'v': 17095,\n            'f': \"17095\",\n        },\n{\n            'v': 124.0,\n            'f': \"124.0\",\n        },\n{\n            'v': 16966.0,\n            'f': \"16966.0\",\n        },\n{\n            'v': 5.0,\n            'f': \"5.0\",\n        },\n{\n            'v': 1734,\n            'f': \"1734\",\n        },\n{\n            'v': 13.0,\n            'f': \"13.0\",\n        },\n{\n            'v': NaN,\n            'f': \"NaN\",\n        },\n{\n            'v': NaN,\n            'f': \"NaN\",\n        },\n{\n            'v': 9860805,\n            'f': \"9860805\",\n        }],\n [{\n            'v': 197,\n            'f': \"197\",\n        },\n\"Tanzania\",\n\"Africa\",\n{\n            'v': 30564,\n            'f': \"30564\",\n        },\n{\n            'v': 740.0,\n            'f': \"740.0\",\n        },\n{\n            'v': NaN,\n            'f': \"NaN\",\n        },\n{\n            'v': NaN,\n            'f': \"NaN\",\n        },\n{\n            'v': 491,\n            'f': \"491\",\n        },\n{\n            'v': 12.0,\n            'f': \"12.0\",\n        },\n{\n            'v': NaN,\n            'f': \"NaN\",\n        },\n{\n            'v': NaN,\n            'f': \"NaN\",\n        },\n{\n            'v': 62299375,\n            'f': \"62299375\",\n        }],\n [{\n            'v': 201,\n            'f': \"201\",\n        },\n\"Tonga\",\n\"Australia/Oceania\",\n{\n            'v': 1,\n            'f': \"1\",\n        },\n{\n            'v': NaN,\n            'f': \"NaN\",\n        },\n{\n            'v': 1.0,\n            'f': \"1.0\",\n        },\n{\n            'v': 0.0,\n            'f': \"0.0\",\n        },\n{\n            'v': 9,\n            'f': \"9\",\n        },\n{\n            'v': NaN,\n            'f': \"NaN\",\n        },\n{\n            'v': NaN,\n            'f': \"NaN\",\n        },\n{\n            'v': NaN,\n            'f': \"NaN\",\n        },\n{\n            'v': 107504,\n            'f': \"107504\",\n        }],\n [{\n            'v': 217,\n            'f': \"217\",\n        },\n\"Western Sahara\",\n\"Africa\",\n{\n            'v': 10,\n            'f': \"10\",\n        },\n{\n            'v': 1.0,\n            'f': \"1.0\",\n        },\n{\n            'v': 8.0,\n            'f': \"8.0\",\n        },\n{\n            'v': 1.0,\n            'f': \"1.0\",\n        },\n{\n            'v': 16,\n            'f': \"16\",\n        },\n{\n            'v': 2.0,\n            'f': \"2.0\",\n        },\n{\n            'v': NaN,\n            'f': \"NaN\",\n        },\n{\n            'v': NaN,\n            'f': \"NaN\",\n        },\n{\n            'v': 619489,\n            'f': \"619489\",\n        }]],\n        columns: [[\"number\", \"index\"], [\"string\", \"country\"], [\"string\", \"continent\"], [\"number\", \"total_confirmed\"], [\"number\", \"total_deaths\"], [\"number\", \"total_recovered\"], [\"number\", \"active_cases\"], [\"number\", \"total_cases_per_1m_population\"], [\"number\", \"total_deaths_per_1m_population\"], [\"number\", \"total_tests\"], [\"number\", \"total_tests_per_1m_population\"], [\"number\", \"population\"]],\n        columnOptions: [{\"width\": \"1px\", \"className\": \"index_column\"}],\n        rowsPerPage: 25,\n        helpUrl: \"https://colab.research.google.com/notebooks/data_table.ipynb\",\n        suppressOutputScrolling: true,\n        minimumWidth: undefined,\n      });\n    ",
            "text/html": [
              "\n",
              "  <div id=\"df-636131ea-0ee8-41ca-92c3-e1ace8c7b214\">\n",
              "    <div class=\"colab-df-container\">\n",
              "      <div>\n",
              "<style scoped>\n",
              "    .dataframe tbody tr th:only-of-type {\n",
              "        vertical-align: middle;\n",
              "    }\n",
              "\n",
              "    .dataframe tbody tr th {\n",
              "        vertical-align: top;\n",
              "    }\n",
              "\n",
              "    .dataframe thead th {\n",
              "        text-align: right;\n",
              "    }\n",
              "</style>\n",
              "<table border=\"1\" class=\"dataframe\">\n",
              "  <thead>\n",
              "    <tr style=\"text-align: right;\">\n",
              "      <th></th>\n",
              "      <th>country</th>\n",
              "      <th>continent</th>\n",
              "      <th>total_confirmed</th>\n",
              "      <th>total_deaths</th>\n",
              "      <th>total_recovered</th>\n",
              "      <th>active_cases</th>\n",
              "      <th>total_cases_per_1m_population</th>\n",
              "      <th>total_deaths_per_1m_population</th>\n",
              "      <th>total_tests</th>\n",
              "      <th>total_tests_per_1m_population</th>\n",
              "      <th>population</th>\n",
              "    </tr>\n",
              "  </thead>\n",
              "  <tbody>\n",
              "    <tr>\n",
              "      <th>27</th>\n",
              "      <td>British Virgin Islands</td>\n",
              "      <td>North America</td>\n",
              "      <td>3760</td>\n",
              "      <td>40.0</td>\n",
              "      <td>NaN</td>\n",
              "      <td>NaN</td>\n",
              "      <td>123137</td>\n",
              "      <td>1310.0</td>\n",
              "      <td>93379.0</td>\n",
              "      <td>3058097.0</td>\n",
              "      <td>30535</td>\n",
              "    </tr>\n",
              "    <tr>\n",
              "      <th>43</th>\n",
              "      <td>China Macao Sar</td>\n",
              "      <td>Asia</td>\n",
              "      <td>79</td>\n",
              "      <td>NaN</td>\n",
              "      <td>77.0</td>\n",
              "      <td>2.0</td>\n",
              "      <td>119</td>\n",
              "      <td>NaN</td>\n",
              "      <td>5075.0</td>\n",
              "      <td>7658.0</td>\n",
              "      <td>662699</td>\n",
              "    </tr>\n",
              "    <tr>\n",
              "      <th>46</th>\n",
              "      <td>Comoros</td>\n",
              "      <td>Africa</td>\n",
              "      <td>7405</td>\n",
              "      <td>158.0</td>\n",
              "      <td>5650.0</td>\n",
              "      <td>1597.0</td>\n",
              "      <td>8250</td>\n",
              "      <td>176.0</td>\n",
              "      <td>NaN</td>\n",
              "      <td>NaN</td>\n",
              "      <td>897548</td>\n",
              "    </tr>\n",
              "    <tr>\n",
              "      <th>68</th>\n",
              "      <td>Falkland Islands Malvinas</td>\n",
              "      <td>South America</td>\n",
              "      <td>84</td>\n",
              "      <td>NaN</td>\n",
              "      <td>NaN</td>\n",
              "      <td>NaN</td>\n",
              "      <td>23121</td>\n",
              "      <td>NaN</td>\n",
              "      <td>8528.0</td>\n",
              "      <td>2347371.0</td>\n",
              "      <td>3633</td>\n",
              "    </tr>\n",
              "    <tr>\n",
              "      <th>73</th>\n",
              "      <td>French Polynesia</td>\n",
              "      <td>Australia/Oceania</td>\n",
              "      <td>46474</td>\n",
              "      <td>636.0</td>\n",
              "      <td>NaN</td>\n",
              "      <td>NaN</td>\n",
              "      <td>164010</td>\n",
              "      <td>2244.0</td>\n",
              "      <td>NaN</td>\n",
              "      <td>NaN</td>\n",
              "      <td>283361</td>\n",
              "    </tr>\n",
              "    <tr>\n",
              "      <th>89</th>\n",
              "      <td>Holy See</td>\n",
              "      <td>Europe</td>\n",
              "      <td>27</td>\n",
              "      <td>NaN</td>\n",
              "      <td>27.0</td>\n",
              "      <td>0.0</td>\n",
              "      <td>33582</td>\n",
              "      <td>NaN</td>\n",
              "      <td>NaN</td>\n",
              "      <td>NaN</td>\n",
              "      <td>804</td>\n",
              "    </tr>\n",
              "    <tr>\n",
              "      <th>124</th>\n",
              "      <td>Marshall Islands</td>\n",
              "      <td>Australia/Oceania</td>\n",
              "      <td>4</td>\n",
              "      <td>NaN</td>\n",
              "      <td>4.0</td>\n",
              "      <td>0.0</td>\n",
              "      <td>67</td>\n",
              "      <td>NaN</td>\n",
              "      <td>NaN</td>\n",
              "      <td>NaN</td>\n",
              "      <td>59793</td>\n",
              "    </tr>\n",
              "    <tr>\n",
              "      <th>130</th>\n",
              "      <td>Micronesia</td>\n",
              "      <td>Australia/Oceania</td>\n",
              "      <td>1</td>\n",
              "      <td>NaN</td>\n",
              "      <td>1.0</td>\n",
              "      <td>0.0</td>\n",
              "      <td>9</td>\n",
              "      <td>NaN</td>\n",
              "      <td>NaN</td>\n",
              "      <td>NaN</td>\n",
              "      <td>116844</td>\n",
              "    </tr>\n",
              "    <tr>\n",
              "      <th>144</th>\n",
              "      <td>Nicaragua</td>\n",
              "      <td>North America</td>\n",
              "      <td>17526</td>\n",
              "      <td>213.0</td>\n",
              "      <td>4225.0</td>\n",
              "      <td>13088.0</td>\n",
              "      <td>2599</td>\n",
              "      <td>32.0</td>\n",
              "      <td>NaN</td>\n",
              "      <td>NaN</td>\n",
              "      <td>6743566</td>\n",
              "    </tr>\n",
              "    <tr>\n",
              "      <th>153</th>\n",
              "      <td>Peru</td>\n",
              "      <td>South America</td>\n",
              "      <td>2318543</td>\n",
              "      <td>202904.0</td>\n",
              "      <td>NaN</td>\n",
              "      <td>NaN</td>\n",
              "      <td>68870</td>\n",
              "      <td>6027.0</td>\n",
              "      <td>21999418.0</td>\n",
              "      <td>653475.0</td>\n",
              "      <td>33665283</td>\n",
              "    </tr>\n",
              "    <tr>\n",
              "      <th>162</th>\n",
              "      <td>Saint Barthelemy</td>\n",
              "      <td>North America</td>\n",
              "      <td>1895</td>\n",
              "      <td>6.0</td>\n",
              "      <td>NaN</td>\n",
              "      <td>NaN</td>\n",
              "      <td>190970</td>\n",
              "      <td>605.0</td>\n",
              "      <td>56491.0</td>\n",
              "      <td>5692936.0</td>\n",
              "      <td>9923</td>\n",
              "    </tr>\n",
              "    <tr>\n",
              "      <th>163</th>\n",
              "      <td>Saint Helena</td>\n",
              "      <td>Africa</td>\n",
              "      <td>2</td>\n",
              "      <td>NaN</td>\n",
              "      <td>2.0</td>\n",
              "      <td>0.0</td>\n",
              "      <td>328</td>\n",
              "      <td>NaN</td>\n",
              "      <td>NaN</td>\n",
              "      <td>NaN</td>\n",
              "      <td>6104</td>\n",
              "    </tr>\n",
              "    <tr>\n",
              "      <th>167</th>\n",
              "      <td>Saint Pierre And Miquelon</td>\n",
              "      <td>North America</td>\n",
              "      <td>113</td>\n",
              "      <td>NaN</td>\n",
              "      <td>97.0</td>\n",
              "      <td>16.0</td>\n",
              "      <td>19649</td>\n",
              "      <td>NaN</td>\n",
              "      <td>14402.0</td>\n",
              "      <td>2504260.0</td>\n",
              "      <td>5751</td>\n",
              "    </tr>\n",
              "    <tr>\n",
              "      <th>169</th>\n",
              "      <td>Samoa</td>\n",
              "      <td>Australia/Oceania</td>\n",
              "      <td>3</td>\n",
              "      <td>NaN</td>\n",
              "      <td>3.0</td>\n",
              "      <td>0.0</td>\n",
              "      <td>15</td>\n",
              "      <td>NaN</td>\n",
              "      <td>NaN</td>\n",
              "      <td>NaN</td>\n",
              "      <td>200406</td>\n",
              "    </tr>\n",
              "    <tr>\n",
              "      <th>175</th>\n",
              "      <td>Seychelles</td>\n",
              "      <td>Africa</td>\n",
              "      <td>26255</td>\n",
              "      <td>134.0</td>\n",
              "      <td>24303.0</td>\n",
              "      <td>1818.0</td>\n",
              "      <td>264489</td>\n",
              "      <td>1350.0</td>\n",
              "      <td>NaN</td>\n",
              "      <td>NaN</td>\n",
              "      <td>99267</td>\n",
              "    </tr>\n",
              "    <tr>\n",
              "      <th>176</th>\n",
              "      <td>Sierra Leone</td>\n",
              "      <td>Africa</td>\n",
              "      <td>7352</td>\n",
              "      <td>123.0</td>\n",
              "      <td>NaN</td>\n",
              "      <td>NaN</td>\n",
              "      <td>894</td>\n",
              "      <td>15.0</td>\n",
              "      <td>259958.0</td>\n",
              "      <td>31618.0</td>\n",
              "      <td>8221745</td>\n",
              "    </tr>\n",
              "    <tr>\n",
              "      <th>181</th>\n",
              "      <td>Solomon Islands</td>\n",
              "      <td>Australia/Oceania</td>\n",
              "      <td>24</td>\n",
              "      <td>NaN</td>\n",
              "      <td>20.0</td>\n",
              "      <td>4.0</td>\n",
              "      <td>34</td>\n",
              "      <td>NaN</td>\n",
              "      <td>4500.0</td>\n",
              "      <td>6318.0</td>\n",
              "      <td>712289</td>\n",
              "    </tr>\n",
              "    <tr>\n",
              "      <th>196</th>\n",
              "      <td>Tajikistan</td>\n",
              "      <td>Asia</td>\n",
              "      <td>17095</td>\n",
              "      <td>124.0</td>\n",
              "      <td>16966.0</td>\n",
              "      <td>5.0</td>\n",
              "      <td>1734</td>\n",
              "      <td>13.0</td>\n",
              "      <td>NaN</td>\n",
              "      <td>NaN</td>\n",
              "      <td>9860805</td>\n",
              "    </tr>\n",
              "    <tr>\n",
              "      <th>197</th>\n",
              "      <td>Tanzania</td>\n",
              "      <td>Africa</td>\n",
              "      <td>30564</td>\n",
              "      <td>740.0</td>\n",
              "      <td>NaN</td>\n",
              "      <td>NaN</td>\n",
              "      <td>491</td>\n",
              "      <td>12.0</td>\n",
              "      <td>NaN</td>\n",
              "      <td>NaN</td>\n",
              "      <td>62299375</td>\n",
              "    </tr>\n",
              "    <tr>\n",
              "      <th>201</th>\n",
              "      <td>Tonga</td>\n",
              "      <td>Australia/Oceania</td>\n",
              "      <td>1</td>\n",
              "      <td>NaN</td>\n",
              "      <td>1.0</td>\n",
              "      <td>0.0</td>\n",
              "      <td>9</td>\n",
              "      <td>NaN</td>\n",
              "      <td>NaN</td>\n",
              "      <td>NaN</td>\n",
              "      <td>107504</td>\n",
              "    </tr>\n",
              "    <tr>\n",
              "      <th>217</th>\n",
              "      <td>Western Sahara</td>\n",
              "      <td>Africa</td>\n",
              "      <td>10</td>\n",
              "      <td>1.0</td>\n",
              "      <td>8.0</td>\n",
              "      <td>1.0</td>\n",
              "      <td>16</td>\n",
              "      <td>2.0</td>\n",
              "      <td>NaN</td>\n",
              "      <td>NaN</td>\n",
              "      <td>619489</td>\n",
              "    </tr>\n",
              "  </tbody>\n",
              "</table>\n",
              "</div>\n",
              "      <button class=\"colab-df-convert\" onclick=\"convertToInteractive('df-636131ea-0ee8-41ca-92c3-e1ace8c7b214')\"\n",
              "              title=\"Convert this dataframe to an interactive table.\"\n",
              "              style=\"display:none;\">\n",
              "        \n",
              "  <svg xmlns=\"http://www.w3.org/2000/svg\" height=\"24px\"viewBox=\"0 0 24 24\"\n",
              "       width=\"24px\">\n",
              "    <path d=\"M0 0h24v24H0V0z\" fill=\"none\"/>\n",
              "    <path d=\"M18.56 5.44l.94 2.06.94-2.06 2.06-.94-2.06-.94-.94-2.06-.94 2.06-2.06.94zm-11 1L8.5 8.5l.94-2.06 2.06-.94-2.06-.94L8.5 2.5l-.94 2.06-2.06.94zm10 10l.94 2.06.94-2.06 2.06-.94-2.06-.94-.94-2.06-.94 2.06-2.06.94z\"/><path d=\"M17.41 7.96l-1.37-1.37c-.4-.4-.92-.59-1.43-.59-.52 0-1.04.2-1.43.59L10.3 9.45l-7.72 7.72c-.78.78-.78 2.05 0 2.83L4 21.41c.39.39.9.59 1.41.59.51 0 1.02-.2 1.41-.59l7.78-7.78 2.81-2.81c.8-.78.8-2.07 0-2.86zM5.41 20L4 18.59l7.72-7.72 1.47 1.35L5.41 20z\"/>\n",
              "  </svg>\n",
              "      </button>\n",
              "      \n",
              "  <style>\n",
              "    .colab-df-container {\n",
              "      display:flex;\n",
              "      flex-wrap:wrap;\n",
              "      gap: 12px;\n",
              "    }\n",
              "\n",
              "    .colab-df-convert {\n",
              "      background-color: #E8F0FE;\n",
              "      border: none;\n",
              "      border-radius: 50%;\n",
              "      cursor: pointer;\n",
              "      display: none;\n",
              "      fill: #1967D2;\n",
              "      height: 32px;\n",
              "      padding: 0 0 0 0;\n",
              "      width: 32px;\n",
              "    }\n",
              "\n",
              "    .colab-df-convert:hover {\n",
              "      background-color: #E2EBFA;\n",
              "      box-shadow: 0px 1px 2px rgba(60, 64, 67, 0.3), 0px 1px 3px 1px rgba(60, 64, 67, 0.15);\n",
              "      fill: #174EA6;\n",
              "    }\n",
              "\n",
              "    [theme=dark] .colab-df-convert {\n",
              "      background-color: #3B4455;\n",
              "      fill: #D2E3FC;\n",
              "    }\n",
              "\n",
              "    [theme=dark] .colab-df-convert:hover {\n",
              "      background-color: #434B5C;\n",
              "      box-shadow: 0px 1px 3px 1px rgba(0, 0, 0, 0.15);\n",
              "      filter: drop-shadow(0px 1px 2px rgba(0, 0, 0, 0.3));\n",
              "      fill: #FFFFFF;\n",
              "    }\n",
              "  </style>\n",
              "\n",
              "      <script>\n",
              "        const buttonEl =\n",
              "          document.querySelector('#df-636131ea-0ee8-41ca-92c3-e1ace8c7b214 button.colab-df-convert');\n",
              "        buttonEl.style.display =\n",
              "          google.colab.kernel.accessAllowed ? 'block' : 'none';\n",
              "\n",
              "        async function convertToInteractive(key) {\n",
              "          const element = document.querySelector('#df-636131ea-0ee8-41ca-92c3-e1ace8c7b214');\n",
              "          const dataTable =\n",
              "            await google.colab.kernel.invokeFunction('convertToInteractive',\n",
              "                                                     [key], {});\n",
              "          if (!dataTable) return;\n",
              "\n",
              "          const docLinkHtml = 'Like what you see? Visit the ' +\n",
              "            '<a target=\"_blank\" href=https://colab.research.google.com/notebooks/data_table.ipynb>data table notebook</a>'\n",
              "            + ' to learn more about interactive tables.';\n",
              "          element.innerHTML = '';\n",
              "          dataTable['output_type'] = 'display_data';\n",
              "          await google.colab.output.renderOutput(dataTable, element);\n",
              "          const docLink = document.createElement('div');\n",
              "          docLink.innerHTML = docLinkHtml;\n",
              "          element.appendChild(docLink);\n",
              "        }\n",
              "      </script>\n",
              "    </div>\n",
              "  </div>\n",
              "  "
            ],
            "text/plain": [
              "                       country  ... population\n",
              "27      British Virgin Islands  ...      30535\n",
              "43             China Macao Sar  ...     662699\n",
              "46                     Comoros  ...     897548\n",
              "68   Falkland Islands Malvinas  ...       3633\n",
              "73            French Polynesia  ...     283361\n",
              "89                    Holy See  ...        804\n",
              "124           Marshall Islands  ...      59793\n",
              "130                 Micronesia  ...     116844\n",
              "144                  Nicaragua  ...    6743566\n",
              "153                       Peru  ...   33665283\n",
              "162           Saint Barthelemy  ...       9923\n",
              "163               Saint Helena  ...       6104\n",
              "167  Saint Pierre And Miquelon  ...       5751\n",
              "169                      Samoa  ...     200406\n",
              "175                 Seychelles  ...      99267\n",
              "176               Sierra Leone  ...    8221745\n",
              "181            Solomon Islands  ...     712289\n",
              "196                 Tajikistan  ...    9860805\n",
              "197                   Tanzania  ...   62299375\n",
              "201                      Tonga  ...     107504\n",
              "217             Western Sahara  ...     619489\n",
              "\n",
              "[21 rows x 11 columns]"
            ]
          },
          "metadata": {},
          "execution_count": 6
        }
      ]
    },
    {
      "cell_type": "code",
      "source": [
        "##droping all the countries having nan values\n",
        "world_summ_cleaned = world_summ_cleaned.dropna(axis=0, how=\"any\", inplace=False)"
      ],
      "metadata": {
        "id": "IZsA9ZD_0pP5"
      },
      "execution_count": null,
      "outputs": []
    },
    {
      "cell_type": "code",
      "source": [
        "world_summ_cleaned.head()"
      ],
      "metadata": {
        "colab": {
          "base_uri": "https://localhost:8080/",
          "height": 211
        },
        "id": "Jdt_mJGNiZUG",
        "outputId": "577c9a33-715e-4df9-fe9c-bd90180399c5"
      },
      "execution_count": null,
      "outputs": [
        {
          "output_type": "execute_result",
          "data": {
            "application/vnd.google.colaboratory.module+javascript": "\n      import \"https://ssl.gstatic.com/colaboratory/data_table/81f25a011006ed3d/data_table.js\";\n\n      window.createDataTable({\n        data: [[{\n            'v': 0,\n            'f': \"0\",\n        },\n\"Afghanistan\",\n\"Asia\",\n{\n            'v': 158275,\n            'f': \"158275\",\n        },\n{\n            'v': 7367.0,\n            'f': \"7367.0\",\n        },\n{\n            'v': 145750.0,\n            'f': \"145750.0\",\n        },\n{\n            'v': 5158.0,\n            'f': \"5158.0\",\n        },\n{\n            'v': 3932,\n            'f': \"3932\",\n        },\n{\n            'v': 183.0,\n            'f': \"183.0\",\n        },\n{\n            'v': 826810.0,\n            'f': \"826810.0\",\n        },\n{\n            'v': 20541.0,\n            'f': \"20541.0\",\n        },\n{\n            'v': 40250878,\n            'f': \"40250878\",\n        }],\n [{\n            'v': 1,\n            'f': \"1\",\n        },\n\"Albania\",\n\"Europe\",\n{\n            'v': 213257,\n            'f': \"213257\",\n        },\n{\n            'v': 3228.0,\n            'f': \"3228.0\",\n        },\n{\n            'v': 202077.0,\n            'f': \"202077.0\",\n        },\n{\n            'v': 7952.0,\n            'f': \"7952.0\",\n        },\n{\n            'v': 74227,\n            'f': \"74227\",\n        },\n{\n            'v': 1124.0,\n            'f': \"1124.0\",\n        },\n{\n            'v': 1495002.0,\n            'f': \"1495002.0\",\n        },\n{\n            'v': 520354.0,\n            'f': \"520354.0\",\n        },\n{\n            'v': 2873049,\n            'f': \"2873049\",\n        }],\n [{\n            'v': 2,\n            'f': \"2\",\n        },\n\"Algeria\",\n\"Africa\",\n{\n            'v': 220415,\n            'f': \"220415\",\n        },\n{\n            'v': 6310.0,\n            'f': \"6310.0\",\n        },\n{\n            'v': 151347.0,\n            'f': \"151347.0\",\n        },\n{\n            'v': 62758.0,\n            'f': \"62758.0\",\n        },\n{\n            'v': 4893,\n            'f': \"4893\",\n        },\n{\n            'v': 140.0,\n            'f': \"140.0\",\n        },\n{\n            'v': 230861.0,\n            'f': \"230861.0\",\n        },\n{\n            'v': 5125.0,\n            'f': \"5125.0\",\n        },\n{\n            'v': 45046063,\n            'f': \"45046063\",\n        }],\n [{\n            'v': 3,\n            'f': \"3\",\n        },\n\"Andorra\",\n\"Europe\",\n{\n            'v': 25289,\n            'f': \"25289\",\n        },\n{\n            'v': 141.0,\n            'f': \"141.0\",\n        },\n{\n            'v': 21511.0,\n            'f': \"21511.0\",\n        },\n{\n            'v': 3637.0,\n            'f': \"3637.0\",\n        },\n{\n            'v': 326512,\n            'f': \"326512\",\n        },\n{\n            'v': 1820.0,\n            'f': \"1820.0\",\n        },\n{\n            'v': 249838.0,\n            'f': \"249838.0\",\n        },\n{\n            'v': 3225714.0,\n            'f': \"3225714.0\",\n        },\n{\n            'v': 77452,\n            'f': \"77452\",\n        }],\n [{\n            'v': 4,\n            'f': \"4\",\n        },\n\"Angola\",\n\"Africa\",\n{\n            'v': 86636,\n            'f': \"86636\",\n        },\n{\n            'v': 1789.0,\n            'f': \"1789.0\",\n        },\n{\n            'v': 67477.0,\n            'f': \"67477.0\",\n        },\n{\n            'v': 17370.0,\n            'f': \"17370.0\",\n        },\n{\n            'v': 2518,\n            'f': \"2518\",\n        },\n{\n            'v': 52.0,\n            'f': \"52.0\",\n        },\n{\n            'v': 1296669.0,\n            'f': \"1296669.0\",\n        },\n{\n            'v': 37686.0,\n            'f': \"37686.0\",\n        },\n{\n            'v': 34407243,\n            'f': \"34407243\",\n        }]],\n        columns: [[\"number\", \"index\"], [\"string\", \"country\"], [\"string\", \"continent\"], [\"number\", \"total_confirmed\"], [\"number\", \"total_deaths\"], [\"number\", \"total_recovered\"], [\"number\", \"active_cases\"], [\"number\", \"total_cases_per_1m_population\"], [\"number\", \"total_deaths_per_1m_population\"], [\"number\", \"total_tests\"], [\"number\", \"total_tests_per_1m_population\"], [\"number\", \"population\"]],\n        columnOptions: [{\"width\": \"1px\", \"className\": \"index_column\"}],\n        rowsPerPage: 25,\n        helpUrl: \"https://colab.research.google.com/notebooks/data_table.ipynb\",\n        suppressOutputScrolling: true,\n        minimumWidth: undefined,\n      });\n    ",
            "text/html": [
              "\n",
              "  <div id=\"df-a3f6a236-e7e2-48dc-8123-6bfdea7a71f9\">\n",
              "    <div class=\"colab-df-container\">\n",
              "      <div>\n",
              "<style scoped>\n",
              "    .dataframe tbody tr th:only-of-type {\n",
              "        vertical-align: middle;\n",
              "    }\n",
              "\n",
              "    .dataframe tbody tr th {\n",
              "        vertical-align: top;\n",
              "    }\n",
              "\n",
              "    .dataframe thead th {\n",
              "        text-align: right;\n",
              "    }\n",
              "</style>\n",
              "<table border=\"1\" class=\"dataframe\">\n",
              "  <thead>\n",
              "    <tr style=\"text-align: right;\">\n",
              "      <th></th>\n",
              "      <th>country</th>\n",
              "      <th>continent</th>\n",
              "      <th>total_confirmed</th>\n",
              "      <th>total_deaths</th>\n",
              "      <th>total_recovered</th>\n",
              "      <th>active_cases</th>\n",
              "      <th>total_cases_per_1m_population</th>\n",
              "      <th>total_deaths_per_1m_population</th>\n",
              "      <th>total_tests</th>\n",
              "      <th>total_tests_per_1m_population</th>\n",
              "      <th>population</th>\n",
              "    </tr>\n",
              "  </thead>\n",
              "  <tbody>\n",
              "    <tr>\n",
              "      <th>0</th>\n",
              "      <td>Afghanistan</td>\n",
              "      <td>Asia</td>\n",
              "      <td>158275</td>\n",
              "      <td>7367.0</td>\n",
              "      <td>145750.0</td>\n",
              "      <td>5158.0</td>\n",
              "      <td>3932</td>\n",
              "      <td>183.0</td>\n",
              "      <td>826810.0</td>\n",
              "      <td>20541.0</td>\n",
              "      <td>40250878</td>\n",
              "    </tr>\n",
              "    <tr>\n",
              "      <th>1</th>\n",
              "      <td>Albania</td>\n",
              "      <td>Europe</td>\n",
              "      <td>213257</td>\n",
              "      <td>3228.0</td>\n",
              "      <td>202077.0</td>\n",
              "      <td>7952.0</td>\n",
              "      <td>74227</td>\n",
              "      <td>1124.0</td>\n",
              "      <td>1495002.0</td>\n",
              "      <td>520354.0</td>\n",
              "      <td>2873049</td>\n",
              "    </tr>\n",
              "    <tr>\n",
              "      <th>2</th>\n",
              "      <td>Algeria</td>\n",
              "      <td>Africa</td>\n",
              "      <td>220415</td>\n",
              "      <td>6310.0</td>\n",
              "      <td>151347.0</td>\n",
              "      <td>62758.0</td>\n",
              "      <td>4893</td>\n",
              "      <td>140.0</td>\n",
              "      <td>230861.0</td>\n",
              "      <td>5125.0</td>\n",
              "      <td>45046063</td>\n",
              "    </tr>\n",
              "    <tr>\n",
              "      <th>3</th>\n",
              "      <td>Andorra</td>\n",
              "      <td>Europe</td>\n",
              "      <td>25289</td>\n",
              "      <td>141.0</td>\n",
              "      <td>21511.0</td>\n",
              "      <td>3637.0</td>\n",
              "      <td>326512</td>\n",
              "      <td>1820.0</td>\n",
              "      <td>249838.0</td>\n",
              "      <td>3225714.0</td>\n",
              "      <td>77452</td>\n",
              "    </tr>\n",
              "    <tr>\n",
              "      <th>4</th>\n",
              "      <td>Angola</td>\n",
              "      <td>Africa</td>\n",
              "      <td>86636</td>\n",
              "      <td>1789.0</td>\n",
              "      <td>67477.0</td>\n",
              "      <td>17370.0</td>\n",
              "      <td>2518</td>\n",
              "      <td>52.0</td>\n",
              "      <td>1296669.0</td>\n",
              "      <td>37686.0</td>\n",
              "      <td>34407243</td>\n",
              "    </tr>\n",
              "  </tbody>\n",
              "</table>\n",
              "</div>\n",
              "      <button class=\"colab-df-convert\" onclick=\"convertToInteractive('df-a3f6a236-e7e2-48dc-8123-6bfdea7a71f9')\"\n",
              "              title=\"Convert this dataframe to an interactive table.\"\n",
              "              style=\"display:none;\">\n",
              "        \n",
              "  <svg xmlns=\"http://www.w3.org/2000/svg\" height=\"24px\"viewBox=\"0 0 24 24\"\n",
              "       width=\"24px\">\n",
              "    <path d=\"M0 0h24v24H0V0z\" fill=\"none\"/>\n",
              "    <path d=\"M18.56 5.44l.94 2.06.94-2.06 2.06-.94-2.06-.94-.94-2.06-.94 2.06-2.06.94zm-11 1L8.5 8.5l.94-2.06 2.06-.94-2.06-.94L8.5 2.5l-.94 2.06-2.06.94zm10 10l.94 2.06.94-2.06 2.06-.94-2.06-.94-.94-2.06-.94 2.06-2.06.94z\"/><path d=\"M17.41 7.96l-1.37-1.37c-.4-.4-.92-.59-1.43-.59-.52 0-1.04.2-1.43.59L10.3 9.45l-7.72 7.72c-.78.78-.78 2.05 0 2.83L4 21.41c.39.39.9.59 1.41.59.51 0 1.02-.2 1.41-.59l7.78-7.78 2.81-2.81c.8-.78.8-2.07 0-2.86zM5.41 20L4 18.59l7.72-7.72 1.47 1.35L5.41 20z\"/>\n",
              "  </svg>\n",
              "      </button>\n",
              "      \n",
              "  <style>\n",
              "    .colab-df-container {\n",
              "      display:flex;\n",
              "      flex-wrap:wrap;\n",
              "      gap: 12px;\n",
              "    }\n",
              "\n",
              "    .colab-df-convert {\n",
              "      background-color: #E8F0FE;\n",
              "      border: none;\n",
              "      border-radius: 50%;\n",
              "      cursor: pointer;\n",
              "      display: none;\n",
              "      fill: #1967D2;\n",
              "      height: 32px;\n",
              "      padding: 0 0 0 0;\n",
              "      width: 32px;\n",
              "    }\n",
              "\n",
              "    .colab-df-convert:hover {\n",
              "      background-color: #E2EBFA;\n",
              "      box-shadow: 0px 1px 2px rgba(60, 64, 67, 0.3), 0px 1px 3px 1px rgba(60, 64, 67, 0.15);\n",
              "      fill: #174EA6;\n",
              "    }\n",
              "\n",
              "    [theme=dark] .colab-df-convert {\n",
              "      background-color: #3B4455;\n",
              "      fill: #D2E3FC;\n",
              "    }\n",
              "\n",
              "    [theme=dark] .colab-df-convert:hover {\n",
              "      background-color: #434B5C;\n",
              "      box-shadow: 0px 1px 3px 1px rgba(0, 0, 0, 0.15);\n",
              "      filter: drop-shadow(0px 1px 2px rgba(0, 0, 0, 0.3));\n",
              "      fill: #FFFFFF;\n",
              "    }\n",
              "  </style>\n",
              "\n",
              "      <script>\n",
              "        const buttonEl =\n",
              "          document.querySelector('#df-a3f6a236-e7e2-48dc-8123-6bfdea7a71f9 button.colab-df-convert');\n",
              "        buttonEl.style.display =\n",
              "          google.colab.kernel.accessAllowed ? 'block' : 'none';\n",
              "\n",
              "        async function convertToInteractive(key) {\n",
              "          const element = document.querySelector('#df-a3f6a236-e7e2-48dc-8123-6bfdea7a71f9');\n",
              "          const dataTable =\n",
              "            await google.colab.kernel.invokeFunction('convertToInteractive',\n",
              "                                                     [key], {});\n",
              "          if (!dataTable) return;\n",
              "\n",
              "          const docLinkHtml = 'Like what you see? Visit the ' +\n",
              "            '<a target=\"_blank\" href=https://colab.research.google.com/notebooks/data_table.ipynb>data table notebook</a>'\n",
              "            + ' to learn more about interactive tables.';\n",
              "          element.innerHTML = '';\n",
              "          dataTable['output_type'] = 'display_data';\n",
              "          await google.colab.output.renderOutput(dataTable, element);\n",
              "          const docLink = document.createElement('div');\n",
              "          docLink.innerHTML = docLinkHtml;\n",
              "          element.appendChild(docLink);\n",
              "        }\n",
              "      </script>\n",
              "    </div>\n",
              "  </div>\n",
              "  "
            ],
            "text/plain": [
              "       country continent  ...  total_tests_per_1m_population  population\n",
              "0  Afghanistan      Asia  ...                        20541.0    40250878\n",
              "1      Albania    Europe  ...                       520354.0     2873049\n",
              "2      Algeria    Africa  ...                         5125.0    45046063\n",
              "3      Andorra    Europe  ...                      3225714.0       77452\n",
              "4       Angola    Africa  ...                        37686.0    34407243\n",
              "\n",
              "[5 rows x 11 columns]"
            ]
          },
          "metadata": {},
          "execution_count": 8
        }
      ]
    },
    {
      "cell_type": "markdown",
      "source": [
        "##Looking and plotting the cleaned data"
      ],
      "metadata": {
        "id": "483fDf1_2bjF"
      }
    },
    {
      "cell_type": "markdown",
      "source": [
        "calculating the total confirmed, recovered, actice cases throught the world"
      ],
      "metadata": {
        "id": "qK40ro9O3XpN"
      }
    },
    {
      "cell_type": "code",
      "source": [
        "print(f\"Total Confirmed Cases So far {world_summ.total_confirmed.sum()}\")\n",
        "print(f\"Total Recovered Cases So far {world_summ.total_recovered.sum()}\")\n",
        "print(f\"Total Active Cases So far {world_summ.active_cases.sum()}\")\n",
        "print(f\"Total Deaths so far {world_summ.total_deaths.sum()}\")\n",
        "print(f\"Total Population {world_summ.population.sum()}\")"
      ],
      "metadata": {
        "colab": {
          "base_uri": "https://localhost:8080/"
        },
        "id": "s0QVsH2R3W7a",
        "outputId": "cc1d5088-7437-40ea-8afc-b271bd9c83a6"
      },
      "execution_count": null,
      "outputs": [
        {
          "output_type": "stream",
          "name": "stdout",
          "text": [
            "Total Confirmed Cases So far 299040599\n",
            "Total Recovered Cases So far 255368603.0\n",
            "Total Active Cases So far 35982432.0\n",
            "Total Deaths so far 5485341.0\n",
            "Total Population 7873291916\n"
          ]
        }
      ]
    },
    {
      "cell_type": "code",
      "source": [
        "print(f\"recovery rate at global level {255368603/299040599}\")\n",
        "print(f\"death rate at global level {5485341/299040599}\")\n",
        "print(f\"positivity rate at global level {299040599/world_summ.total_tests.sum()}\")"
      ],
      "metadata": {
        "colab": {
          "base_uri": "https://localhost:8080/"
        },
        "id": "rjoBqv8avi6D",
        "outputId": "21303f82-f3da-41ce-cc9e-44359e1976e3"
      },
      "execution_count": null,
      "outputs": [
        {
          "output_type": "stream",
          "name": "stdout",
          "text": [
            "recovery rate at global level 0.8539596424497531\n",
            "death rate at global level 0.018343131395346088\n",
            "positivity rate at global level 0.06308854068105743\n"
          ]
        }
      ]
    },
    {
      "cell_type": "code",
      "source": [
        "top_20 = world_summ.groupby('country')['total_confirmed'].max().sort_values(ascending = False).head(20)\n",
        "top_20.plot(x='country',y=['total_confirmed'],kind = \"bar\",figsize = (12 , 6),color = \"brown\",title=\"Total confirmed Cases\")\n",
        "plt.xticks(fontsize=15, rotation=45)\n",
        "plt.yticks(fontsize=15)"
      ],
      "metadata": {
        "colab": {
          "base_uri": "https://localhost:8080/",
          "height": 506
        },
        "id": "CXGXLFGNYtay",
        "outputId": "f46f7635-7bb7-4c3d-bb13-f2574da7d341"
      },
      "execution_count": null,
      "outputs": [
        {
          "output_type": "execute_result",
          "data": {
            "text/plain": [
              "(array([       0., 10000000., 20000000., 30000000., 40000000., 50000000.,\n",
              "        60000000., 70000000.]), <a list of 8 Text major ticklabel objects>)"
            ]
          },
          "metadata": {},
          "execution_count": 11
        },
        {
          "output_type": "display_data",
          "data": {
            "image/png": "[encoded data removed]",
            "text/plain": [
              "<Figure size 864x432 with 1 Axes>"
            ]
          },
          "metadata": {
            "needs_background": "light"
          }
        }
      ]
    },
    {
      "cell_type": "markdown",
      "source": [
        "plotting worldwide distribution of active and recovred cases per million population which gives some idea how the corona cases are spread worldwide"
      ],
      "metadata": {
        "id": "ufeTz_yuh1f6"
      }
    },
    {
      "cell_type": "code",
      "source": [
        "world_summ['log(Total Confirmed)'] = np.log2(world_summ['total_confirmed'])\n",
        "world_summ['log(Total Recovered)'] = np.log2(world_summ['total_recovered'])\n",
        "\n",
        "fig = px.choropleth(world_summ,\n",
        "                    locations=\"country\",\n",
        "                    color=\"log(Total Confirmed)\",\n",
        "                    locationmode = 'country names',\n",
        "                    color_continuous_scale='reds',\n",
        "                    title = '<b>Confirmed Cases Around The Globe</b>')\n",
        "fig.show()\n",
        "fig = px.choropleth(world_summ,\n",
        "                    locations=\"country\",\n",
        "                    color=\"log(Total Recovered)\",\n",
        "                    locationmode = 'country names',\n",
        "                    color_continuous_scale='greens',\n",
        "                    title = '<b>Recovered Cases Around The Globe</b>')\n",
        "fig.show()"
      ],
      "metadata": {
        "colab": {
          "base_uri": "https://localhost:8080/",
          "height": 1000
        },
        "id": "NjeP4eqFMvOJ",
        "outputId": "84ba7764-5a53-487b-dba5-ab42e151cb08"
      },
      "execution_count": null,
      "outputs": [
        {
          "output_type": "display_data",
          "data": {
            "text/html": [
              "<html>\n",
              "<head><meta charset=\"utf-8\" /></head>\n",
              "<body>\n",
              "    <div>            <script src=\"https://cdnjs.cloudflare.com/ajax/libs/mathjax/2.7.5/MathJax.js?config=TeX-AMS-MML_SVG\"></script><script type=\"text/javascript\">if (window.MathJax) {MathJax.Hub.Config({SVG: {font: \"STIX-Web\"}});}</script>                <script type=\"text/javascript\">window.PlotlyConfig = {MathJaxConfig: 'local'};</script>\n",
              "        <script src=\"https://cdn.plot.ly/plotly-2.8.3.min.js\"></script>                <div id=\"7eaa1454-0c75-4304-96cf-4fad630372dc\" class=\"plotly-graph-div\" style=\"height:525px; width:100%;\"></div>            <script type=\"text/javascript\">                                    window.PLOTLYENV=window.PLOTLYENV || {};                                    if (document.getElementById(\"7eaa1454-0c75-4304-96cf-4fad630372dc\")) {                    Plotly.newPlot(                        \"7eaa1454-0c75-4304-96cf-4fad630372dc\",                        [{\"coloraxis\":\"coloraxis\",\"geo\":\"geo\",\"hovertemplate\":\"country=%{location}<br>log(Total Confirmed)=%{z}<extra></extra>\",\"locationmode\":\"country names\",\"locations\":[\"Afghanistan\",\"Albania\",\"Algeria\",\"Andorra\",\"Angola\",\"Anguilla\",\"Antigua And Barbuda\",\"Argentina\",\"Armenia\",\"Aruba\",\"Australia\",\"Austria\",\"Azerbaijan\",\"Bahamas\",\"Bahrain\",\"Bangladesh\",\"Barbados\",\"Belarus\",\"Belgium\",\"Belize\",\"Benin\",\"Bermuda\",\"Bhutan\",\"Bolivia\",\"Bosnia And Herzegovina\",\"Botswana\",\"Brazil\",\"British Virgin Islands\",\"Brunei Darussalam\",\"Bulgaria\",\"Burkina Faso\",\"Burundi\",\"Cabo Verde\",\"Cambodia\",\"Cameroon\",\"Canada\",\"Caribbean Netherlands\",\"Cayman Islands\",\"Central African Republic\",\"Chad\",\"Channel Islands\",\"Chile\",\"China Hong Kong Sar\",\"China Macao Sar\",\"China\",\"Colombia\",\"Comoros\",\"Congo\",\"Costa Rica\",\"Cote D Ivoire\",\"Croatia\",\"Cuba\",\"Curacao\",\"Cyprus\",\"Czech Republic\",\"Democratic Republic Of The Congo\",\"Denmark\",\"Djibouti\",\"Dominica\",\"Dominican Republic\",\"Ecuador\",\"Egypt\",\"El Salvador\",\"Equatorial Guinea\",\"Eritrea\",\"Estonia\",\"Ethiopia\",\"Faeroe Islands\",\"Falkland Islands Malvinas\",\"Fiji\",\"Finland\",\"France\",\"French Guiana\",\"French Polynesia\",\"Gabon\",\"Gambia\",\"Georgia\",\"Germany\",\"Ghana\",\"Gibraltar\",\"Greece\",\"Greenland\",\"Grenada\",\"Guadeloupe\",\"Guatemala\",\"Guinea Bissau\",\"Guinea\",\"Guyana\",\"Haiti\",\"Holy See\",\"Honduras\",\"Hungary\",\"Iceland\",\"India\",\"Indonesia\",\"Iran\",\"Iraq\",\"Ireland\",\"Isle Of Man\",\"Israel\",\"Italy\",\"Jamaica\",\"Japan\",\"Jordan\",\"Kazakhstan\",\"Kenya\",\"Kuwait\",\"Kyrgyzstan\",\"Laos\",\"Latvia\",\"Lebanon\",\"Lesotho\",\"Liberia\",\"Libya\",\"Liechtenstein\",\"Lithuania\",\"Luxembourg\",\"Macedonia\",\"Madagascar\",\"Malawi\",\"Malaysia\",\"Maldives\",\"Mali\",\"Malta\",\"Marshall Islands\",\"Martinique\",\"Mauritania\",\"Mauritius\",\"Mayotte\",\"Mexico\",\"Micronesia\",\"Moldova\",\"Monaco\",\"Mongolia\",\"Montenegro\",\"Montserrat\",\"Morocco\",\"Mozambique\",\"Myanmar\",\"Namibia\",\"Nepal\",\"Netherlands\",\"New Caledonia\",\"New Zealand\",\"Nicaragua\",\"Niger\",\"Nigeria\",\"Norway\",\"Oman\",\"Pakistan\",\"Panama\",\"Papua New Guinea\",\"Paraguay\",\"Peru\",\"Philippines\",\"Poland\",\"Portugal\",\"Qatar\",\"Reunion\",\"Romania\",\"Russia\",\"Rwanda\",\"Saint Barthelemy\",\"Saint Helena\",\"Saint Kitts And Nevis\",\"Saint Lucia\",\"Saint Martin\",\"Saint Pierre And Miquelon\",\"Saint Vincent And The Grenadines\",\"Samoa\",\"San Marino\",\"Sao Tome And Principe\",\"Saudi Arabia\",\"Senegal\",\"Serbia\",\"Seychelles\",\"Sierra Leone\",\"Singapore\",\"Sint Maarten\",\"Slovakia\",\"Slovenia\",\"Solomon Islands\",\"Somalia\",\"South Africa\",\"South Korea\",\"South Sudan\",\"Spain\",\"Sri Lanka\",\"State Of Palestine\",\"Sudan\",\"Suriname\",\"Swaziland\",\"Sweden\",\"Switzerland\",\"Syria\",\"Taiwan\",\"Tajikistan\",\"Tanzania\",\"Thailand\",\"Timor Leste\",\"Togo\",\"Tonga\",\"Trinidad And Tobago\",\"Tunisia\",\"Turkey\",\"Turks And Caicos Islands\",\"Uganda\",\"UK\",\"Ukraine\",\"United Arab Emirates\",\"Uruguay\",\"USA\",\"Uzbekistan\",\"Vanuatu\",\"Venezuela\",\"Viet Nam\",\"Wallis And Futuna Islands\",\"Western Sahara\",\"Yemen\",\"Zambia\",\"Zimbabwe\"],\"name\":\"\",\"z\":[17.27207386999816,17.70223357213297,17.749862882053886,14.626222369355478,16.40267901453885,10.795227966028678,12.131213905086272,22.49611624154977,18.397862610870074,14.563315458886299,19.384931269448973,20.324368458561956,19.240749414406277,14.704606153972572,18.128321637987458,20.600547244197593,14.881161769236098,19.42707340643174,21.055704773412405,15.079651444144783,14.639453768096738,12.759888183221834,11.38316426063511,19.291802477660273,18.181720066489206,17.760544537099126,24.413842757185638,11.876516946565,13.922955991908477,19.544111684689366,14.185882027446677,14.969206622964235,15.489001207171057,16.879308027751943,16.738817964685193,21.208891012219357,11.935901682267588,13.215077914822828,13.604321563877273,12.594091290260412,14.911813274177565,20.793365168745556,13.64745842645492,6.303780748177103,16.653978633629595,22.315516941695304,12.85428402017621,14.377007128591911,19.141740452079866,16.195833549955587,19.507933973435932,19.886342586661446,14.595024318613637,17.52328627891803,21.259713384972923,16.286666046303154,19.774050264298914,13.767770648776704,12.788106545965245,18.743917280577477,19.07744423883147,18.57109341019234,16.89726642819388,13.760304125286382,13.003342220086113,17.919183402172578,18.735906342616158,12.742940950666588,6.392317422778761,15.764068142444568,18.173291624477713,23.38070162772993,15.679067684892827,15.504136201970972,15.379919817646538,13.3409627642517,19.85631609675679,22.81138331769153,17.176007532051884,13.207471955404491,20.439510325208303,11.733015321685963,12.79380649145577,15.774040609461224,19.26894855991069,12.673088192909363,15.028769420523412,15.337970269666402,14.680524355852183,4.754887502163468,18.537499011897587,20.283686381957924,15.104885364094075,25.065349321360614,22.024002341210117,22.56454539288382,20.99910265948296,19.75508153650262,13.759159995926842,20.458409617245934,22.733857962729545,16.583347253023213,20.730119325239446,20.03457196565716,19.917125831950646,18.226402784531892,18.690441376987106,17.49740747382477,16.808599735809945,18.11120190909159,19.510037817061146,14.872626789634394,12.742098869778307,18.581509546430578,12.655530723155643,19.023253511048214,16.725552654324186,17.80208716817186,15.678214987582662,16.24430808274067,21.403097344769733,16.566440592488387,14.478895988769489,15.83058947890359,2.0,15.609784736727907,15.446243304309865,14.543877656812505,14.590528573736403,21.9420884847636,0.0,18.52879746697476,12.4231159101471,18.579231218012445,17.483217468733773,6.491853096329675,19.898853768471046,17.632831942147444,19.02004671053963,17.204189023987166,19.663585899399596,21.631075783212708,13.6640027628865,13.820478162936302,14.097209143550335,12.889884170302828,17.904799239057567,18.682970587927066,18.22672733394493,20.309911498372347,18.95384120573115,15.147085649588444,18.846696284493998,21.14478705269458,21.462097324487164,21.994827130146497,20.51650798674001,17.989721561758508,16.391377862315146,20.80172966957736,23.337737852448623,16.837664886976835,10.887982133058454,1.0,11.768597882194374,13.79685079526716,12.053247125912426,6.820178962415188,12.560093957642495,1.584962500721156,13.051038962117408,11.977995368612962,19.117181431666523,16.23765811867969,20.340231524608047,14.680304575215601,12.843921051289035,18.10738567173035,12.537461094633018,19.708405302488398,18.86924440424379,4.584962500721156,14.566351396838362,21.736735531829705,19.318472198389742,13.95210419527352,22.72285463207285,19.170509471174565,18.751151741656393,15.528698283574188,15.756973226165448,16.029136219285494,20.391280305911568,20.466155145477586,15.621622654550965,14.069953179485543,14.061286802320756,14.89954574499535,21.098444661809374,14.276415241892678,14.988817803327619,0.0,16.52363852369232,19.48419943011058,23.21235581670083,11.798471801101618,17.197495082428556,23.740475099624412,21.814912158221162,19.568639007991955,18.698582592418,25.80944005543922,17.606079840874997,2.807354922057604,18.765648695543938,20.793699348171163,8.826548487290914,3.321928094887362,13.309476353841106,18.064274376915343,17.74094679137537],\"type\":\"choropleth\"}],                        {\"template\":{\"data\":{\"bar\":[{\"error_x\":{\"color\":\"#2a3f5f\"},\"error_y\":{\"color\":\"#2a3f5f\"},\"marker\":{\"line\":{\"color\":\"#E5ECF6\",\"width\":0.5},\"pattern\":{\"fillmode\":\"overlay\",\"size\":10,\"solidity\":0.2}},\"type\":\"bar\"}],\"barpolar\":[{\"marker\":{\"line\":{\"color\":\"#E5ECF6\",\"width\":0.5},\"pattern\":{\"fillmode\":\"overlay\",\"size\":10,\"solidity\":0.2}},\"type\":\"barpolar\"}],\"carpet\":[{\"aaxis\":{\"endlinecolor\":\"#2a3f5f\",\"gridcolor\":\"white\",\"linecolor\":\"white\",\"minorgridcolor\":\"white\",\"startlinecolor\":\"#2a3f5f\"},\"baxis\":{\"endlinecolor\":\"#2a3f5f\",\"gridcolor\":\"white\",\"linecolor\":\"white\",\"minorgridcolor\":\"white\",\"startlinecolor\":\"#2a3f5f\"},\"type\":\"carpet\"}],\"choropleth\":[{\"colorbar\":{\"outlinewidth\":0,\"ticks\":\"\"},\"type\":\"choropleth\"}],\"contour\":[{\"colorbar\":{\"outlinewidth\":0,\"ticks\":\"\"},\"colorscale\":[[0.0,\"#0d0887\"],[0.1111111111111111,\"#46039f\"],[0.2222222222222222,\"#7201a8\"],[0.3333333333333333,\"#9c179e\"],[0.4444444444444444,\"#bd3786\"],[0.5555555555555556,\"#d8576b\"],[0.6666666666666666,\"#ed7953\"],[0.7777777777777778,\"#fb9f3a\"],[0.8888888888888888,\"#fdca26\"],[1.0,\"#f0f921\"]],\"type\":\"contour\"}],\"contourcarpet\":[{\"colorbar\":{\"outlinewidth\":0,\"ticks\":\"\"},\"type\":\"contourcarpet\"}],\"heatmap\":[{\"colorbar\":{\"outlinewidth\":0,\"ticks\":\"\"},\"colorscale\":[[0.0,\"#0d0887\"],[0.1111111111111111,\"#46039f\"],[0.2222222222222222,\"#7201a8\"],[0.3333333333333333,\"#9c179e\"],[0.4444444444444444,\"#bd3786\"],[0.5555555555555556,\"#d8576b\"],[0.6666666666666666,\"#ed7953\"],[0.7777777777777778,\"#fb9f3a\"],[0.8888888888888888,\"#fdca26\"],[1.0,\"#f0f921\"]],\"type\":\"heatmap\"}],\"heatmapgl\":[{\"colorbar\":{\"outlinewidth\":0,\"ticks\":\"\"},\"colorscale\":[[0.0,\"#0d0887\"],[0.1111111111111111,\"#46039f\"],[0.2222222222222222,\"#7201a8\"],[0.3333333333333333,\"#9c179e\"],[0.4444444444444444,\"#bd3786\"],[0.5555555555555556,\"#d8576b\"],[0.6666666666666666,\"#ed7953\"],[0.7777777777777778,\"#fb9f3a\"],[0.8888888888888888,\"#fdca26\"],[1.0,\"#f0f921\"]],\"type\":\"heatmapgl\"}],\"histogram\":[{\"marker\":{\"pattern\":{\"fillmode\":\"overlay\",\"size\":10,\"solidity\":0.2}},\"type\":\"histogram\"}],\"histogram2d\":[{\"colorbar\":{\"outlinewidth\":0,\"ticks\":\"\"},\"colorscale\":[[0.0,\"#0d0887\"],[0.1111111111111111,\"#46039f\"],[0.2222222222222222,\"#7201a8\"],[0.3333333333333333,\"#9c179e\"],[0.4444444444444444,\"#bd3786\"],[0.5555555555555556,\"#d8576b\"],[0.6666666666666666,\"#ed7953\"],[0.7777777777777778,\"#fb9f3a\"],[0.8888888888888888,\"#fdca26\"],[1.0,\"#f0f921\"]],\"type\":\"histogram2d\"}],\"histogram2dcontour\":[{\"colorbar\":{\"outlinewidth\":0,\"ticks\":\"\"},\"colorscale\":[[0.0,\"#0d0887\"],[0.1111111111111111,\"#46039f\"],[0.2222222222222222,\"#7201a8\"],[0.3333333333333333,\"#9c179e\"],[0.4444444444444444,\"#bd3786\"],[0.5555555555555556,\"#d8576b\"],[0.6666666666666666,\"#ed7953\"],[0.7777777777777778,\"#fb9f3a\"],[0.8888888888888888,\"#fdca26\"],[1.0,\"#f0f921\"]],\"type\":\"histogram2dcontour\"}],\"mesh3d\":[{\"colorbar\":{\"outlinewidth\":0,\"ticks\":\"\"},\"type\":\"mesh3d\"}],\"parcoords\":[{\"line\":{\"colorbar\":{\"outlinewidth\":0,\"ticks\":\"\"}},\"type\":\"parcoords\"}],\"pie\":[{\"automargin\":true,\"type\":\"pie\"}],\"scatter\":[{\"marker\":{\"colorbar\":{\"outlinewidth\":0,\"ticks\":\"\"}},\"type\":\"scatter\"}],\"scatter3d\":[{\"line\":{\"colorbar\":{\"outlinewidth\":0,\"ticks\":\"\"}},\"marker\":{\"colorbar\":{\"outlinewidth\":0,\"ticks\":\"\"}},\"type\":\"scatter3d\"}],\"scattercarpet\":[{\"marker\":{\"colorbar\":{\"outlinewidth\":0,\"ticks\":\"\"}},\"type\":\"scattercarpet\"}],\"scattergeo\":[{\"marker\":{\"colorbar\":{\"outlinewidth\":0,\"ticks\":\"\"}},\"type\":\"scattergeo\"}],\"scattergl\":[{\"marker\":{\"colorbar\":{\"outlinewidth\":0,\"ticks\":\"\"}},\"type\":\"scattergl\"}],\"scattermapbox\":[{\"marker\":{\"colorbar\":{\"outlinewidth\":0,\"ticks\":\"\"}},\"type\":\"scattermapbox\"}],\"scatterpolar\":[{\"marker\":{\"colorbar\":{\"outlinewidth\":0,\"ticks\":\"\"}},\"type\":\"scatterpolar\"}],\"scatterpolargl\":[{\"marker\":{\"colorbar\":{\"outlinewidth\":0,\"ticks\":\"\"}},\"type\":\"scatterpolargl\"}],\"scatterternary\":[{\"marker\":{\"colorbar\":{\"outlinewidth\":0,\"ticks\":\"\"}},\"type\":\"scatterternary\"}],\"surface\":[{\"colorbar\":{\"outlinewidth\":0,\"ticks\":\"\"},\"colorscale\":[[0.0,\"#0d0887\"],[0.1111111111111111,\"#46039f\"],[0.2222222222222222,\"#7201a8\"],[0.3333333333333333,\"#9c179e\"],[0.4444444444444444,\"#bd3786\"],[0.5555555555555556,\"#d8576b\"],[0.6666666666666666,\"#ed7953\"],[0.7777777777777778,\"#fb9f3a\"],[0.8888888888888888,\"#fdca26\"],[1.0,\"#f0f921\"]],\"type\":\"surface\"}],\"table\":[{\"cells\":{\"fill\":{\"color\":\"#EBF0F8\"},\"line\":{\"color\":\"white\"}},\"header\":{\"fill\":{\"color\":\"#C8D4E3\"},\"line\":{\"color\":\"white\"}},\"type\":\"table\"}]},\"layout\":{\"annotationdefaults\":{\"arrowcolor\":\"#2a3f5f\",\"arrowhead\":0,\"arrowwidth\":1},\"autotypenumbers\":\"strict\",\"coloraxis\":{\"colorbar\":{\"outlinewidth\":0,\"ticks\":\"\"}},\"colorscale\":{\"diverging\":[[0,\"#8e0152\"],[0.1,\"#c51b7d\"],[0.2,\"#de77ae\"],[0.3,\"#f1b6da\"],[0.4,\"#fde0ef\"],[0.5,\"#f7f7f7\"],[0.6,\"#e6f5d0\"],[0.7,\"#b8e186\"],[0.8,\"#7fbc41\"],[0.9,\"#4d9221\"],[1,\"#276419\"]],\"sequential\":[[0.0,\"#0d0887\"],[0.1111111111111111,\"#46039f\"],[0.2222222222222222,\"#7201a8\"],[0.3333333333333333,\"#9c179e\"],[0.4444444444444444,\"#bd3786\"],[0.5555555555555556,\"#d8576b\"],[0.6666666666666666,\"#ed7953\"],[0.7777777777777778,\"#fb9f3a\"],[0.8888888888888888,\"#fdca26\"],[1.0,\"#f0f921\"]],\"sequentialminus\":[[0.0,\"#0d0887\"],[0.1111111111111111,\"#46039f\"],[0.2222222222222222,\"#7201a8\"],[0.3333333333333333,\"#9c179e\"],[0.4444444444444444,\"#bd3786\"],[0.5555555555555556,\"#d8576b\"],[0.6666666666666666,\"#ed7953\"],[0.7777777777777778,\"#fb9f3a\"],[0.8888888888888888,\"#fdca26\"],[1.0,\"#f0f921\"]]},\"colorway\":[\"#636efa\",\"#EF553B\",\"#00cc96\",\"#ab63fa\",\"#FFA15A\",\"#19d3f3\",\"#FF6692\",\"#B6E880\",\"#FF97FF\",\"#FECB52\"],\"font\":{\"color\":\"#2a3f5f\"},\"geo\":{\"bgcolor\":\"white\",\"lakecolor\":\"white\",\"landcolor\":\"#E5ECF6\",\"showlakes\":true,\"showland\":true,\"subunitcolor\":\"white\"},\"hoverlabel\":{\"align\":\"left\"},\"hovermode\":\"closest\",\"mapbox\":{\"style\":\"light\"},\"paper_bgcolor\":\"white\",\"plot_bgcolor\":\"#E5ECF6\",\"polar\":{\"angularaxis\":{\"gridcolor\":\"white\",\"linecolor\":\"white\",\"ticks\":\"\"},\"bgcolor\":\"#E5ECF6\",\"radialaxis\":{\"gridcolor\":\"white\",\"linecolor\":\"white\",\"ticks\":\"\"}},\"scene\":{\"xaxis\":{\"backgroundcolor\":\"#E5ECF6\",\"gridcolor\":\"white\",\"gridwidth\":2,\"linecolor\":\"white\",\"showbackground\":true,\"ticks\":\"\",\"zerolinecolor\":\"white\"},\"yaxis\":{\"backgroundcolor\":\"#E5ECF6\",\"gridcolor\":\"white\",\"gridwidth\":2,\"linecolor\":\"white\",\"showbackground\":true,\"ticks\":\"\",\"zerolinecolor\":\"white\"},\"zaxis\":{\"backgroundcolor\":\"#E5ECF6\",\"gridcolor\":\"white\",\"gridwidth\":2,\"linecolor\":\"white\",\"showbackground\":true,\"ticks\":\"\",\"zerolinecolor\":\"white\"}},\"shapedefaults\":{\"line\":{\"color\":\"#2a3f5f\"}},\"ternary\":{\"aaxis\":{\"gridcolor\":\"white\",\"linecolor\":\"white\",\"ticks\":\"\"},\"baxis\":{\"gridcolor\":\"white\",\"linecolor\":\"white\",\"ticks\":\"\"},\"bgcolor\":\"#E5ECF6\",\"caxis\":{\"gridcolor\":\"white\",\"linecolor\":\"white\",\"ticks\":\"\"}},\"title\":{\"x\":0.05},\"xaxis\":{\"automargin\":true,\"gridcolor\":\"white\",\"linecolor\":\"white\",\"ticks\":\"\",\"title\":{\"standoff\":15},\"zerolinecolor\":\"white\",\"zerolinewidth\":2},\"yaxis\":{\"automargin\":true,\"gridcolor\":\"white\",\"linecolor\":\"white\",\"ticks\":\"\",\"title\":{\"standoff\":15},\"zerolinecolor\":\"white\",\"zerolinewidth\":2}}},\"geo\":{\"domain\":{\"x\":[0.0,1.0],\"y\":[0.0,1.0]},\"center\":{}},\"coloraxis\":{\"colorbar\":{\"title\":{\"text\":\"log(Total Confirmed)\"}},\"colorscale\":[[0.0,\"rgb(255,245,240)\"],[0.125,\"rgb(254,224,210)\"],[0.25,\"rgb(252,187,161)\"],[0.375,\"rgb(252,146,114)\"],[0.5,\"rgb(251,106,74)\"],[0.625,\"rgb(239,59,44)\"],[0.75,\"rgb(203,24,29)\"],[0.875,\"rgb(165,15,21)\"],[1.0,\"rgb(103,0,13)\"]]},\"legend\":{\"tracegroupgap\":0},\"title\":{\"text\":\"<b>Confirmed Cases Around The Globe</b>\"}},                        {\"responsive\": true}                    ).then(function(){\n",
              "                            \n",
              "var gd = document.getElementById('7eaa1454-0c75-4304-96cf-4fad630372dc');\n",
              "var x = new MutationObserver(function (mutations, observer) {{\n",
              "        var display = window.getComputedStyle(gd).display;\n",
              "        if (!display || display === 'none') {{\n",
              "            console.log([gd, 'removed!']);\n",
              "            Plotly.purge(gd);\n",
              "            observer.disconnect();\n",
              "        }}\n",
              "}});\n",
              "\n",
              "// Listen for the removal of the full notebook cells\n",
              "var notebookContainer = gd.closest('#notebook-container');\n",
              "if (notebookContainer) {{\n",
              "    x.observe(notebookContainer, {childList: true});\n",
              "}}\n",
              "\n",
              "// Listen for the clearing of the current output cell\n",
              "var outputEl = gd.closest('.output');\n",
              "if (outputEl) {{\n",
              "    x.observe(outputEl, {childList: true});\n",
              "}}\n",
              "\n",
              "                        })                };                            </script>        </div>\n",
              "</body>\n",
              "</html>"
            ]
          },
          "metadata": {}
        },
        {
          "output_type": "display_data",
          "data": {
            "text/html": [
              "<html>\n",
              "<head><meta charset=\"utf-8\" /></head>\n",
              "<body>\n",
              "    <div>            <script src=\"https://cdnjs.cloudflare.com/ajax/libs/mathjax/2.7.5/MathJax.js?config=TeX-AMS-MML_SVG\"></script><script type=\"text/javascript\">if (window.MathJax) {MathJax.Hub.Config({SVG: {font: \"STIX-Web\"}});}</script>                <script type=\"text/javascript\">window.PlotlyConfig = {MathJaxConfig: 'local'};</script>\n",
              "        <script src=\"https://cdn.plot.ly/plotly-2.8.3.min.js\"></script>                <div id=\"4ab2bd98-75a3-46c9-94ed-3720f283afef\" class=\"plotly-graph-div\" style=\"height:525px; width:100%;\"></div>            <script type=\"text/javascript\">                                    window.PLOTLYENV=window.PLOTLYENV || {};                                    if (document.getElementById(\"4ab2bd98-75a3-46c9-94ed-3720f283afef\")) {                    Plotly.newPlot(                        \"4ab2bd98-75a3-46c9-94ed-3720f283afef\",                        [{\"coloraxis\":\"coloraxis\",\"geo\":\"geo\",\"hovertemplate\":\"country=%{location}<br>log(Total Recovered)=%{z}<extra></extra>\",\"locationmode\":\"country names\",\"locations\":[\"Afghanistan\",\"Albania\",\"Algeria\",\"Andorra\",\"Angola\",\"Anguilla\",\"Antigua And Barbuda\",\"Argentina\",\"Armenia\",\"Aruba\",\"Australia\",\"Austria\",\"Azerbaijan\",\"Bahamas\",\"Bahrain\",\"Bangladesh\",\"Barbados\",\"Belarus\",\"Belgium\",\"Belize\",\"Benin\",\"Bermuda\",\"Bhutan\",\"Bolivia\",\"Bosnia And Herzegovina\",\"Botswana\",\"Brazil\",\"British Virgin Islands\",\"Brunei Darussalam\",\"Bulgaria\",\"Burkina Faso\",\"Burundi\",\"Cabo Verde\",\"Cambodia\",\"Cameroon\",\"Canada\",\"Caribbean Netherlands\",\"Cayman Islands\",\"Central African Republic\",\"Chad\",\"Channel Islands\",\"Chile\",\"China Hong Kong Sar\",\"China Macao Sar\",\"China\",\"Colombia\",\"Comoros\",\"Congo\",\"Costa Rica\",\"Cote D Ivoire\",\"Croatia\",\"Cuba\",\"Curacao\",\"Cyprus\",\"Czech Republic\",\"Democratic Republic Of The Congo\",\"Denmark\",\"Djibouti\",\"Dominica\",\"Dominican Republic\",\"Ecuador\",\"Egypt\",\"El Salvador\",\"Equatorial Guinea\",\"Eritrea\",\"Estonia\",\"Ethiopia\",\"Faeroe Islands\",\"Falkland Islands Malvinas\",\"Fiji\",\"Finland\",\"France\",\"French Guiana\",\"French Polynesia\",\"Gabon\",\"Gambia\",\"Georgia\",\"Germany\",\"Ghana\",\"Gibraltar\",\"Greece\",\"Greenland\",\"Grenada\",\"Guadeloupe\",\"Guatemala\",\"Guinea Bissau\",\"Guinea\",\"Guyana\",\"Haiti\",\"Holy See\",\"Honduras\",\"Hungary\",\"Iceland\",\"India\",\"Indonesia\",\"Iran\",\"Iraq\",\"Ireland\",\"Isle Of Man\",\"Israel\",\"Italy\",\"Jamaica\",\"Japan\",\"Jordan\",\"Kazakhstan\",\"Kenya\",\"Kuwait\",\"Kyrgyzstan\",\"Laos\",\"Latvia\",\"Lebanon\",\"Lesotho\",\"Liberia\",\"Libya\",\"Liechtenstein\",\"Lithuania\",\"Luxembourg\",\"Macedonia\",\"Madagascar\",\"Malawi\",\"Malaysia\",\"Maldives\",\"Mali\",\"Malta\",\"Marshall Islands\",\"Martinique\",\"Mauritania\",\"Mauritius\",\"Mayotte\",\"Mexico\",\"Micronesia\",\"Moldova\",\"Monaco\",\"Mongolia\",\"Montenegro\",\"Montserrat\",\"Morocco\",\"Mozambique\",\"Myanmar\",\"Namibia\",\"Nepal\",\"Netherlands\",\"New Caledonia\",\"New Zealand\",\"Nicaragua\",\"Niger\",\"Nigeria\",\"Norway\",\"Oman\",\"Pakistan\",\"Panama\",\"Papua New Guinea\",\"Paraguay\",\"Peru\",\"Philippines\",\"Poland\",\"Portugal\",\"Qatar\",\"Reunion\",\"Romania\",\"Russia\",\"Rwanda\",\"Saint Barthelemy\",\"Saint Helena\",\"Saint Kitts And Nevis\",\"Saint Lucia\",\"Saint Martin\",\"Saint Pierre And Miquelon\",\"Saint Vincent And The Grenadines\",\"Samoa\",\"San Marino\",\"Sao Tome And Principe\",\"Saudi Arabia\",\"Senegal\",\"Serbia\",\"Seychelles\",\"Sierra Leone\",\"Singapore\",\"Sint Maarten\",\"Slovakia\",\"Slovenia\",\"Solomon Islands\",\"Somalia\",\"South Africa\",\"South Korea\",\"South Sudan\",\"Spain\",\"Sri Lanka\",\"State Of Palestine\",\"Sudan\",\"Suriname\",\"Swaziland\",\"Sweden\",\"Switzerland\",\"Syria\",\"Taiwan\",\"Tajikistan\",\"Tanzania\",\"Thailand\",\"Timor Leste\",\"Togo\",\"Tonga\",\"Trinidad And Tobago\",\"Tunisia\",\"Turkey\",\"Turks And Caicos Islands\",\"Uganda\",\"UK\",\"Ukraine\",\"United Arab Emirates\",\"Uruguay\",\"USA\",\"Uzbekistan\",\"Vanuatu\",\"Venezuela\",\"Viet Nam\",\"Wallis And Futuna Islands\",\"Western Sahara\",\"Yemen\",\"Zambia\",\"Zimbabwe\"],\"name\":\"\",\"z\":[17.153136357862582,17.62454560083421,17.20750055278679,14.392786973650566,16.042108212965477,10.733015321685963,11.992938336165814,22.36199409006765,18.34281256837702,14.309121036488156,18.297507412936966,20.250899785636246,19.20396448112685,14.422853195944263,18.08692405052512,20.56417554569002,14.780642286217137,19.412770363379025,20.80077274746625,14.90965873927025,14.59938986341318,12.529918528120325,11.373952655370193,19.035843493890724,17.55238391614059,17.645292534040042,24.362378697773895,null,13.904164182742376,19.232017998624244,14.065920955947536,9.594324603924848,15.307022880963174,16.835927034087213,16.69438509530528,20.94990862017082,11.693922488081014,12.354524889449351,12.743782540330756,12.250890535723341,14.576189069561147,20.727364603406926,13.578136783414749,6.266786540694901,16.538719415445374,22.252741648636842,12.464035152189913,14.200362244446653,19.099150013974217,15.953400754534776,19.402343846589545,19.869593843240786,14.20128159769802,16.924279001136693,21.177692650289533,15.636228096784896,19.336079364553317,13.716712305312454,12.67595703294175,18.64467310993022,18.759810180732515,18.305246845191608,16.792472585842745,13.712527000439824,12.941231050303049,17.794701422251904,18.45330681026713,12.433846208442825,null,15.646868050924517,15.4893462407191,22.990907059244677,13.458150248057557,null,15.211127820625654,13.249113452713729,19.793623946274774,22.659815634847728,17.023126242341572,12.974593839981678,20.00157037850689,11.282509306240836,12.482303782323182,11.1357092861044,19.21658246600295,12.62159403901754,14.90218666238715,15.2077007185923,14.515330248160108,4.754887502163468,16.94546669837731,20.112155666162035,14.651332038441016,25.033481437695603,21.972586507227252,22.527914113209842,20.978906628032014,19.173308706296616,13.710160691782914,20.37515506536063,22.32207447909303,16.015327930490415,20.70825204636509,19.981398652160024,19.87538640059142,17.994060580707977,18.653982131203545,17.458038073965007,12.84136778188234,18.019270368973984,19.35468844713987,13.993734501091927,12.488593333835409,18.53226079170827,12.542064542283443,18.916203122815496,16.555727498205968,17.70537589744278,15.448245388310358,15.900701741247111,21.365493724635506,16.51631561149792,14.259596162488423,15.368847451615613,2.0,6.700439718141092,15.267701109108176,14.433715830688374,11.533329732305834,21.66359588816244,0.0,18.471282261429064,12.279030136449649,18.256982617143873,17.300593871220478,5.459431618637297,19.849275279432714,17.334474072469163,18.959005752031025,17.035282387270367,19.633688824848353,21.401350896997087,13.591522346570734,13.702930204438289,12.044735626056909,12.7737573721398,17.728976729197978,16.44073942301427,18.19780220831241,20.26252501796009,18.86659676419159,15.121169236182542,18.775134413313154,null,21.406971536650936,21.812673619838225,20.24405833209758,17.912889336229963,16.1446383291697,20.742081595397035,23.19815679139779,15.474276323105551,null,1.0,11.460455896309636,13.698379112207101,10.450180247164754,6.599912842187128,12.386131937314994,1.584962500721156,12.826349864720093,11.848231701093818,19.053674036825935,16.16280434494631,20.275976692354615,14.568846792885811,null,18.081436626307426,12.252074042796185,19.61444565457547,18.77140886759942,4.321928094887363,13.686281655144432,21.631891979361487,19.057124457905353,13.658880895047878,22.28890126762834,19.09907294308885,18.72444057607874,15.240567756723191,15.583376637310417,15.935809623751084,20.199628017089548,20.027486239856437,15.015415052386688,13.960001932068081,14.0503588465876,null,21.059533267689698,14.266713350169512,14.690161706268304,0.0,16.20998635760156,19.411910219408394,23.131973577913428,11.654636028527968,16.589314657873985,23.340379323573288,21.739300191702583,19.516831119409783,18.614684685290914,25.32388241971079,17.5860627700206,2.584962500721156,18.732336382202686,20.453670532210047,8.774787059601174,3.0,12.781974367389338,17.8537846892043,17.53345901661755],\"type\":\"choropleth\"}],                        {\"template\":{\"data\":{\"bar\":[{\"error_x\":{\"color\":\"#2a3f5f\"},\"error_y\":{\"color\":\"#2a3f5f\"},\"marker\":{\"line\":{\"color\":\"#E5ECF6\",\"width\":0.5},\"pattern\":{\"fillmode\":\"overlay\",\"size\":10,\"solidity\":0.2}},\"type\":\"bar\"}],\"barpolar\":[{\"marker\":{\"line\":{\"color\":\"#E5ECF6\",\"width\":0.5},\"pattern\":{\"fillmode\":\"overlay\",\"size\":10,\"solidity\":0.2}},\"type\":\"barpolar\"}],\"carpet\":[{\"aaxis\":{\"endlinecolor\":\"#2a3f5f\",\"gridcolor\":\"white\",\"linecolor\":\"white\",\"minorgridcolor\":\"white\",\"startlinecolor\":\"#2a3f5f\"},\"baxis\":{\"endlinecolor\":\"#2a3f5f\",\"gridcolor\":\"white\",\"linecolor\":\"white\",\"minorgridcolor\":\"white\",\"startlinecolor\":\"#2a3f5f\"},\"type\":\"carpet\"}],\"choropleth\":[{\"colorbar\":{\"outlinewidth\":0,\"ticks\":\"\"},\"type\":\"choropleth\"}],\"contour\":[{\"colorbar\":{\"outlinewidth\":0,\"ticks\":\"\"},\"colorscale\":[[0.0,\"#0d0887\"],[0.1111111111111111,\"#46039f\"],[0.2222222222222222,\"#7201a8\"],[0.3333333333333333,\"#9c179e\"],[0.4444444444444444,\"#bd3786\"],[0.5555555555555556,\"#d8576b\"],[0.6666666666666666,\"#ed7953\"],[0.7777777777777778,\"#fb9f3a\"],[0.8888888888888888,\"#fdca26\"],[1.0,\"#f0f921\"]],\"type\":\"contour\"}],\"contourcarpet\":[{\"colorbar\":{\"outlinewidth\":0,\"ticks\":\"\"},\"type\":\"contourcarpet\"}],\"heatmap\":[{\"colorbar\":{\"outlinewidth\":0,\"ticks\":\"\"},\"colorscale\":[[0.0,\"#0d0887\"],[0.1111111111111111,\"#46039f\"],[0.2222222222222222,\"#7201a8\"],[0.3333333333333333,\"#9c179e\"],[0.4444444444444444,\"#bd3786\"],[0.5555555555555556,\"#d8576b\"],[0.6666666666666666,\"#ed7953\"],[0.7777777777777778,\"#fb9f3a\"],[0.8888888888888888,\"#fdca26\"],[1.0,\"#f0f921\"]],\"type\":\"heatmap\"}],\"heatmapgl\":[{\"colorbar\":{\"outlinewidth\":0,\"ticks\":\"\"},\"colorscale\":[[0.0,\"#0d0887\"],[0.1111111111111111,\"#46039f\"],[0.2222222222222222,\"#7201a8\"],[0.3333333333333333,\"#9c179e\"],[0.4444444444444444,\"#bd3786\"],[0.5555555555555556,\"#d8576b\"],[0.6666666666666666,\"#ed7953\"],[0.7777777777777778,\"#fb9f3a\"],[0.8888888888888888,\"#fdca26\"],[1.0,\"#f0f921\"]],\"type\":\"heatmapgl\"}],\"histogram\":[{\"marker\":{\"pattern\":{\"fillmode\":\"overlay\",\"size\":10,\"solidity\":0.2}},\"type\":\"histogram\"}],\"histogram2d\":[{\"colorbar\":{\"outlinewidth\":0,\"ticks\":\"\"},\"colorscale\":[[0.0,\"#0d0887\"],[0.1111111111111111,\"#46039f\"],[0.2222222222222222,\"#7201a8\"],[0.3333333333333333,\"#9c179e\"],[0.4444444444444444,\"#bd3786\"],[0.5555555555555556,\"#d8576b\"],[0.6666666666666666,\"#ed7953\"],[0.7777777777777778,\"#fb9f3a\"],[0.8888888888888888,\"#fdca26\"],[1.0,\"#f0f921\"]],\"type\":\"histogram2d\"}],\"histogram2dcontour\":[{\"colorbar\":{\"outlinewidth\":0,\"ticks\":\"\"},\"colorscale\":[[0.0,\"#0d0887\"],[0.1111111111111111,\"#46039f\"],[0.2222222222222222,\"#7201a8\"],[0.3333333333333333,\"#9c179e\"],[0.4444444444444444,\"#bd3786\"],[0.5555555555555556,\"#d8576b\"],[0.6666666666666666,\"#ed7953\"],[0.7777777777777778,\"#fb9f3a\"],[0.8888888888888888,\"#fdca26\"],[1.0,\"#f0f921\"]],\"type\":\"histogram2dcontour\"}],\"mesh3d\":[{\"colorbar\":{\"outlinewidth\":0,\"ticks\":\"\"},\"type\":\"mesh3d\"}],\"parcoords\":[{\"line\":{\"colorbar\":{\"outlinewidth\":0,\"ticks\":\"\"}},\"type\":\"parcoords\"}],\"pie\":[{\"automargin\":true,\"type\":\"pie\"}],\"scatter\":[{\"marker\":{\"colorbar\":{\"outlinewidth\":0,\"ticks\":\"\"}},\"type\":\"scatter\"}],\"scatter3d\":[{\"line\":{\"colorbar\":{\"outlinewidth\":0,\"ticks\":\"\"}},\"marker\":{\"colorbar\":{\"outlinewidth\":0,\"ticks\":\"\"}},\"type\":\"scatter3d\"}],\"scattercarpet\":[{\"marker\":{\"colorbar\":{\"outlinewidth\":0,\"ticks\":\"\"}},\"type\":\"scattercarpet\"}],\"scattergeo\":[{\"marker\":{\"colorbar\":{\"outlinewidth\":0,\"ticks\":\"\"}},\"type\":\"scattergeo\"}],\"scattergl\":[{\"marker\":{\"colorbar\":{\"outlinewidth\":0,\"ticks\":\"\"}},\"type\":\"scattergl\"}],\"scattermapbox\":[{\"marker\":{\"colorbar\":{\"outlinewidth\":0,\"ticks\":\"\"}},\"type\":\"scattermapbox\"}],\"scatterpolar\":[{\"marker\":{\"colorbar\":{\"outlinewidth\":0,\"ticks\":\"\"}},\"type\":\"scatterpolar\"}],\"scatterpolargl\":[{\"marker\":{\"colorbar\":{\"outlinewidth\":0,\"ticks\":\"\"}},\"type\":\"scatterpolargl\"}],\"scatterternary\":[{\"marker\":{\"colorbar\":{\"outlinewidth\":0,\"ticks\":\"\"}},\"type\":\"scatterternary\"}],\"surface\":[{\"colorbar\":{\"outlinewidth\":0,\"ticks\":\"\"},\"colorscale\":[[0.0,\"#0d0887\"],[0.1111111111111111,\"#46039f\"],[0.2222222222222222,\"#7201a8\"],[0.3333333333333333,\"#9c179e\"],[0.4444444444444444,\"#bd3786\"],[0.5555555555555556,\"#d8576b\"],[0.6666666666666666,\"#ed7953\"],[0.7777777777777778,\"#fb9f3a\"],[0.8888888888888888,\"#fdca26\"],[1.0,\"#f0f921\"]],\"type\":\"surface\"}],\"table\":[{\"cells\":{\"fill\":{\"color\":\"#EBF0F8\"},\"line\":{\"color\":\"white\"}},\"header\":{\"fill\":{\"color\":\"#C8D4E3\"},\"line\":{\"color\":\"white\"}},\"type\":\"table\"}]},\"layout\":{\"annotationdefaults\":{\"arrowcolor\":\"#2a3f5f\",\"arrowhead\":0,\"arrowwidth\":1},\"autotypenumbers\":\"strict\",\"coloraxis\":{\"colorbar\":{\"outlinewidth\":0,\"ticks\":\"\"}},\"colorscale\":{\"diverging\":[[0,\"#8e0152\"],[0.1,\"#c51b7d\"],[0.2,\"#de77ae\"],[0.3,\"#f1b6da\"],[0.4,\"#fde0ef\"],[0.5,\"#f7f7f7\"],[0.6,\"#e6f5d0\"],[0.7,\"#b8e186\"],[0.8,\"#7fbc41\"],[0.9,\"#4d9221\"],[1,\"#276419\"]],\"sequential\":[[0.0,\"#0d0887\"],[0.1111111111111111,\"#46039f\"],[0.2222222222222222,\"#7201a8\"],[0.3333333333333333,\"#9c179e\"],[0.4444444444444444,\"#bd3786\"],[0.5555555555555556,\"#d8576b\"],[0.6666666666666666,\"#ed7953\"],[0.7777777777777778,\"#fb9f3a\"],[0.8888888888888888,\"#fdca26\"],[1.0,\"#f0f921\"]],\"sequentialminus\":[[0.0,\"#0d0887\"],[0.1111111111111111,\"#46039f\"],[0.2222222222222222,\"#7201a8\"],[0.3333333333333333,\"#9c179e\"],[0.4444444444444444,\"#bd3786\"],[0.5555555555555556,\"#d8576b\"],[0.6666666666666666,\"#ed7953\"],[0.7777777777777778,\"#fb9f3a\"],[0.8888888888888888,\"#fdca26\"],[1.0,\"#f0f921\"]]},\"colorway\":[\"#636efa\",\"#EF553B\",\"#00cc96\",\"#ab63fa\",\"#FFA15A\",\"#19d3f3\",\"#FF6692\",\"#B6E880\",\"#FF97FF\",\"#FECB52\"],\"font\":{\"color\":\"#2a3f5f\"},\"geo\":{\"bgcolor\":\"white\",\"lakecolor\":\"white\",\"landcolor\":\"#E5ECF6\",\"showlakes\":true,\"showland\":true,\"subunitcolor\":\"white\"},\"hoverlabel\":{\"align\":\"left\"},\"hovermode\":\"closest\",\"mapbox\":{\"style\":\"light\"},\"paper_bgcolor\":\"white\",\"plot_bgcolor\":\"#E5ECF6\",\"polar\":{\"angularaxis\":{\"gridcolor\":\"white\",\"linecolor\":\"white\",\"ticks\":\"\"},\"bgcolor\":\"#E5ECF6\",\"radialaxis\":{\"gridcolor\":\"white\",\"linecolor\":\"white\",\"ticks\":\"\"}},\"scene\":{\"xaxis\":{\"backgroundcolor\":\"#E5ECF6\",\"gridcolor\":\"white\",\"gridwidth\":2,\"linecolor\":\"white\",\"showbackground\":true,\"ticks\":\"\",\"zerolinecolor\":\"white\"},\"yaxis\":{\"backgroundcolor\":\"#E5ECF6\",\"gridcolor\":\"white\",\"gridwidth\":2,\"linecolor\":\"white\",\"showbackground\":true,\"ticks\":\"\",\"zerolinecolor\":\"white\"},\"zaxis\":{\"backgroundcolor\":\"#E5ECF6\",\"gridcolor\":\"white\",\"gridwidth\":2,\"linecolor\":\"white\",\"showbackground\":true,\"ticks\":\"\",\"zerolinecolor\":\"white\"}},\"shapedefaults\":{\"line\":{\"color\":\"#2a3f5f\"}},\"ternary\":{\"aaxis\":{\"gridcolor\":\"white\",\"linecolor\":\"white\",\"ticks\":\"\"},\"baxis\":{\"gridcolor\":\"white\",\"linecolor\":\"white\",\"ticks\":\"\"},\"bgcolor\":\"#E5ECF6\",\"caxis\":{\"gridcolor\":\"white\",\"linecolor\":\"white\",\"ticks\":\"\"}},\"title\":{\"x\":0.05},\"xaxis\":{\"automargin\":true,\"gridcolor\":\"white\",\"linecolor\":\"white\",\"ticks\":\"\",\"title\":{\"standoff\":15},\"zerolinecolor\":\"white\",\"zerolinewidth\":2},\"yaxis\":{\"automargin\":true,\"gridcolor\":\"white\",\"linecolor\":\"white\",\"ticks\":\"\",\"title\":{\"standoff\":15},\"zerolinecolor\":\"white\",\"zerolinewidth\":2}}},\"geo\":{\"domain\":{\"x\":[0.0,1.0],\"y\":[0.0,1.0]},\"center\":{}},\"coloraxis\":{\"colorbar\":{\"title\":{\"text\":\"log(Total Recovered)\"}},\"colorscale\":[[0.0,\"rgb(247,252,245)\"],[0.125,\"rgb(229,245,224)\"],[0.25,\"rgb(199,233,192)\"],[0.375,\"rgb(161,217,155)\"],[0.5,\"rgb(116,196,118)\"],[0.625,\"rgb(65,171,93)\"],[0.75,\"rgb(35,139,69)\"],[0.875,\"rgb(0,109,44)\"],[1.0,\"rgb(0,68,27)\"]]},\"legend\":{\"tracegroupgap\":0},\"title\":{\"text\":\"<b>Recovered Cases Around The Globe</b>\"}},                        {\"responsive\": true}                    ).then(function(){\n",
              "                            \n",
              "var gd = document.getElementById('4ab2bd98-75a3-46c9-94ed-3720f283afef');\n",
              "var x = new MutationObserver(function (mutations, observer) {{\n",
              "        var display = window.getComputedStyle(gd).display;\n",
              "        if (!display || display === 'none') {{\n",
              "            console.log([gd, 'removed!']);\n",
              "            Plotly.purge(gd);\n",
              "            observer.disconnect();\n",
              "        }}\n",
              "}});\n",
              "\n",
              "// Listen for the removal of the full notebook cells\n",
              "var notebookContainer = gd.closest('#notebook-container');\n",
              "if (notebookContainer) {{\n",
              "    x.observe(notebookContainer, {childList: true});\n",
              "}}\n",
              "\n",
              "// Listen for the clearing of the current output cell\n",
              "var outputEl = gd.closest('.output');\n",
              "if (outputEl) {{\n",
              "    x.observe(outputEl, {childList: true});\n",
              "}}\n",
              "\n",
              "                        })                };                            </script>        </div>\n",
              "</body>\n",
              "</html>"
            ]
          },
          "metadata": {}
        }
      ]
    },
    {
      "cell_type": "markdown",
      "source": [
        "#Focusing on trend in three countries mainly USA, China, India\n",
        "which will help to understand how different countries of different economic and political stand tackeled the situation which country was successfull so far."
      ],
      "metadata": {
        "id": "6Y81E1V9j-hn"
      }
    },
    {
      "cell_type": "markdown",
      "source": [
        "##looking at datewise dataset"
      ],
      "metadata": {
        "id": "1wynK085l9o2"
      }
    },
    {
      "cell_type": "markdown",
      "source": [
        "###cleaning and making subset for three countries"
      ],
      "metadata": {
        "id": "0zSf-AhKmGL-"
      }
    },
    {
      "cell_type": "code",
      "source": [
        "world_daily.head()"
      ],
      "metadata": {
        "colab": {
          "base_uri": "https://localhost:8080/",
          "height": 196
        },
        "id": "QwPhP7DsqniV",
        "outputId": "f23e92bb-93fb-4d0a-cab8-a4c7fb56491f"
      },
      "execution_count": null,
      "outputs": [
        {
          "output_type": "execute_result",
          "data": {
            "application/vnd.google.colaboratory.module+javascript": "\n      import \"https://ssl.gstatic.com/colaboratory/data_table/81f25a011006ed3d/data_table.js\";\n\n      window.createDataTable({\n        data: [[{\n            'v': 0,\n            'f': \"0\",\n        },\n\"2020-2-15\",\n\"Afghanistan\",\n{\n            'v': 0.0,\n            'f': \"0.0\",\n        },\n{\n            'v': NaN,\n            'f': \"NaN\",\n        },\n{\n            'v': 0.0,\n            'f': \"0.0\",\n        },\n{\n            'v': 0.0,\n            'f': \"0.0\",\n        },\n{\n            'v': NaN,\n            'f': \"NaN\",\n        }],\n [{\n            'v': 1,\n            'f': \"1\",\n        },\n\"2020-2-16\",\n\"Afghanistan\",\n{\n            'v': 0.0,\n            'f': \"0.0\",\n        },\n{\n            'v': NaN,\n            'f': \"NaN\",\n        },\n{\n            'v': 0.0,\n            'f': \"0.0\",\n        },\n{\n            'v': 0.0,\n            'f': \"0.0\",\n        },\n{\n            'v': NaN,\n            'f': \"NaN\",\n        }],\n [{\n            'v': 2,\n            'f': \"2\",\n        },\n\"2020-2-17\",\n\"Afghanistan\",\n{\n            'v': 0.0,\n            'f': \"0.0\",\n        },\n{\n            'v': NaN,\n            'f': \"NaN\",\n        },\n{\n            'v': 0.0,\n            'f': \"0.0\",\n        },\n{\n            'v': 0.0,\n            'f': \"0.0\",\n        },\n{\n            'v': NaN,\n            'f': \"NaN\",\n        }],\n [{\n            'v': 3,\n            'f': \"3\",\n        },\n\"2020-2-18\",\n\"Afghanistan\",\n{\n            'v': 0.0,\n            'f': \"0.0\",\n        },\n{\n            'v': NaN,\n            'f': \"NaN\",\n        },\n{\n            'v': 0.0,\n            'f': \"0.0\",\n        },\n{\n            'v': 0.0,\n            'f': \"0.0\",\n        },\n{\n            'v': NaN,\n            'f': \"NaN\",\n        }],\n [{\n            'v': 4,\n            'f': \"4\",\n        },\n\"2020-2-19\",\n\"Afghanistan\",\n{\n            'v': 0.0,\n            'f': \"0.0\",\n        },\n{\n            'v': NaN,\n            'f': \"NaN\",\n        },\n{\n            'v': 0.0,\n            'f': \"0.0\",\n        },\n{\n            'v': 0.0,\n            'f': \"0.0\",\n        },\n{\n            'v': NaN,\n            'f': \"NaN\",\n        }]],\n        columns: [[\"number\", \"index\"], [\"string\", \"date\"], [\"string\", \"country\"], [\"number\", \"cumulative_total_cases\"], [\"number\", \"daily_new_cases\"], [\"number\", \"active_cases\"], [\"number\", \"cumulative_total_deaths\"], [\"number\", \"daily_new_deaths\"]],\n        columnOptions: [{\"width\": \"1px\", \"className\": \"index_column\"}],\n        rowsPerPage: 25,\n        helpUrl: \"https://colab.research.google.com/notebooks/data_table.ipynb\",\n        suppressOutputScrolling: true,\n        minimumWidth: undefined,\n      });\n    ",
            "text/html": [
              "\n",
              "  <div id=\"df-09b4ec27-1bcc-4853-9e2b-d3455043714a\">\n",
              "    <div class=\"colab-df-container\">\n",
              "      <div>\n",
              "<style scoped>\n",
              "    .dataframe tbody tr th:only-of-type {\n",
              "        vertical-align: middle;\n",
              "    }\n",
              "\n",
              "    .dataframe tbody tr th {\n",
              "        vertical-align: top;\n",
              "    }\n",
              "\n",
              "    .dataframe thead th {\n",
              "        text-align: right;\n",
              "    }\n",
              "</style>\n",
              "<table border=\"1\" class=\"dataframe\">\n",
              "  <thead>\n",
              "    <tr style=\"text-align: right;\">\n",
              "      <th></th>\n",
              "      <th>date</th>\n",
              "      <th>country</th>\n",
              "      <th>cumulative_total_cases</th>\n",
              "      <th>daily_new_cases</th>\n",
              "      <th>active_cases</th>\n",
              "      <th>cumulative_total_deaths</th>\n",
              "      <th>daily_new_deaths</th>\n",
              "    </tr>\n",
              "  </thead>\n",
              "  <tbody>\n",
              "    <tr>\n",
              "      <th>0</th>\n",
              "      <td>2020-2-15</td>\n",
              "      <td>Afghanistan</td>\n",
              "      <td>0.0</td>\n",
              "      <td>NaN</td>\n",
              "      <td>0.0</td>\n",
              "      <td>0.0</td>\n",
              "      <td>NaN</td>\n",
              "    </tr>\n",
              "    <tr>\n",
              "      <th>1</th>\n",
              "      <td>2020-2-16</td>\n",
              "      <td>Afghanistan</td>\n",
              "      <td>0.0</td>\n",
              "      <td>NaN</td>\n",
              "      <td>0.0</td>\n",
              "      <td>0.0</td>\n",
              "      <td>NaN</td>\n",
              "    </tr>\n",
              "    <tr>\n",
              "      <th>2</th>\n",
              "      <td>2020-2-17</td>\n",
              "      <td>Afghanistan</td>\n",
              "      <td>0.0</td>\n",
              "      <td>NaN</td>\n",
              "      <td>0.0</td>\n",
              "      <td>0.0</td>\n",
              "      <td>NaN</td>\n",
              "    </tr>\n",
              "    <tr>\n",
              "      <th>3</th>\n",
              "      <td>2020-2-18</td>\n",
              "      <td>Afghanistan</td>\n",
              "      <td>0.0</td>\n",
              "      <td>NaN</td>\n",
              "      <td>0.0</td>\n",
              "      <td>0.0</td>\n",
              "      <td>NaN</td>\n",
              "    </tr>\n",
              "    <tr>\n",
              "      <th>4</th>\n",
              "      <td>2020-2-19</td>\n",
              "      <td>Afghanistan</td>\n",
              "      <td>0.0</td>\n",
              "      <td>NaN</td>\n",
              "      <td>0.0</td>\n",
              "      <td>0.0</td>\n",
              "      <td>NaN</td>\n",
              "    </tr>\n",
              "  </tbody>\n",
              "</table>\n",
              "</div>\n",
              "      <button class=\"colab-df-convert\" onclick=\"convertToInteractive('df-09b4ec27-1bcc-4853-9e2b-d3455043714a')\"\n",
              "              title=\"Convert this dataframe to an interactive table.\"\n",
              "              style=\"display:none;\">\n",
              "        \n",
              "  <svg xmlns=\"http://www.w3.org/2000/svg\" height=\"24px\"viewBox=\"0 0 24 24\"\n",
              "       width=\"24px\">\n",
              "    <path d=\"M0 0h24v24H0V0z\" fill=\"none\"/>\n",
              "    <path d=\"M18.56 5.44l.94 2.06.94-2.06 2.06-.94-2.06-.94-.94-2.06-.94 2.06-2.06.94zm-11 1L8.5 8.5l.94-2.06 2.06-.94-2.06-.94L8.5 2.5l-.94 2.06-2.06.94zm10 10l.94 2.06.94-2.06 2.06-.94-2.06-.94-.94-2.06-.94 2.06-2.06.94z\"/><path d=\"M17.41 7.96l-1.37-1.37c-.4-.4-.92-.59-1.43-.59-.52 0-1.04.2-1.43.59L10.3 9.45l-7.72 7.72c-.78.78-.78 2.05 0 2.83L4 21.41c.39.39.9.59 1.41.59.51 0 1.02-.2 1.41-.59l7.78-7.78 2.81-2.81c.8-.78.8-2.07 0-2.86zM5.41 20L4 18.59l7.72-7.72 1.47 1.35L5.41 20z\"/>\n",
              "  </svg>\n",
              "      </button>\n",
              "      \n",
              "  <style>\n",
              "    .colab-df-container {\n",
              "      display:flex;\n",
              "      flex-wrap:wrap;\n",
              "      gap: 12px;\n",
              "    }\n",
              "\n",
              "    .colab-df-convert {\n",
              "      background-color: #E8F0FE;\n",
              "      border: none;\n",
              "      border-radius: 50%;\n",
              "      cursor: pointer;\n",
              "      display: none;\n",
              "      fill: #1967D2;\n",
              "      height: 32px;\n",
              "      padding: 0 0 0 0;\n",
              "      width: 32px;\n",
              "    }\n",
              "\n",
              "    .colab-df-convert:hover {\n",
              "      background-color: #E2EBFA;\n",
              "      box-shadow: 0px 1px 2px rgba(60, 64, 67, 0.3), 0px 1px 3px 1px rgba(60, 64, 67, 0.15);\n",
              "      fill: #174EA6;\n",
              "    }\n",
              "\n",
              "    [theme=dark] .colab-df-convert {\n",
              "      background-color: #3B4455;\n",
              "      fill: #D2E3FC;\n",
              "    }\n",
              "\n",
              "    [theme=dark] .colab-df-convert:hover {\n",
              "      background-color: #434B5C;\n",
              "      box-shadow: 0px 1px 3px 1px rgba(0, 0, 0, 0.15);\n",
              "      filter: drop-shadow(0px 1px 2px rgba(0, 0, 0, 0.3));\n",
              "      fill: #FFFFFF;\n",
              "    }\n",
              "  </style>\n",
              "\n",
              "      <script>\n",
              "        const buttonEl =\n",
              "          document.querySelector('#df-09b4ec27-1bcc-4853-9e2b-d3455043714a button.colab-df-convert');\n",
              "        buttonEl.style.display =\n",
              "          google.colab.kernel.accessAllowed ? 'block' : 'none';\n",
              "\n",
              "        async function convertToInteractive(key) {\n",
              "          const element = document.querySelector('#df-09b4ec27-1bcc-4853-9e2b-d3455043714a');\n",
              "          const dataTable =\n",
              "            await google.colab.kernel.invokeFunction('convertToInteractive',\n",
              "                                                     [key], {});\n",
              "          if (!dataTable) return;\n",
              "\n",
              "          const docLinkHtml = 'Like what you see? Visit the ' +\n",
              "            '<a target=\"_blank\" href=https://colab.research.google.com/notebooks/data_table.ipynb>data table notebook</a>'\n",
              "            + ' to learn more about interactive tables.';\n",
              "          element.innerHTML = '';\n",
              "          dataTable['output_type'] = 'display_data';\n",
              "          await google.colab.output.renderOutput(dataTable, element);\n",
              "          const docLink = document.createElement('div');\n",
              "          docLink.innerHTML = docLinkHtml;\n",
              "          element.appendChild(docLink);\n",
              "        }\n",
              "      </script>\n",
              "    </div>\n",
              "  </div>\n",
              "  "
            ],
            "text/plain": [
              "        date      country  ...  cumulative_total_deaths  daily_new_deaths\n",
              "0  2020-2-15  Afghanistan  ...                      0.0               NaN\n",
              "1  2020-2-16  Afghanistan  ...                      0.0               NaN\n",
              "2  2020-2-17  Afghanistan  ...                      0.0               NaN\n",
              "3  2020-2-18  Afghanistan  ...                      0.0               NaN\n",
              "4  2020-2-19  Afghanistan  ...                      0.0               NaN\n",
              "\n",
              "[5 rows x 7 columns]"
            ]
          },
          "metadata": {},
          "execution_count": 13
        }
      ]
    },
    {
      "cell_type": "code",
      "source": [
        "world_daily.info()\n",
        "print(world_daily.columns)\n",
        "world_daily.isna().sum(axis=0)"
      ],
      "metadata": {
        "colab": {
          "base_uri": "https://localhost:8080/"
        },
        "id": "4M3G3GNbtuCv",
        "outputId": "ddec137e-2963-4de0-85d0-ed593a1470d4"
      },
      "execution_count": null,
      "outputs": [
        {
          "output_type": "stream",
          "name": "stdout",
          "text": [
            "<class 'pandas.core.frame.DataFrame'>\n",
            "RangeIndex: 152735 entries, 0 to 152734\n",
            "Data columns (total 7 columns):\n",
            " #   Column                   Non-Null Count   Dtype  \n",
            "---  ------                   --------------   -----  \n",
            " 0   date                     152735 non-null  object \n",
            " 1   country                  152735 non-null  object \n",
            " 2   cumulative_total_cases   152735 non-null  float64\n",
            " 3   daily_new_cases          145244 non-null  float64\n",
            " 4   active_cases             147898 non-null  float64\n",
            " 5   cumulative_total_deaths  145825 non-null  float64\n",
            " 6   daily_new_deaths         129468 non-null  float64\n",
            "dtypes: float64(5), object(2)\n",
            "memory usage: 8.2+ MB\n",
            "Index(['date', 'country', 'cumulative_total_cases', 'daily_new_cases',\n",
            "       'active_cases', 'cumulative_total_deaths', 'daily_new_deaths'],\n",
            "      dtype='object')\n"
          ]
        },
        {
          "output_type": "execute_result",
          "data": {
            "text/plain": [
              "date                           0\n",
              "country                        0\n",
              "cumulative_total_cases         0\n",
              "daily_new_cases             7491\n",
              "active_cases                4837\n",
              "cumulative_total_deaths     6910\n",
              "daily_new_deaths           23267\n",
              "dtype: int64"
            ]
          },
          "metadata": {},
          "execution_count": 14
        }
      ]
    },
    {
      "cell_type": "markdown",
      "source": [
        "making a subset of data for three countries"
      ],
      "metadata": {
        "id": "KjDhDpW3HDuX"
      }
    },
    {
      "cell_type": "code",
      "source": [
        "countries = ['USA', 'China', 'India']\n",
        "world_daily_subset = world_daily[world_daily.country.isin(countries)]\n",
        "world_daily_subset.head()"
      ],
      "metadata": {
        "id": "VSoskTw3vL4m",
        "colab": {
          "base_uri": "https://localhost:8080/",
          "height": 196
        },
        "outputId": "b7f11523-5d20-4b98-9bc5-1000c56b2b87"
      },
      "execution_count": null,
      "outputs": [
        {
          "output_type": "execute_result",
          "data": {
            "application/vnd.google.colaboratory.module+javascript": "\n      import \"https://ssl.gstatic.com/colaboratory/data_table/81f25a011006ed3d/data_table.js\";\n\n      window.createDataTable({\n        data: [[{\n            'v': 30404,\n            'f': \"30404\",\n        },\n\"2020-1-22\",\n\"China\",\n{\n            'v': 571.0,\n            'f': \"571.0\",\n        },\n{\n            'v': NaN,\n            'f': \"NaN\",\n        },\n{\n            'v': 554.0,\n            'f': \"554.0\",\n        },\n{\n            'v': 17.0,\n            'f': \"17.0\",\n        },\n{\n            'v': NaN,\n            'f': \"NaN\",\n        }],\n [{\n            'v': 30405,\n            'f': \"30405\",\n        },\n\"2020-1-23\",\n\"China\",\n{\n            'v': 830.0,\n            'f': \"830.0\",\n        },\n{\n            'v': 259.0,\n            'f': \"259.0\",\n        },\n{\n            'v': 771.0,\n            'f': \"771.0\",\n        },\n{\n            'v': 25.0,\n            'f': \"25.0\",\n        },\n{\n            'v': 8.0,\n            'f': \"8.0\",\n        }],\n [{\n            'v': 30406,\n            'f': \"30406\",\n        },\n\"2020-1-24\",\n\"China\",\n{\n            'v': 1287.0,\n            'f': \"1287.0\",\n        },\n{\n            'v': 457.0,\n            'f': \"457.0\",\n        },\n{\n            'v': 1208.0,\n            'f': \"1208.0\",\n        },\n{\n            'v': 41.0,\n            'f': \"41.0\",\n        },\n{\n            'v': 16.0,\n            'f': \"16.0\",\n        }],\n [{\n            'v': 30407,\n            'f': \"30407\",\n        },\n\"2020-1-25\",\n\"China\",\n{\n            'v': 1975.0,\n            'f': \"1975.0\",\n        },\n{\n            'v': 688.0,\n            'f': \"688.0\",\n        },\n{\n            'v': 1870.0,\n            'f': \"1870.0\",\n        },\n{\n            'v': 56.0,\n            'f': \"56.0\",\n        },\n{\n            'v': 15.0,\n            'f': \"15.0\",\n        }],\n [{\n            'v': 30408,\n            'f': \"30408\",\n        },\n\"2020-1-26\",\n\"China\",\n{\n            'v': 2744.0,\n            'f': \"2744.0\",\n        },\n{\n            'v': 769.0,\n            'f': \"769.0\",\n        },\n{\n            'v': 2613.0,\n            'f': \"2613.0\",\n        },\n{\n            'v': 80.0,\n            'f': \"80.0\",\n        },\n{\n            'v': 24.0,\n            'f': \"24.0\",\n        }]],\n        columns: [[\"number\", \"index\"], [\"string\", \"date\"], [\"string\", \"country\"], [\"number\", \"cumulative_total_cases\"], [\"number\", \"daily_new_cases\"], [\"number\", \"active_cases\"], [\"number\", \"cumulative_total_deaths\"], [\"number\", \"daily_new_deaths\"]],\n        columnOptions: [{\"width\": \"1px\", \"className\": \"index_column\"}],\n        rowsPerPage: 25,\n        helpUrl: \"https://colab.research.google.com/notebooks/data_table.ipynb\",\n        suppressOutputScrolling: true,\n        minimumWidth: undefined,\n      });\n    ",
            "text/html": [
              "\n",
              "  <div id=\"df-19a4d248-be20-47c7-9ee3-cf8a2023e3eb\">\n",
              "    <div class=\"colab-df-container\">\n",
              "      <div>\n",
              "<style scoped>\n",
              "    .dataframe tbody tr th:only-of-type {\n",
              "        vertical-align: middle;\n",
              "    }\n",
              "\n",
              "    .dataframe tbody tr th {\n",
              "        vertical-align: top;\n",
              "    }\n",
              "\n",
              "    .dataframe thead th {\n",
              "        text-align: right;\n",
              "    }\n",
              "</style>\n",
              "<table border=\"1\" class=\"dataframe\">\n",
              "  <thead>\n",
              "    <tr style=\"text-align: right;\">\n",
              "      <th></th>\n",
              "      <th>date</th>\n",
              "      <th>country</th>\n",
              "      <th>cumulative_total_cases</th>\n",
              "      <th>daily_new_cases</th>\n",
              "      <th>active_cases</th>\n",
              "      <th>cumulative_total_deaths</th>\n",
              "      <th>daily_new_deaths</th>\n",
              "    </tr>\n",
              "  </thead>\n",
              "  <tbody>\n",
              "    <tr>\n",
              "      <th>30404</th>\n",
              "      <td>2020-1-22</td>\n",
              "      <td>China</td>\n",
              "      <td>571.0</td>\n",
              "      <td>NaN</td>\n",
              "      <td>554.0</td>\n",
              "      <td>17.0</td>\n",
              "      <td>NaN</td>\n",
              "    </tr>\n",
              "    <tr>\n",
              "      <th>30405</th>\n",
              "      <td>2020-1-23</td>\n",
              "      <td>China</td>\n",
              "      <td>830.0</td>\n",
              "      <td>259.0</td>\n",
              "      <td>771.0</td>\n",
              "      <td>25.0</td>\n",
              "      <td>8.0</td>\n",
              "    </tr>\n",
              "    <tr>\n",
              "      <th>30406</th>\n",
              "      <td>2020-1-24</td>\n",
              "      <td>China</td>\n",
              "      <td>1287.0</td>\n",
              "      <td>457.0</td>\n",
              "      <td>1208.0</td>\n",
              "      <td>41.0</td>\n",
              "      <td>16.0</td>\n",
              "    </tr>\n",
              "    <tr>\n",
              "      <th>30407</th>\n",
              "      <td>2020-1-25</td>\n",
              "      <td>China</td>\n",
              "      <td>1975.0</td>\n",
              "      <td>688.0</td>\n",
              "      <td>1870.0</td>\n",
              "      <td>56.0</td>\n",
              "      <td>15.0</td>\n",
              "    </tr>\n",
              "    <tr>\n",
              "      <th>30408</th>\n",
              "      <td>2020-1-26</td>\n",
              "      <td>China</td>\n",
              "      <td>2744.0</td>\n",
              "      <td>769.0</td>\n",
              "      <td>2613.0</td>\n",
              "      <td>80.0</td>\n",
              "      <td>24.0</td>\n",
              "    </tr>\n",
              "  </tbody>\n",
              "</table>\n",
              "</div>\n",
              "      <button class=\"colab-df-convert\" onclick=\"convertToInteractive('df-19a4d248-be20-47c7-9ee3-cf8a2023e3eb')\"\n",
              "              title=\"Convert this dataframe to an interactive table.\"\n",
              "              style=\"display:none;\">\n",
              "        \n",
              "  <svg xmlns=\"http://www.w3.org/2000/svg\" height=\"24px\"viewBox=\"0 0 24 24\"\n",
              "       width=\"24px\">\n",
              "    <path d=\"M0 0h24v24H0V0z\" fill=\"none\"/>\n",
              "    <path d=\"M18.56 5.44l.94 2.06.94-2.06 2.06-.94-2.06-.94-.94-2.06-.94 2.06-2.06.94zm-11 1L8.5 8.5l.94-2.06 2.06-.94-2.06-.94L8.5 2.5l-.94 2.06-2.06.94zm10 10l.94 2.06.94-2.06 2.06-.94-2.06-.94-.94-2.06-.94 2.06-2.06.94z\"/><path d=\"M17.41 7.96l-1.37-1.37c-.4-.4-.92-.59-1.43-.59-.52 0-1.04.2-1.43.59L10.3 9.45l-7.72 7.72c-.78.78-.78 2.05 0 2.83L4 21.41c.39.39.9.59 1.41.59.51 0 1.02-.2 1.41-.59l7.78-7.78 2.81-2.81c.8-.78.8-2.07 0-2.86zM5.41 20L4 18.59l7.72-7.72 1.47 1.35L5.41 20z\"/>\n",
              "  </svg>\n",
              "      </button>\n",
              "      \n",
              "  <style>\n",
              "    .colab-df-container {\n",
              "      display:flex;\n",
              "      flex-wrap:wrap;\n",
              "      gap: 12px;\n",
              "    }\n",
              "\n",
              "    .colab-df-convert {\n",
              "      background-color: #E8F0FE;\n",
              "      border: none;\n",
              "      border-radius: 50%;\n",
              "      cursor: pointer;\n",
              "      display: none;\n",
              "      fill: #1967D2;\n",
              "      height: 32px;\n",
              "      padding: 0 0 0 0;\n",
              "      width: 32px;\n",
              "    }\n",
              "\n",
              "    .colab-df-convert:hover {\n",
              "      background-color: #E2EBFA;\n",
              "      box-shadow: 0px 1px 2px rgba(60, 64, 67, 0.3), 0px 1px 3px 1px rgba(60, 64, 67, 0.15);\n",
              "      fill: #174EA6;\n",
              "    }\n",
              "\n",
              "    [theme=dark] .colab-df-convert {\n",
              "      background-color: #3B4455;\n",
              "      fill: #D2E3FC;\n",
              "    }\n",
              "\n",
              "    [theme=dark] .colab-df-convert:hover {\n",
              "      background-color: #434B5C;\n",
              "      box-shadow: 0px 1px 3px 1px rgba(0, 0, 0, 0.15);\n",
              "      filter: drop-shadow(0px 1px 2px rgba(0, 0, 0, 0.3));\n",
              "      fill: #FFFFFF;\n",
              "    }\n",
              "  </style>\n",
              "\n",
              "      <script>\n",
              "        const buttonEl =\n",
              "          document.querySelector('#df-19a4d248-be20-47c7-9ee3-cf8a2023e3eb button.colab-df-convert');\n",
              "        buttonEl.style.display =\n",
              "          google.colab.kernel.accessAllowed ? 'block' : 'none';\n",
              "\n",
              "        async function convertToInteractive(key) {\n",
              "          const element = document.querySelector('#df-19a4d248-be20-47c7-9ee3-cf8a2023e3eb');\n",
              "          const dataTable =\n",
              "            await google.colab.kernel.invokeFunction('convertToInteractive',\n",
              "                                                     [key], {});\n",
              "          if (!dataTable) return;\n",
              "\n",
              "          const docLinkHtml = 'Like what you see? Visit the ' +\n",
              "            '<a target=\"_blank\" href=https://colab.research.google.com/notebooks/data_table.ipynb>data table notebook</a>'\n",
              "            + ' to learn more about interactive tables.';\n",
              "          element.innerHTML = '';\n",
              "          dataTable['output_type'] = 'display_data';\n",
              "          await google.colab.output.renderOutput(dataTable, element);\n",
              "          const docLink = document.createElement('div');\n",
              "          docLink.innerHTML = docLinkHtml;\n",
              "          element.appendChild(docLink);\n",
              "        }\n",
              "      </script>\n",
              "    </div>\n",
              "  </div>\n",
              "  "
            ],
            "text/plain": [
              "            date country  ...  cumulative_total_deaths  daily_new_deaths\n",
              "30404  2020-1-22   China  ...                     17.0               NaN\n",
              "30405  2020-1-23   China  ...                     25.0               8.0\n",
              "30406  2020-1-24   China  ...                     41.0              16.0\n",
              "30407  2020-1-25   China  ...                     56.0              15.0\n",
              "30408  2020-1-26   China  ...                     80.0              24.0\n",
              "\n",
              "[5 rows x 7 columns]"
            ]
          },
          "metadata": {},
          "execution_count": 15
        }
      ]
    },
    {
      "cell_type": "code",
      "source": [
        "world_daily_subset.info()"
      ],
      "metadata": {
        "colab": {
          "base_uri": "https://localhost:8080/"
        },
        "id": "JASB8awFIN4i",
        "outputId": "0eef6c1d-fc49-4b6d-a46d-f562a85efbd2"
      },
      "execution_count": null,
      "outputs": [
        {
          "output_type": "stream",
          "name": "stdout",
          "text": [
            "<class 'pandas.core.frame.DataFrame'>\n",
            "Int64Index: 2097 entries, 30404 to 146515\n",
            "Data columns (total 7 columns):\n",
            " #   Column                   Non-Null Count  Dtype  \n",
            "---  ------                   --------------  -----  \n",
            " 0   date                     2097 non-null   object \n",
            " 1   country                  2097 non-null   object \n",
            " 2   cumulative_total_cases   2097 non-null   float64\n",
            " 3   daily_new_cases          2094 non-null   float64\n",
            " 4   active_cases             2097 non-null   float64\n",
            " 5   cumulative_total_deaths  2097 non-null   float64\n",
            " 6   daily_new_deaths         2086 non-null   float64\n",
            "dtypes: float64(5), object(2)\n",
            "memory usage: 131.1+ KB\n"
          ]
        }
      ]
    },
    {
      "cell_type": "code",
      "source": [
        "is_NaN = world_daily_subset.isnull()\n",
        "row_has_NaN = is_NaN.any(axis=1)\n",
        "rows_with_NaN = world_daily_subset[row_has_NaN]\n",
        "rows_with_NaN"
      ],
      "metadata": {
        "colab": {
          "base_uri": "https://localhost:8080/",
          "height": 325
        },
        "id": "JMckcFFEJBjt",
        "outputId": "1aee329b-677f-4cf3-8e2e-2960cbc44c10"
      },
      "execution_count": null,
      "outputs": [
        {
          "output_type": "execute_result",
          "data": {
            "application/vnd.google.colaboratory.module+javascript": "\n      import \"https://ssl.gstatic.com/colaboratory/data_table/81f25a011006ed3d/data_table.js\";\n\n      window.createDataTable({\n        data: [[{\n            'v': 30404,\n            'f': \"30404\",\n        },\n\"2020-1-22\",\n\"China\",\n{\n            'v': 571.0,\n            'f': \"571.0\",\n        },\n{\n            'v': NaN,\n            'f': \"NaN\",\n        },\n{\n            'v': 554.0,\n            'f': \"554.0\",\n        },\n{\n            'v': 17.0,\n            'f': \"17.0\",\n        },\n{\n            'v': NaN,\n            'f': \"NaN\",\n        }],\n [{\n            'v': 64287,\n            'f': \"64287\",\n        },\n\"2020-2-15\",\n\"India\",\n{\n            'v': 3.0,\n            'f': \"3.0\",\n        },\n{\n            'v': NaN,\n            'f': \"NaN\",\n        },\n{\n            'v': 0.0,\n            'f': \"0.0\",\n        },\n{\n            'v': 0.0,\n            'f': \"0.0\",\n        },\n{\n            'v': NaN,\n            'f': \"NaN\",\n        }],\n [{\n            'v': 64288,\n            'f': \"64288\",\n        },\n\"2020-2-16\",\n\"India\",\n{\n            'v': 3.0,\n            'f': \"3.0\",\n        },\n{\n            'v': 0.0,\n            'f': \"0.0\",\n        },\n{\n            'v': 0.0,\n            'f': \"0.0\",\n        },\n{\n            'v': 0.0,\n            'f': \"0.0\",\n        },\n{\n            'v': NaN,\n            'f': \"NaN\",\n        }],\n [{\n            'v': 64289,\n            'f': \"64289\",\n        },\n\"2020-2-17\",\n\"India\",\n{\n            'v': 3.0,\n            'f': \"3.0\",\n        },\n{\n            'v': 0.0,\n            'f': \"0.0\",\n        },\n{\n            'v': 0.0,\n            'f': \"0.0\",\n        },\n{\n            'v': 0.0,\n            'f': \"0.0\",\n        },\n{\n            'v': NaN,\n            'f': \"NaN\",\n        }],\n [{\n            'v': 64290,\n            'f': \"64290\",\n        },\n\"2020-2-18\",\n\"India\",\n{\n            'v': 3.0,\n            'f': \"3.0\",\n        },\n{\n            'v': 0.0,\n            'f': \"0.0\",\n        },\n{\n            'v': 0.0,\n            'f': \"0.0\",\n        },\n{\n            'v': 0.0,\n            'f': \"0.0\",\n        },\n{\n            'v': NaN,\n            'f': \"NaN\",\n        }],\n [{\n            'v': 64291,\n            'f': \"64291\",\n        },\n\"2020-2-19\",\n\"India\",\n{\n            'v': 3.0,\n            'f': \"3.0\",\n        },\n{\n            'v': 0.0,\n            'f': \"0.0\",\n        },\n{\n            'v': 0.0,\n            'f': \"0.0\",\n        },\n{\n            'v': 0.0,\n            'f': \"0.0\",\n        },\n{\n            'v': NaN,\n            'f': \"NaN\",\n        }],\n [{\n            'v': 145825,\n            'f': \"145825\",\n        },\n\"2020-2-15\",\n\"USA\",\n{\n            'v': 15.0,\n            'f': \"15.0\",\n        },\n{\n            'v': NaN,\n            'f': \"NaN\",\n        },\n{\n            'v': 12.0,\n            'f': \"12.0\",\n        },\n{\n            'v': 0.0,\n            'f': \"0.0\",\n        },\n{\n            'v': NaN,\n            'f': \"NaN\",\n        }],\n [{\n            'v': 145826,\n            'f': \"145826\",\n        },\n\"2020-2-16\",\n\"USA\",\n{\n            'v': 15.0,\n            'f': \"15.0\",\n        },\n{\n            'v': 0.0,\n            'f': \"0.0\",\n        },\n{\n            'v': 12.0,\n            'f': \"12.0\",\n        },\n{\n            'v': 0.0,\n            'f': \"0.0\",\n        },\n{\n            'v': NaN,\n            'f': \"NaN\",\n        }],\n [{\n            'v': 145827,\n            'f': \"145827\",\n        },\n\"2020-2-17\",\n\"USA\",\n{\n            'v': 15.0,\n            'f': \"15.0\",\n        },\n{\n            'v': 0.0,\n            'f': \"0.0\",\n        },\n{\n            'v': 12.0,\n            'f': \"12.0\",\n        },\n{\n            'v': 0.0,\n            'f': \"0.0\",\n        },\n{\n            'v': NaN,\n            'f': \"NaN\",\n        }],\n [{\n            'v': 145828,\n            'f': \"145828\",\n        },\n\"2020-2-18\",\n\"USA\",\n{\n            'v': 15.0,\n            'f': \"15.0\",\n        },\n{\n            'v': 0.0,\n            'f': \"0.0\",\n        },\n{\n            'v': 12.0,\n            'f': \"12.0\",\n        },\n{\n            'v': 0.0,\n            'f': \"0.0\",\n        },\n{\n            'v': NaN,\n            'f': \"NaN\",\n        }],\n [{\n            'v': 145829,\n            'f': \"145829\",\n        },\n\"2020-2-19\",\n\"USA\",\n{\n            'v': 15.0,\n            'f': \"15.0\",\n        },\n{\n            'v': 0.0,\n            'f': \"0.0\",\n        },\n{\n            'v': 12.0,\n            'f': \"12.0\",\n        },\n{\n            'v': 0.0,\n            'f': \"0.0\",\n        },\n{\n            'v': NaN,\n            'f': \"NaN\",\n        }]],\n        columns: [[\"number\", \"index\"], [\"string\", \"date\"], [\"string\", \"country\"], [\"number\", \"cumulative_total_cases\"], [\"number\", \"daily_new_cases\"], [\"number\", \"active_cases\"], [\"number\", \"cumulative_total_deaths\"], [\"number\", \"daily_new_deaths\"]],\n        columnOptions: [{\"width\": \"1px\", \"className\": \"index_column\"}],\n        rowsPerPage: 25,\n        helpUrl: \"https://colab.research.google.com/notebooks/data_table.ipynb\",\n        suppressOutputScrolling: true,\n        minimumWidth: undefined,\n      });\n    ",
            "text/html": [
              "\n",
              "  <div id=\"df-60d778df-13cd-4412-82db-2d5cc422a385\">\n",
              "    <div class=\"colab-df-container\">\n",
              "      <div>\n",
              "<style scoped>\n",
              "    .dataframe tbody tr th:only-of-type {\n",
              "        vertical-align: middle;\n",
              "    }\n",
              "\n",
              "    .dataframe tbody tr th {\n",
              "        vertical-align: top;\n",
              "    }\n",
              "\n",
              "    .dataframe thead th {\n",
              "        text-align: right;\n",
              "    }\n",
              "</style>\n",
              "<table border=\"1\" class=\"dataframe\">\n",
              "  <thead>\n",
              "    <tr style=\"text-align: right;\">\n",
              "      <th></th>\n",
              "      <th>date</th>\n",
              "      <th>country</th>\n",
              "      <th>cumulative_total_cases</th>\n",
              "      <th>daily_new_cases</th>\n",
              "      <th>active_cases</th>\n",
              "      <th>cumulative_total_deaths</th>\n",
              "      <th>daily_new_deaths</th>\n",
              "    </tr>\n",
              "  </thead>\n",
              "  <tbody>\n",
              "    <tr>\n",
              "      <th>30404</th>\n",
              "      <td>2020-1-22</td>\n",
              "      <td>China</td>\n",
              "      <td>571.0</td>\n",
              "      <td>NaN</td>\n",
              "      <td>554.0</td>\n",
              "      <td>17.0</td>\n",
              "      <td>NaN</td>\n",
              "    </tr>\n",
              "    <tr>\n",
              "      <th>64287</th>\n",
              "      <td>2020-2-15</td>\n",
              "      <td>India</td>\n",
              "      <td>3.0</td>\n",
              "      <td>NaN</td>\n",
              "      <td>0.0</td>\n",
              "      <td>0.0</td>\n",
              "      <td>NaN</td>\n",
              "    </tr>\n",
              "    <tr>\n",
              "      <th>64288</th>\n",
              "      <td>2020-2-16</td>\n",
              "      <td>India</td>\n",
              "      <td>3.0</td>\n",
              "      <td>0.0</td>\n",
              "      <td>0.0</td>\n",
              "      <td>0.0</td>\n",
              "      <td>NaN</td>\n",
              "    </tr>\n",
              "    <tr>\n",
              "      <th>64289</th>\n",
              "      <td>2020-2-17</td>\n",
              "      <td>India</td>\n",
              "      <td>3.0</td>\n",
              "      <td>0.0</td>\n",
              "      <td>0.0</td>\n",
              "      <td>0.0</td>\n",
              "      <td>NaN</td>\n",
              "    </tr>\n",
              "    <tr>\n",
              "      <th>64290</th>\n",
              "      <td>2020-2-18</td>\n",
              "      <td>India</td>\n",
              "      <td>3.0</td>\n",
              "      <td>0.0</td>\n",
              "      <td>0.0</td>\n",
              "      <td>0.0</td>\n",
              "      <td>NaN</td>\n",
              "    </tr>\n",
              "    <tr>\n",
              "      <th>64291</th>\n",
              "      <td>2020-2-19</td>\n",
              "      <td>India</td>\n",
              "      <td>3.0</td>\n",
              "      <td>0.0</td>\n",
              "      <td>0.0</td>\n",
              "      <td>0.0</td>\n",
              "      <td>NaN</td>\n",
              "    </tr>\n",
              "    <tr>\n",
              "      <th>145825</th>\n",
              "      <td>2020-2-15</td>\n",
              "      <td>USA</td>\n",
              "      <td>15.0</td>\n",
              "      <td>NaN</td>\n",
              "      <td>12.0</td>\n",
              "      <td>0.0</td>\n",
              "      <td>NaN</td>\n",
              "    </tr>\n",
              "    <tr>\n",
              "      <th>145826</th>\n",
              "      <td>2020-2-16</td>\n",
              "      <td>USA</td>\n",
              "      <td>15.0</td>\n",
              "      <td>0.0</td>\n",
              "      <td>12.0</td>\n",
              "      <td>0.0</td>\n",
              "      <td>NaN</td>\n",
              "    </tr>\n",
              "    <tr>\n",
              "      <th>145827</th>\n",
              "      <td>2020-2-17</td>\n",
              "      <td>USA</td>\n",
              "      <td>15.0</td>\n",
              "      <td>0.0</td>\n",
              "      <td>12.0</td>\n",
              "      <td>0.0</td>\n",
              "      <td>NaN</td>\n",
              "    </tr>\n",
              "    <tr>\n",
              "      <th>145828</th>\n",
              "      <td>2020-2-18</td>\n",
              "      <td>USA</td>\n",
              "      <td>15.0</td>\n",
              "      <td>0.0</td>\n",
              "      <td>12.0</td>\n",
              "      <td>0.0</td>\n",
              "      <td>NaN</td>\n",
              "    </tr>\n",
              "    <tr>\n",
              "      <th>145829</th>\n",
              "      <td>2020-2-19</td>\n",
              "      <td>USA</td>\n",
              "      <td>15.0</td>\n",
              "      <td>0.0</td>\n",
              "      <td>12.0</td>\n",
              "      <td>0.0</td>\n",
              "      <td>NaN</td>\n",
              "    </tr>\n",
              "  </tbody>\n",
              "</table>\n",
              "</div>\n",
              "      <button class=\"colab-df-convert\" onclick=\"convertToInteractive('df-60d778df-13cd-4412-82db-2d5cc422a385')\"\n",
              "              title=\"Convert this dataframe to an interactive table.\"\n",
              "              style=\"display:none;\">\n",
              "        \n",
              "  <svg xmlns=\"http://www.w3.org/2000/svg\" height=\"24px\"viewBox=\"0 0 24 24\"\n",
              "       width=\"24px\">\n",
              "    <path d=\"M0 0h24v24H0V0z\" fill=\"none\"/>\n",
              "    <path d=\"M18.56 5.44l.94 2.06.94-2.06 2.06-.94-2.06-.94-.94-2.06-.94 2.06-2.06.94zm-11 1L8.5 8.5l.94-2.06 2.06-.94-2.06-.94L8.5 2.5l-.94 2.06-2.06.94zm10 10l.94 2.06.94-2.06 2.06-.94-2.06-.94-.94-2.06-.94 2.06-2.06.94z\"/><path d=\"M17.41 7.96l-1.37-1.37c-.4-.4-.92-.59-1.43-.59-.52 0-1.04.2-1.43.59L10.3 9.45l-7.72 7.72c-.78.78-.78 2.05 0 2.83L4 21.41c.39.39.9.59 1.41.59.51 0 1.02-.2 1.41-.59l7.78-7.78 2.81-2.81c.8-.78.8-2.07 0-2.86zM5.41 20L4 18.59l7.72-7.72 1.47 1.35L5.41 20z\"/>\n",
              "  </svg>\n",
              "      </button>\n",
              "      \n",
              "  <style>\n",
              "    .colab-df-container {\n",
              "      display:flex;\n",
              "      flex-wrap:wrap;\n",
              "      gap: 12px;\n",
              "    }\n",
              "\n",
              "    .colab-df-convert {\n",
              "      background-color: #E8F0FE;\n",
              "      border: none;\n",
              "      border-radius: 50%;\n",
              "      cursor: pointer;\n",
              "      display: none;\n",
              "      fill: #1967D2;\n",
              "      height: 32px;\n",
              "      padding: 0 0 0 0;\n",
              "      width: 32px;\n",
              "    }\n",
              "\n",
              "    .colab-df-convert:hover {\n",
              "      background-color: #E2EBFA;\n",
              "      box-shadow: 0px 1px 2px rgba(60, 64, 67, 0.3), 0px 1px 3px 1px rgba(60, 64, 67, 0.15);\n",
              "      fill: #174EA6;\n",
              "    }\n",
              "\n",
              "    [theme=dark] .colab-df-convert {\n",
              "      background-color: #3B4455;\n",
              "      fill: #D2E3FC;\n",
              "    }\n",
              "\n",
              "    [theme=dark] .colab-df-convert:hover {\n",
              "      background-color: #434B5C;\n",
              "      box-shadow: 0px 1px 3px 1px rgba(0, 0, 0, 0.15);\n",
              "      filter: drop-shadow(0px 1px 2px rgba(0, 0, 0, 0.3));\n",
              "      fill: #FFFFFF;\n",
              "    }\n",
              "  </style>\n",
              "\n",
              "      <script>\n",
              "        const buttonEl =\n",
              "          document.querySelector('#df-60d778df-13cd-4412-82db-2d5cc422a385 button.colab-df-convert');\n",
              "        buttonEl.style.display =\n",
              "          google.colab.kernel.accessAllowed ? 'block' : 'none';\n",
              "\n",
              "        async function convertToInteractive(key) {\n",
              "          const element = document.querySelector('#df-60d778df-13cd-4412-82db-2d5cc422a385');\n",
              "          const dataTable =\n",
              "            await google.colab.kernel.invokeFunction('convertToInteractive',\n",
              "                                                     [key], {});\n",
              "          if (!dataTable) return;\n",
              "\n",
              "          const docLinkHtml = 'Like what you see? Visit the ' +\n",
              "            '<a target=\"_blank\" href=https://colab.research.google.com/notebooks/data_table.ipynb>data table notebook</a>'\n",
              "            + ' to learn more about interactive tables.';\n",
              "          element.innerHTML = '';\n",
              "          dataTable['output_type'] = 'display_data';\n",
              "          await google.colab.output.renderOutput(dataTable, element);\n",
              "          const docLink = document.createElement('div');\n",
              "          docLink.innerHTML = docLinkHtml;\n",
              "          element.appendChild(docLink);\n",
              "        }\n",
              "      </script>\n",
              "    </div>\n",
              "  </div>\n",
              "  "
            ],
            "text/plain": [
              "             date country  ...  cumulative_total_deaths  daily_new_deaths\n",
              "30404   2020-1-22   China  ...                     17.0               NaN\n",
              "64287   2020-2-15   India  ...                      0.0               NaN\n",
              "64288   2020-2-16   India  ...                      0.0               NaN\n",
              "64289   2020-2-17   India  ...                      0.0               NaN\n",
              "64290   2020-2-18   India  ...                      0.0               NaN\n",
              "64291   2020-2-19   India  ...                      0.0               NaN\n",
              "145825  2020-2-15     USA  ...                      0.0               NaN\n",
              "145826  2020-2-16     USA  ...                      0.0               NaN\n",
              "145827  2020-2-17     USA  ...                      0.0               NaN\n",
              "145828  2020-2-18     USA  ...                      0.0               NaN\n",
              "145829  2020-2-19     USA  ...                      0.0               NaN\n",
              "\n",
              "[11 rows x 7 columns]"
            ]
          },
          "metadata": {},
          "execution_count": 17
        }
      ]
    },
    {
      "cell_type": "markdown",
      "source": [
        "The values which are NaN are typically the dates when the corona spread has started in those countries so we can assume that those values as 0. "
      ],
      "metadata": {
        "id": "5poPDNsuJtOg"
      }
    },
    {
      "cell_type": "code",
      "source": [
        "world_daily_subset.fillna(0, inplace=True)\n",
        "world_daily_subset['date'] = pd.to_datetime(world_daily_subset['date'], format = '%Y-%m-%d')\n",
        "world_daily_subset.isna().sum(axis=0)"
      ],
      "metadata": {
        "colab": {
          "base_uri": "https://localhost:8080/"
        },
        "id": "IVsEOBHxJVVm",
        "outputId": "583cc18f-d47d-4b52-a43e-014c5a7db625"
      },
      "execution_count": null,
      "outputs": [
        {
          "output_type": "stream",
          "name": "stderr",
          "text": [
            "/usr/local/lib/python3.7/dist-packages/pandas/core/frame.py:4327: SettingWithCopyWarning:\n",
            "\n",
            "\n",
            "A value is trying to be set on a copy of a slice from a DataFrame\n",
            "\n",
            "See the caveats in the documentation: https://pandas.pydata.org/pandas-docs/stable/user_guide/indexing.html#returning-a-view-versus-a-copy\n",
            "\n",
            "/usr/local/lib/python3.7/dist-packages/ipykernel_launcher.py:2: SettingWithCopyWarning:\n",
            "\n",
            "\n",
            "A value is trying to be set on a copy of a slice from a DataFrame.\n",
            "Try using .loc[row_indexer,col_indexer] = value instead\n",
            "\n",
            "See the caveats in the documentation: https://pandas.pydata.org/pandas-docs/stable/user_guide/indexing.html#returning-a-view-versus-a-copy\n",
            "\n"
          ]
        },
        {
          "output_type": "execute_result",
          "data": {
            "text/plain": [
              "date                       0\n",
              "country                    0\n",
              "cumulative_total_cases     0\n",
              "daily_new_cases            0\n",
              "active_cases               0\n",
              "cumulative_total_deaths    0\n",
              "daily_new_deaths           0\n",
              "dtype: int64"
            ]
          },
          "metadata": {},
          "execution_count": 18
        }
      ]
    },
    {
      "cell_type": "code",
      "source": [
        "world_daily_subset.head()"
      ],
      "metadata": {
        "colab": {
          "base_uri": "https://localhost:8080/",
          "height": 196
        },
        "id": "1xmt0QxDu272",
        "outputId": "57c7f6af-61e5-4f5b-bceb-0a9a9b54a65c"
      },
      "execution_count": null,
      "outputs": [
        {
          "output_type": "execute_result",
          "data": {
            "application/vnd.google.colaboratory.module+javascript": "\n      import \"https://ssl.gstatic.com/colaboratory/data_table/81f25a011006ed3d/data_table.js\";\n\n      window.createDataTable({\n        data: [[{\n            'v': 30404,\n            'f': \"30404\",\n        },\n\"2020-01-22 00:00:00\",\n\"China\",\n{\n            'v': 571.0,\n            'f': \"571.0\",\n        },\n{\n            'v': 0.0,\n            'f': \"0.0\",\n        },\n{\n            'v': 554.0,\n            'f': \"554.0\",\n        },\n{\n            'v': 17.0,\n            'f': \"17.0\",\n        },\n{\n            'v': 0.0,\n            'f': \"0.0\",\n        }],\n [{\n            'v': 30405,\n            'f': \"30405\",\n        },\n\"2020-01-23 00:00:00\",\n\"China\",\n{\n            'v': 830.0,\n            'f': \"830.0\",\n        },\n{\n            'v': 259.0,\n            'f': \"259.0\",\n        },\n{\n            'v': 771.0,\n            'f': \"771.0\",\n        },\n{\n            'v': 25.0,\n            'f': \"25.0\",\n        },\n{\n            'v': 8.0,\n            'f': \"8.0\",\n        }],\n [{\n            'v': 30406,\n            'f': \"30406\",\n        },\n\"2020-01-24 00:00:00\",\n\"China\",\n{\n            'v': 1287.0,\n            'f': \"1287.0\",\n        },\n{\n            'v': 457.0,\n            'f': \"457.0\",\n        },\n{\n            'v': 1208.0,\n            'f': \"1208.0\",\n        },\n{\n            'v': 41.0,\n            'f': \"41.0\",\n        },\n{\n            'v': 16.0,\n            'f': \"16.0\",\n        }],\n [{\n            'v': 30407,\n            'f': \"30407\",\n        },\n\"2020-01-25 00:00:00\",\n\"China\",\n{\n            'v': 1975.0,\n            'f': \"1975.0\",\n        },\n{\n            'v': 688.0,\n            'f': \"688.0\",\n        },\n{\n            'v': 1870.0,\n            'f': \"1870.0\",\n        },\n{\n            'v': 56.0,\n            'f': \"56.0\",\n        },\n{\n            'v': 15.0,\n            'f': \"15.0\",\n        }],\n [{\n            'v': 30408,\n            'f': \"30408\",\n        },\n\"2020-01-26 00:00:00\",\n\"China\",\n{\n            'v': 2744.0,\n            'f': \"2744.0\",\n        },\n{\n            'v': 769.0,\n            'f': \"769.0\",\n        },\n{\n            'v': 2613.0,\n            'f': \"2613.0\",\n        },\n{\n            'v': 80.0,\n            'f': \"80.0\",\n        },\n{\n            'v': 24.0,\n            'f': \"24.0\",\n        }]],\n        columns: [[\"number\", \"index\"], [\"string\", \"date\"], [\"string\", \"country\"], [\"number\", \"cumulative_total_cases\"], [\"number\", \"daily_new_cases\"], [\"number\", \"active_cases\"], [\"number\", \"cumulative_total_deaths\"], [\"number\", \"daily_new_deaths\"]],\n        columnOptions: [{\"width\": \"1px\", \"className\": \"index_column\"}],\n        rowsPerPage: 25,\n        helpUrl: \"https://colab.research.google.com/notebooks/data_table.ipynb\",\n        suppressOutputScrolling: true,\n        minimumWidth: undefined,\n      });\n    ",
            "text/html": [
              "\n",
              "  <div id=\"df-4f9d508a-2c48-4150-8a27-73e3058fe73d\">\n",
              "    <div class=\"colab-df-container\">\n",
              "      <div>\n",
              "<style scoped>\n",
              "    .dataframe tbody tr th:only-of-type {\n",
              "        vertical-align: middle;\n",
              "    }\n",
              "\n",
              "    .dataframe tbody tr th {\n",
              "        vertical-align: top;\n",
              "    }\n",
              "\n",
              "    .dataframe thead th {\n",
              "        text-align: right;\n",
              "    }\n",
              "</style>\n",
              "<table border=\"1\" class=\"dataframe\">\n",
              "  <thead>\n",
              "    <tr style=\"text-align: right;\">\n",
              "      <th></th>\n",
              "      <th>date</th>\n",
              "      <th>country</th>\n",
              "      <th>cumulative_total_cases</th>\n",
              "      <th>daily_new_cases</th>\n",
              "      <th>active_cases</th>\n",
              "      <th>cumulative_total_deaths</th>\n",
              "      <th>daily_new_deaths</th>\n",
              "    </tr>\n",
              "  </thead>\n",
              "  <tbody>\n",
              "    <tr>\n",
              "      <th>30404</th>\n",
              "      <td>2020-01-22</td>\n",
              "      <td>China</td>\n",
              "      <td>571.0</td>\n",
              "      <td>0.0</td>\n",
              "      <td>554.0</td>\n",
              "      <td>17.0</td>\n",
              "      <td>0.0</td>\n",
              "    </tr>\n",
              "    <tr>\n",
              "      <th>30405</th>\n",
              "      <td>2020-01-23</td>\n",
              "      <td>China</td>\n",
              "      <td>830.0</td>\n",
              "      <td>259.0</td>\n",
              "      <td>771.0</td>\n",
              "      <td>25.0</td>\n",
              "      <td>8.0</td>\n",
              "    </tr>\n",
              "    <tr>\n",
              "      <th>30406</th>\n",
              "      <td>2020-01-24</td>\n",
              "      <td>China</td>\n",
              "      <td>1287.0</td>\n",
              "      <td>457.0</td>\n",
              "      <td>1208.0</td>\n",
              "      <td>41.0</td>\n",
              "      <td>16.0</td>\n",
              "    </tr>\n",
              "    <tr>\n",
              "      <th>30407</th>\n",
              "      <td>2020-01-25</td>\n",
              "      <td>China</td>\n",
              "      <td>1975.0</td>\n",
              "      <td>688.0</td>\n",
              "      <td>1870.0</td>\n",
              "      <td>56.0</td>\n",
              "      <td>15.0</td>\n",
              "    </tr>\n",
              "    <tr>\n",
              "      <th>30408</th>\n",
              "      <td>2020-01-26</td>\n",
              "      <td>China</td>\n",
              "      <td>2744.0</td>\n",
              "      <td>769.0</td>\n",
              "      <td>2613.0</td>\n",
              "      <td>80.0</td>\n",
              "      <td>24.0</td>\n",
              "    </tr>\n",
              "  </tbody>\n",
              "</table>\n",
              "</div>\n",
              "      <button class=\"colab-df-convert\" onclick=\"convertToInteractive('df-4f9d508a-2c48-4150-8a27-73e3058fe73d')\"\n",
              "              title=\"Convert this dataframe to an interactive table.\"\n",
              "              style=\"display:none;\">\n",
              "        \n",
              "  <svg xmlns=\"http://www.w3.org/2000/svg\" height=\"24px\"viewBox=\"0 0 24 24\"\n",
              "       width=\"24px\">\n",
              "    <path d=\"M0 0h24v24H0V0z\" fill=\"none\"/>\n",
              "    <path d=\"M18.56 5.44l.94 2.06.94-2.06 2.06-.94-2.06-.94-.94-2.06-.94 2.06-2.06.94zm-11 1L8.5 8.5l.94-2.06 2.06-.94-2.06-.94L8.5 2.5l-.94 2.06-2.06.94zm10 10l.94 2.06.94-2.06 2.06-.94-2.06-.94-.94-2.06-.94 2.06-2.06.94z\"/><path d=\"M17.41 7.96l-1.37-1.37c-.4-.4-.92-.59-1.43-.59-.52 0-1.04.2-1.43.59L10.3 9.45l-7.72 7.72c-.78.78-.78 2.05 0 2.83L4 21.41c.39.39.9.59 1.41.59.51 0 1.02-.2 1.41-.59l7.78-7.78 2.81-2.81c.8-.78.8-2.07 0-2.86zM5.41 20L4 18.59l7.72-7.72 1.47 1.35L5.41 20z\"/>\n",
              "  </svg>\n",
              "      </button>\n",
              "      \n",
              "  <style>\n",
              "    .colab-df-container {\n",
              "      display:flex;\n",
              "      flex-wrap:wrap;\n",
              "      gap: 12px;\n",
              "    }\n",
              "\n",
              "    .colab-df-convert {\n",
              "      background-color: #E8F0FE;\n",
              "      border: none;\n",
              "      border-radius: 50%;\n",
              "      cursor: pointer;\n",
              "      display: none;\n",
              "      fill: #1967D2;\n",
              "      height: 32px;\n",
              "      padding: 0 0 0 0;\n",
              "      width: 32px;\n",
              "    }\n",
              "\n",
              "    .colab-df-convert:hover {\n",
              "      background-color: #E2EBFA;\n",
              "      box-shadow: 0px 1px 2px rgba(60, 64, 67, 0.3), 0px 1px 3px 1px rgba(60, 64, 67, 0.15);\n",
              "      fill: #174EA6;\n",
              "    }\n",
              "\n",
              "    [theme=dark] .colab-df-convert {\n",
              "      background-color: #3B4455;\n",
              "      fill: #D2E3FC;\n",
              "    }\n",
              "\n",
              "    [theme=dark] .colab-df-convert:hover {\n",
              "      background-color: #434B5C;\n",
              "      box-shadow: 0px 1px 3px 1px rgba(0, 0, 0, 0.15);\n",
              "      filter: drop-shadow(0px 1px 2px rgba(0, 0, 0, 0.3));\n",
              "      fill: #FFFFFF;\n",
              "    }\n",
              "  </style>\n",
              "\n",
              "      <script>\n",
              "        const buttonEl =\n",
              "          document.querySelector('#df-4f9d508a-2c48-4150-8a27-73e3058fe73d button.colab-df-convert');\n",
              "        buttonEl.style.display =\n",
              "          google.colab.kernel.accessAllowed ? 'block' : 'none';\n",
              "\n",
              "        async function convertToInteractive(key) {\n",
              "          const element = document.querySelector('#df-4f9d508a-2c48-4150-8a27-73e3058fe73d');\n",
              "          const dataTable =\n",
              "            await google.colab.kernel.invokeFunction('convertToInteractive',\n",
              "                                                     [key], {});\n",
              "          if (!dataTable) return;\n",
              "\n",
              "          const docLinkHtml = 'Like what you see? Visit the ' +\n",
              "            '<a target=\"_blank\" href=https://colab.research.google.com/notebooks/data_table.ipynb>data table notebook</a>'\n",
              "            + ' to learn more about interactive tables.';\n",
              "          element.innerHTML = '';\n",
              "          dataTable['output_type'] = 'display_data';\n",
              "          await google.colab.output.renderOutput(dataTable, element);\n",
              "          const docLink = document.createElement('div');\n",
              "          docLink.innerHTML = docLinkHtml;\n",
              "          element.appendChild(docLink);\n",
              "        }\n",
              "      </script>\n",
              "    </div>\n",
              "  </div>\n",
              "  "
            ],
            "text/plain": [
              "            date country  ...  cumulative_total_deaths  daily_new_deaths\n",
              "30404 2020-01-22   China  ...                     17.0               0.0\n",
              "30405 2020-01-23   China  ...                     25.0               8.0\n",
              "30406 2020-01-24   China  ...                     41.0              16.0\n",
              "30407 2020-01-25   China  ...                     56.0              15.0\n",
              "30408 2020-01-26   China  ...                     80.0              24.0\n",
              "\n",
              "[5 rows x 7 columns]"
            ]
          },
          "metadata": {},
          "execution_count": 19
        }
      ]
    },
    {
      "cell_type": "markdown",
      "source": [
        "##different plots for three countries"
      ],
      "metadata": {
        "id": "B4V0LE6MrOTh"
      }
    },
    {
      "cell_type": "code",
      "source": [
        "plt.figure(figsize=(14, 8))\n",
        "sns.set_theme(style=\"darkgrid\")\n",
        "\n",
        "sns.lineplot(x=\"date\", y=\"cumulative_total_cases\", hue=\"country\", data=world_daily_subset)\n",
        "plt.title(\"Datewise trend of total cases\")"
      ],
      "metadata": {
        "colab": {
          "base_uri": "https://localhost:8080/",
          "height": 536
        },
        "id": "ktK9O2pcKQWS",
        "outputId": "e0ab6e18-637b-4fff-8610-1097c46b6514"
      },
      "execution_count": null,
      "outputs": [
        {
          "output_type": "execute_result",
          "data": {
            "text/plain": [
              "Text(0.5, 1.0, 'Datewise trend of total cases')"
            ]
          },
          "metadata": {},
          "execution_count": 20
        },
        {
          "output_type": "display_data",
          "data": {
            "image/png": "[encoded data removed]",
            "text/plain": [
              "<Figure size 1008x576 with 1 Axes>"
            ]
          },
          "metadata": {
            "needs_background": "light"
          }
        }
      ]
    },
    {
      "cell_type": "code",
      "source": [
        "plt.figure(figsize=(14, 8))\n",
        "sns.set_theme(style=\"darkgrid\")\n",
        "\n",
        "sns.lineplot(x=\"date\", y=\"daily_new_cases\", hue=\"country\", data=world_daily_subset)\n",
        "plt.title(\"Datewise trend of Daily New Cases cases\")"
      ],
      "metadata": {
        "colab": {
          "base_uri": "https://localhost:8080/",
          "height": 536
        },
        "id": "OWJd8k3jN44O",
        "outputId": "2acfa4c1-b387-4b95-b175-8e8765aed824"
      },
      "execution_count": null,
      "outputs": [
        {
          "output_type": "execute_result",
          "data": {
            "text/plain": [
              "Text(0.5, 1.0, 'Datewise trend of Daily New Cases cases')"
            ]
          },
          "metadata": {},
          "execution_count": 21
        },
        {
          "output_type": "display_data",
          "data": {
            "image/png": "[encoded data removed]",
            "text/plain": [
              "<Figure size 1008x576 with 1 Axes>"
            ]
          },
          "metadata": {}
        }
      ]
    },
    {
      "cell_type": "code",
      "source": [
        "plt.figure(figsize=(14, 8))\n",
        "sns.set_theme(style=\"darkgrid\")\n",
        "\n",
        "sns.lineplot(x=\"date\", y=\"daily_new_deaths\", hue=\"country\", data=world_daily_subset)\n",
        "plt.title(\"Datewise trend of Daily New Deaths\")"
      ],
      "metadata": {
        "colab": {
          "base_uri": "https://localhost:8080/",
          "height": 536
        },
        "id": "3aTMvy4sSwTL",
        "outputId": "75239daa-cb14-4e9c-9197-bd43d866b6fa"
      },
      "execution_count": null,
      "outputs": [
        {
          "output_type": "execute_result",
          "data": {
            "text/plain": [
              "Text(0.5, 1.0, 'Datewise trend of Daily New Deaths')"
            ]
          },
          "metadata": {},
          "execution_count": 22
        },
        {
          "output_type": "display_data",
          "data": {
            "image/png": "[encoded data removed]",
            "text/plain": [
              "<Figure size 1008x576 with 1 Axes>"
            ]
          },
          "metadata": {}
        }
      ]
    },
    {
      "cell_type": "markdown",
      "source": [
        "so as we can see china was quite successful in controling the spread of disease it was only in the starting that the cases was high. wheras in other two countries there are other two peaks in graph indicating two waves of corona virus. USA is in top of total number of cases. and as the cases rising there is a possibility of third wave.\n"
      ],
      "metadata": {
        "id": "IddzhEohtqzM"
      }
    },
    {
      "cell_type": "markdown",
      "source": [
        "#Now analysing the trend in india"
      ],
      "metadata": {
        "id": "nmCCIl3Cvp_X"
      }
    },
    {
      "cell_type": "markdown",
      "source": [
        "##scraping dataset for India from complete dataset and loading statewise dataset and cleaning "
      ],
      "metadata": {
        "id": "gn-kQbJdx1n7"
      }
    },
    {
      "cell_type": "code",
      "source": [
        "india_statewise.info()"
      ],
      "metadata": {
        "colab": {
          "base_uri": "https://localhost:8080/"
        },
        "id": "z-peHdZOyc90",
        "outputId": "59d97bd4-cf2f-4c09-e08f-3933c993e99d"
      },
      "execution_count": null,
      "outputs": [
        {
          "output_type": "stream",
          "name": "stdout",
          "text": [
            "<class 'pandas.core.frame.DataFrame'>\n",
            "RangeIndex: 18110 entries, 0 to 18109\n",
            "Data columns (total 9 columns):\n",
            " #   Column                    Non-Null Count  Dtype \n",
            "---  ------                    --------------  ----- \n",
            " 0   Sno                       18110 non-null  int64 \n",
            " 1   Date                      18110 non-null  object\n",
            " 2   Time                      18110 non-null  object\n",
            " 3   State/UnionTerritory      18110 non-null  object\n",
            " 4   ConfirmedIndianNational   18110 non-null  object\n",
            " 5   ConfirmedForeignNational  18110 non-null  object\n",
            " 6   Cured                     18110 non-null  int64 \n",
            " 7   Deaths                    18110 non-null  int64 \n",
            " 8   Confirmed                 18110 non-null  int64 \n",
            "dtypes: int64(4), object(5)\n",
            "memory usage: 1.2+ MB\n"
          ]
        }
      ]
    },
    {
      "cell_type": "code",
      "source": [
        "india_summ = india_statewise.groupby('Date').agg({\"Cured\":\"sum\", \"Deaths\":\"sum\", \"Confirmed\":\"sum\"})\n",
        "india_summ['Date'] = india_summ.index\n",
        "india_summ.head()"
      ],
      "metadata": {
        "colab": {
          "base_uri": "https://localhost:8080/",
          "height": 453
        },
        "id": "VEWJvxVKyc7p",
        "outputId": "49a99e0e-ce5b-48da-c917-fc5768b33a82"
      },
      "execution_count": null,
      "outputs": [
        {
          "output_type": "stream",
          "name": "stderr",
          "text": [
            "Traceback (most recent call last):\n",
            "  File \"/usr/local/lib/python3.7/dist-packages/google/colab/data_table.py\", line 192, in _repr_javascript_module_\n",
            "    return self._gen_js(self._preprocess_dataframe())\n",
            "  File \"/usr/local/lib/python3.7/dist-packages/google/colab/data_table.py\", line 168, in _preprocess_dataframe\n",
            "    dataframe = dataframe.reset_index()\n",
            "  File \"/usr/local/lib/python3.7/dist-packages/pandas/core/frame.py\", line 4859, in reset_index\n",
            "    new_obj.insert(0, name, level_values)\n",
            "  File \"/usr/local/lib/python3.7/dist-packages/pandas/core/frame.py\", line 3628, in insert\n",
            "    self._mgr.insert(loc, column, value, allow_duplicates=allow_duplicates)\n",
            "  File \"/usr/local/lib/python3.7/dist-packages/pandas/core/internals/managers.py\", line 1186, in insert\n",
            "    raise ValueError(f\"cannot insert {item}, already exists\")\n",
            "ValueError: cannot insert Date, already exists\n"
          ]
        },
        {
          "output_type": "execute_result",
          "data": {
            "text/html": [
              "\n",
              "  <div id=\"df-2f0469ee-350e-448e-8fa4-e8e705ae448a\">\n",
              "    <div class=\"colab-df-container\">\n",
              "      <div>\n",
              "<style scoped>\n",
              "    .dataframe tbody tr th:only-of-type {\n",
              "        vertical-align: middle;\n",
              "    }\n",
              "\n",
              "    .dataframe tbody tr th {\n",
              "        vertical-align: top;\n",
              "    }\n",
              "\n",
              "    .dataframe thead th {\n",
              "        text-align: right;\n",
              "    }\n",
              "</style>\n",
              "<table border=\"1\" class=\"dataframe\">\n",
              "  <thead>\n",
              "    <tr style=\"text-align: right;\">\n",
              "      <th></th>\n",
              "      <th>Cured</th>\n",
              "      <th>Deaths</th>\n",
              "      <th>Confirmed</th>\n",
              "      <th>Date</th>\n",
              "    </tr>\n",
              "    <tr>\n",
              "      <th>Date</th>\n",
              "      <th></th>\n",
              "      <th></th>\n",
              "      <th></th>\n",
              "      <th></th>\n",
              "    </tr>\n",
              "  </thead>\n",
              "  <tbody>\n",
              "    <tr>\n",
              "      <th>2020-01-30</th>\n",
              "      <td>0</td>\n",
              "      <td>0</td>\n",
              "      <td>1</td>\n",
              "      <td>2020-01-30</td>\n",
              "    </tr>\n",
              "    <tr>\n",
              "      <th>2020-01-31</th>\n",
              "      <td>0</td>\n",
              "      <td>0</td>\n",
              "      <td>1</td>\n",
              "      <td>2020-01-31</td>\n",
              "    </tr>\n",
              "    <tr>\n",
              "      <th>2020-02-01</th>\n",
              "      <td>0</td>\n",
              "      <td>0</td>\n",
              "      <td>2</td>\n",
              "      <td>2020-02-01</td>\n",
              "    </tr>\n",
              "    <tr>\n",
              "      <th>2020-02-02</th>\n",
              "      <td>0</td>\n",
              "      <td>0</td>\n",
              "      <td>3</td>\n",
              "      <td>2020-02-02</td>\n",
              "    </tr>\n",
              "    <tr>\n",
              "      <th>2020-02-03</th>\n",
              "      <td>0</td>\n",
              "      <td>0</td>\n",
              "      <td>3</td>\n",
              "      <td>2020-02-03</td>\n",
              "    </tr>\n",
              "  </tbody>\n",
              "</table>\n",
              "</div>\n",
              "      <button class=\"colab-df-convert\" onclick=\"convertToInteractive('df-2f0469ee-350e-448e-8fa4-e8e705ae448a')\"\n",
              "              title=\"Convert this dataframe to an interactive table.\"\n",
              "              style=\"display:none;\">\n",
              "        \n",
              "  <svg xmlns=\"http://www.w3.org/2000/svg\" height=\"24px\"viewBox=\"0 0 24 24\"\n",
              "       width=\"24px\">\n",
              "    <path d=\"M0 0h24v24H0V0z\" fill=\"none\"/>\n",
              "    <path d=\"M18.56 5.44l.94 2.06.94-2.06 2.06-.94-2.06-.94-.94-2.06-.94 2.06-2.06.94zm-11 1L8.5 8.5l.94-2.06 2.06-.94-2.06-.94L8.5 2.5l-.94 2.06-2.06.94zm10 10l.94 2.06.94-2.06 2.06-.94-2.06-.94-.94-2.06-.94 2.06-2.06.94z\"/><path d=\"M17.41 7.96l-1.37-1.37c-.4-.4-.92-.59-1.43-.59-.52 0-1.04.2-1.43.59L10.3 9.45l-7.72 7.72c-.78.78-.78 2.05 0 2.83L4 21.41c.39.39.9.59 1.41.59.51 0 1.02-.2 1.41-.59l7.78-7.78 2.81-2.81c.8-.78.8-2.07 0-2.86zM5.41 20L4 18.59l7.72-7.72 1.47 1.35L5.41 20z\"/>\n",
              "  </svg>\n",
              "      </button>\n",
              "      \n",
              "  <style>\n",
              "    .colab-df-container {\n",
              "      display:flex;\n",
              "      flex-wrap:wrap;\n",
              "      gap: 12px;\n",
              "    }\n",
              "\n",
              "    .colab-df-convert {\n",
              "      background-color: #E8F0FE;\n",
              "      border: none;\n",
              "      border-radius: 50%;\n",
              "      cursor: pointer;\n",
              "      display: none;\n",
              "      fill: #1967D2;\n",
              "      height: 32px;\n",
              "      padding: 0 0 0 0;\n",
              "      width: 32px;\n",
              "    }\n",
              "\n",
              "    .colab-df-convert:hover {\n",
              "      background-color: #E2EBFA;\n",
              "      box-shadow: 0px 1px 2px rgba(60, 64, 67, 0.3), 0px 1px 3px 1px rgba(60, 64, 67, 0.15);\n",
              "      fill: #174EA6;\n",
              "    }\n",
              "\n",
              "    [theme=dark] .colab-df-convert {\n",
              "      background-color: #3B4455;\n",
              "      fill: #D2E3FC;\n",
              "    }\n",
              "\n",
              "    [theme=dark] .colab-df-convert:hover {\n",
              "      background-color: #434B5C;\n",
              "      box-shadow: 0px 1px 3px 1px rgba(0, 0, 0, 0.15);\n",
              "      filter: drop-shadow(0px 1px 2px rgba(0, 0, 0, 0.3));\n",
              "      fill: #FFFFFF;\n",
              "    }\n",
              "  </style>\n",
              "\n",
              "      <script>\n",
              "        const buttonEl =\n",
              "          document.querySelector('#df-2f0469ee-350e-448e-8fa4-e8e705ae448a button.colab-df-convert');\n",
              "        buttonEl.style.display =\n",
              "          google.colab.kernel.accessAllowed ? 'block' : 'none';\n",
              "\n",
              "        async function convertToInteractive(key) {\n",
              "          const element = document.querySelector('#df-2f0469ee-350e-448e-8fa4-e8e705ae448a');\n",
              "          const dataTable =\n",
              "            await google.colab.kernel.invokeFunction('convertToInteractive',\n",
              "                                                     [key], {});\n",
              "          if (!dataTable) return;\n",
              "\n",
              "          const docLinkHtml = 'Like what you see? Visit the ' +\n",
              "            '<a target=\"_blank\" href=https://colab.research.google.com/notebooks/data_table.ipynb>data table notebook</a>'\n",
              "            + ' to learn more about interactive tables.';\n",
              "          element.innerHTML = '';\n",
              "          dataTable['output_type'] = 'display_data';\n",
              "          await google.colab.output.renderOutput(dataTable, element);\n",
              "          const docLink = document.createElement('div');\n",
              "          docLink.innerHTML = docLinkHtml;\n",
              "          element.appendChild(docLink);\n",
              "        }\n",
              "      </script>\n",
              "    </div>\n",
              "  </div>\n",
              "  "
            ],
            "text/plain": [
              "            Cured  Deaths  Confirmed        Date\n",
              "Date                                            \n",
              "2020-01-30      0       0          1  2020-01-30\n",
              "2020-01-31      0       0          1  2020-01-31\n",
              "2020-02-01      0       0          2  2020-02-01\n",
              "2020-02-02      0       0          3  2020-02-02\n",
              "2020-02-03      0       0          3  2020-02-03"
            ]
          },
          "metadata": {},
          "execution_count": 24
        }
      ]
    },
    {
      "cell_type": "code",
      "source": [
        "india_summ.info()"
      ],
      "metadata": {
        "colab": {
          "base_uri": "https://localhost:8080/"
        },
        "id": "iEraSUCL-2oS",
        "outputId": "dcebfe0f-6b32-41dc-e5bf-02083b585309"
      },
      "execution_count": null,
      "outputs": [
        {
          "output_type": "stream",
          "name": "stdout",
          "text": [
            "<class 'pandas.core.frame.DataFrame'>\n",
            "Index: 560 entries, 2020-01-30 to 2021-08-11\n",
            "Data columns (total 4 columns):\n",
            " #   Column     Non-Null Count  Dtype \n",
            "---  ------     --------------  ----- \n",
            " 0   Cured      560 non-null    int64 \n",
            " 1   Deaths     560 non-null    int64 \n",
            " 2   Confirmed  560 non-null    int64 \n",
            " 3   Date       560 non-null    object\n",
            "dtypes: int64(3), object(1)\n",
            "memory usage: 21.9+ KB\n"
          ]
        }
      ]
    },
    {
      "cell_type": "code",
      "source": [
        "vacc_statewise.head()"
      ],
      "metadata": {
        "colab": {
          "base_uri": "https://localhost:8080/",
          "height": 322
        },
        "id": "cZ9Wrg54zdLR",
        "outputId": "6ecd82f0-de6f-4bee-e839-ecdaeec3ea52"
      },
      "execution_count": null,
      "outputs": [
        {
          "output_type": "stream",
          "name": "stdout",
          "text": [
            "Warning: Total number of columns (24) exceeds max_columns (20). Falling back to pandas display.\n"
          ]
        },
        {
          "output_type": "execute_result",
          "data": {
            "text/html": [
              "\n",
              "  <div id=\"df-4309b142-fc12-4c11-9606-672db78fef1f\">\n",
              "    <div class=\"colab-df-container\">\n",
              "      <div>\n",
              "<style scoped>\n",
              "    .dataframe tbody tr th:only-of-type {\n",
              "        vertical-align: middle;\n",
              "    }\n",
              "\n",
              "    .dataframe tbody tr th {\n",
              "        vertical-align: top;\n",
              "    }\n",
              "\n",
              "    .dataframe thead th {\n",
              "        text-align: right;\n",
              "    }\n",
              "</style>\n",
              "<table border=\"1\" class=\"dataframe\">\n",
              "  <thead>\n",
              "    <tr style=\"text-align: right;\">\n",
              "      <th></th>\n",
              "      <th>Updated On</th>\n",
              "      <th>State</th>\n",
              "      <th>Total Doses Administered</th>\n",
              "      <th>Sessions</th>\n",
              "      <th>Sites</th>\n",
              "      <th>First Dose Administered</th>\n",
              "      <th>Second Dose Administered</th>\n",
              "      <th>Male (Doses Administered)</th>\n",
              "      <th>Female (Doses Administered)</th>\n",
              "      <th>Transgender (Doses Administered)</th>\n",
              "      <th>Covaxin (Doses Administered)</th>\n",
              "      <th>CoviShield (Doses Administered)</th>\n",
              "      <th>Sputnik V (Doses Administered)</th>\n",
              "      <th>AEFI</th>\n",
              "      <th>18-44 Years (Doses Administered)</th>\n",
              "      <th>45-60 Years (Doses Administered)</th>\n",
              "      <th>60+ Years (Doses Administered)</th>\n",
              "      <th>18-44 Years(Individuals Vaccinated)</th>\n",
              "      <th>45-60 Years(Individuals Vaccinated)</th>\n",
              "      <th>60+ Years(Individuals Vaccinated)</th>\n",
              "      <th>Male(Individuals Vaccinated)</th>\n",
              "      <th>Female(Individuals Vaccinated)</th>\n",
              "      <th>Transgender(Individuals Vaccinated)</th>\n",
              "      <th>Total Individuals Vaccinated</th>\n",
              "    </tr>\n",
              "  </thead>\n",
              "  <tbody>\n",
              "    <tr>\n",
              "      <th>0</th>\n",
              "      <td>16/01/2021</td>\n",
              "      <td>India</td>\n",
              "      <td>48276.0</td>\n",
              "      <td>3455.0</td>\n",
              "      <td>2957.0</td>\n",
              "      <td>48276.0</td>\n",
              "      <td>0.0</td>\n",
              "      <td>NaN</td>\n",
              "      <td>NaN</td>\n",
              "      <td>NaN</td>\n",
              "      <td>579.0</td>\n",
              "      <td>47697.0</td>\n",
              "      <td>NaN</td>\n",
              "      <td>NaN</td>\n",
              "      <td>NaN</td>\n",
              "      <td>NaN</td>\n",
              "      <td>NaN</td>\n",
              "      <td>NaN</td>\n",
              "      <td>NaN</td>\n",
              "      <td>NaN</td>\n",
              "      <td>23757.0</td>\n",
              "      <td>24517.0</td>\n",
              "      <td>2.0</td>\n",
              "      <td>48276.0</td>\n",
              "    </tr>\n",
              "    <tr>\n",
              "      <th>1</th>\n",
              "      <td>17/01/2021</td>\n",
              "      <td>India</td>\n",
              "      <td>58604.0</td>\n",
              "      <td>8532.0</td>\n",
              "      <td>4954.0</td>\n",
              "      <td>58604.0</td>\n",
              "      <td>0.0</td>\n",
              "      <td>NaN</td>\n",
              "      <td>NaN</td>\n",
              "      <td>NaN</td>\n",
              "      <td>635.0</td>\n",
              "      <td>57969.0</td>\n",
              "      <td>NaN</td>\n",
              "      <td>NaN</td>\n",
              "      <td>NaN</td>\n",
              "      <td>NaN</td>\n",
              "      <td>NaN</td>\n",
              "      <td>NaN</td>\n",
              "      <td>NaN</td>\n",
              "      <td>NaN</td>\n",
              "      <td>27348.0</td>\n",
              "      <td>31252.0</td>\n",
              "      <td>4.0</td>\n",
              "      <td>58604.0</td>\n",
              "    </tr>\n",
              "    <tr>\n",
              "      <th>2</th>\n",
              "      <td>18/01/2021</td>\n",
              "      <td>India</td>\n",
              "      <td>99449.0</td>\n",
              "      <td>13611.0</td>\n",
              "      <td>6583.0</td>\n",
              "      <td>99449.0</td>\n",
              "      <td>0.0</td>\n",
              "      <td>NaN</td>\n",
              "      <td>NaN</td>\n",
              "      <td>NaN</td>\n",
              "      <td>1299.0</td>\n",
              "      <td>98150.0</td>\n",
              "      <td>NaN</td>\n",
              "      <td>NaN</td>\n",
              "      <td>NaN</td>\n",
              "      <td>NaN</td>\n",
              "      <td>NaN</td>\n",
              "      <td>NaN</td>\n",
              "      <td>NaN</td>\n",
              "      <td>NaN</td>\n",
              "      <td>41361.0</td>\n",
              "      <td>58083.0</td>\n",
              "      <td>5.0</td>\n",
              "      <td>99449.0</td>\n",
              "    </tr>\n",
              "    <tr>\n",
              "      <th>3</th>\n",
              "      <td>19/01/2021</td>\n",
              "      <td>India</td>\n",
              "      <td>195525.0</td>\n",
              "      <td>17855.0</td>\n",
              "      <td>7951.0</td>\n",
              "      <td>195525.0</td>\n",
              "      <td>0.0</td>\n",
              "      <td>NaN</td>\n",
              "      <td>NaN</td>\n",
              "      <td>NaN</td>\n",
              "      <td>3017.0</td>\n",
              "      <td>192508.0</td>\n",
              "      <td>NaN</td>\n",
              "      <td>NaN</td>\n",
              "      <td>NaN</td>\n",
              "      <td>NaN</td>\n",
              "      <td>NaN</td>\n",
              "      <td>NaN</td>\n",
              "      <td>NaN</td>\n",
              "      <td>NaN</td>\n",
              "      <td>81901.0</td>\n",
              "      <td>113613.0</td>\n",
              "      <td>11.0</td>\n",
              "      <td>195525.0</td>\n",
              "    </tr>\n",
              "    <tr>\n",
              "      <th>4</th>\n",
              "      <td>20/01/2021</td>\n",
              "      <td>India</td>\n",
              "      <td>251280.0</td>\n",
              "      <td>25472.0</td>\n",
              "      <td>10504.0</td>\n",
              "      <td>251280.0</td>\n",
              "      <td>0.0</td>\n",
              "      <td>NaN</td>\n",
              "      <td>NaN</td>\n",
              "      <td>NaN</td>\n",
              "      <td>3946.0</td>\n",
              "      <td>247334.0</td>\n",
              "      <td>NaN</td>\n",
              "      <td>NaN</td>\n",
              "      <td>NaN</td>\n",
              "      <td>NaN</td>\n",
              "      <td>NaN</td>\n",
              "      <td>NaN</td>\n",
              "      <td>NaN</td>\n",
              "      <td>NaN</td>\n",
              "      <td>98111.0</td>\n",
              "      <td>153145.0</td>\n",
              "      <td>24.0</td>\n",
              "      <td>251280.0</td>\n",
              "    </tr>\n",
              "  </tbody>\n",
              "</table>\n",
              "</div>\n",
              "      <button class=\"colab-df-convert\" onclick=\"convertToInteractive('df-4309b142-fc12-4c11-9606-672db78fef1f')\"\n",
              "              title=\"Convert this dataframe to an interactive table.\"\n",
              "              style=\"display:none;\">\n",
              "        \n",
              "  <svg xmlns=\"http://www.w3.org/2000/svg\" height=\"24px\"viewBox=\"0 0 24 24\"\n",
              "       width=\"24px\">\n",
              "    <path d=\"M0 0h24v24H0V0z\" fill=\"none\"/>\n",
              "    <path d=\"M18.56 5.44l.94 2.06.94-2.06 2.06-.94-2.06-.94-.94-2.06-.94 2.06-2.06.94zm-11 1L8.5 8.5l.94-2.06 2.06-.94-2.06-.94L8.5 2.5l-.94 2.06-2.06.94zm10 10l.94 2.06.94-2.06 2.06-.94-2.06-.94-.94-2.06-.94 2.06-2.06.94z\"/><path d=\"M17.41 7.96l-1.37-1.37c-.4-.4-.92-.59-1.43-.59-.52 0-1.04.2-1.43.59L10.3 9.45l-7.72 7.72c-.78.78-.78 2.05 0 2.83L4 21.41c.39.39.9.59 1.41.59.51 0 1.02-.2 1.41-.59l7.78-7.78 2.81-2.81c.8-.78.8-2.07 0-2.86zM5.41 20L4 18.59l7.72-7.72 1.47 1.35L5.41 20z\"/>\n",
              "  </svg>\n",
              "      </button>\n",
              "      \n",
              "  <style>\n",
              "    .colab-df-container {\n",
              "      display:flex;\n",
              "      flex-wrap:wrap;\n",
              "      gap: 12px;\n",
              "    }\n",
              "\n",
              "    .colab-df-convert {\n",
              "      background-color: #E8F0FE;\n",
              "      border: none;\n",
              "      border-radius: 50%;\n",
              "      cursor: pointer;\n",
              "      display: none;\n",
              "      fill: #1967D2;\n",
              "      height: 32px;\n",
              "      padding: 0 0 0 0;\n",
              "      width: 32px;\n",
              "    }\n",
              "\n",
              "    .colab-df-convert:hover {\n",
              "      background-color: #E2EBFA;\n",
              "      box-shadow: 0px 1px 2px rgba(60, 64, 67, 0.3), 0px 1px 3px 1px rgba(60, 64, 67, 0.15);\n",
              "      fill: #174EA6;\n",
              "    }\n",
              "\n",
              "    [theme=dark] .colab-df-convert {\n",
              "      background-color: #3B4455;\n",
              "      fill: #D2E3FC;\n",
              "    }\n",
              "\n",
              "    [theme=dark] .colab-df-convert:hover {\n",
              "      background-color: #434B5C;\n",
              "      box-shadow: 0px 1px 3px 1px rgba(0, 0, 0, 0.15);\n",
              "      filter: drop-shadow(0px 1px 2px rgba(0, 0, 0, 0.3));\n",
              "      fill: #FFFFFF;\n",
              "    }\n",
              "  </style>\n",
              "\n",
              "      <script>\n",
              "        const buttonEl =\n",
              "          document.querySelector('#df-4309b142-fc12-4c11-9606-672db78fef1f button.colab-df-convert');\n",
              "        buttonEl.style.display =\n",
              "          google.colab.kernel.accessAllowed ? 'block' : 'none';\n",
              "\n",
              "        async function convertToInteractive(key) {\n",
              "          const element = document.querySelector('#df-4309b142-fc12-4c11-9606-672db78fef1f');\n",
              "          const dataTable =\n",
              "            await google.colab.kernel.invokeFunction('convertToInteractive',\n",
              "                                                     [key], {});\n",
              "          if (!dataTable) return;\n",
              "\n",
              "          const docLinkHtml = 'Like what you see? Visit the ' +\n",
              "            '<a target=\"_blank\" href=https://colab.research.google.com/notebooks/data_table.ipynb>data table notebook</a>'\n",
              "            + ' to learn more about interactive tables.';\n",
              "          element.innerHTML = '';\n",
              "          dataTable['output_type'] = 'display_data';\n",
              "          await google.colab.output.renderOutput(dataTable, element);\n",
              "          const docLink = document.createElement('div');\n",
              "          docLink.innerHTML = docLinkHtml;\n",
              "          element.appendChild(docLink);\n",
              "        }\n",
              "      </script>\n",
              "    </div>\n",
              "  </div>\n",
              "  "
            ],
            "text/plain": [
              "   Updated On  ... Total Individuals Vaccinated\n",
              "0  16/01/2021  ...                      48276.0\n",
              "1  17/01/2021  ...                      58604.0\n",
              "2  18/01/2021  ...                      99449.0\n",
              "3  19/01/2021  ...                     195525.0\n",
              "4  20/01/2021  ...                     251280.0\n",
              "\n",
              "[5 rows x 24 columns]"
            ]
          },
          "metadata": {},
          "execution_count": 26
        }
      ]
    },
    {
      "cell_type": "code",
      "source": [
        "vacc_statewise_sub = vacc_statewise[[\"Updated On\", \"Total Doses Administered\"]]\n",
        "vacc_statewise_sub.info()"
      ],
      "metadata": {
        "colab": {
          "base_uri": "https://localhost:8080/"
        },
        "id": "6whmcyFnycyC",
        "outputId": "29d980c5-a90d-428c-b076-d70bad467b0d"
      },
      "execution_count": null,
      "outputs": [
        {
          "output_type": "stream",
          "name": "stdout",
          "text": [
            "<class 'pandas.core.frame.DataFrame'>\n",
            "RangeIndex: 7845 entries, 0 to 7844\n",
            "Data columns (total 2 columns):\n",
            " #   Column                    Non-Null Count  Dtype  \n",
            "---  ------                    --------------  -----  \n",
            " 0   Updated On                7845 non-null   object \n",
            " 1   Total Doses Administered  7621 non-null   float64\n",
            "dtypes: float64(1), object(1)\n",
            "memory usage: 122.7+ KB\n"
          ]
        }
      ]
    },
    {
      "cell_type": "code",
      "source": [
        "is_NaN = vacc_statewise_sub.isnull()\n",
        "row_has_NaN = is_NaN.any(axis=1)\n",
        "rows_with_NaN = vacc_statewise_sub[row_has_NaN]\n",
        "rows_with_NaN"
      ],
      "metadata": {
        "colab": {
          "base_uri": "https://localhost:8080/",
          "height": 637
        },
        "id": "4wgnXkRNycvm",
        "outputId": "fb9f97e3-71ea-4dd1-f02b-a563cb2b5a5a"
      },
      "execution_count": null,
      "outputs": [
        {
          "output_type": "execute_result",
          "data": {
            "application/vnd.google.colaboratory.module+javascript": "\n      import \"https://ssl.gstatic.com/colaboratory/data_table/81f25a011006ed3d/data_table.js\";\n\n      window.createDataTable({\n        data: [[{\n            'v': 206,\n            'f': \"206\",\n        },\n\"10/08/2021\",\n{\n            'v': NaN,\n            'f': \"NaN\",\n        }],\n [{\n            'v': 207,\n            'f': \"207\",\n        },\n\"11/08/2021\",\n{\n            'v': NaN,\n            'f': \"NaN\",\n        }],\n [{\n            'v': 208,\n            'f': \"208\",\n        },\n\"12/08/2021\",\n{\n            'v': NaN,\n            'f': \"NaN\",\n        }],\n [{\n            'v': 209,\n            'f': \"209\",\n        },\n\"13/08/2021\",\n{\n            'v': NaN,\n            'f': \"NaN\",\n        }],\n [{\n            'v': 210,\n            'f': \"210\",\n        },\n\"14/08/2021\",\n{\n            'v': NaN,\n            'f': \"NaN\",\n        }],\n [{\n            'v': 211,\n            'f': \"211\",\n        },\n\"15/08/2021\",\n{\n            'v': NaN,\n            'f': \"NaN\",\n        }],\n [{\n            'v': 418,\n            'f': \"418\",\n        },\n\"10/08/2021\",\n{\n            'v': NaN,\n            'f': \"NaN\",\n        }],\n [{\n            'v': 419,\n            'f': \"419\",\n        },\n\"11/08/2021\",\n{\n            'v': NaN,\n            'f': \"NaN\",\n        }],\n [{\n            'v': 420,\n            'f': \"420\",\n        },\n\"12/08/2021\",\n{\n            'v': NaN,\n            'f': \"NaN\",\n        }],\n [{\n            'v': 421,\n            'f': \"421\",\n        },\n\"13/08/2021\",\n{\n            'v': NaN,\n            'f': \"NaN\",\n        }],\n [{\n            'v': 422,\n            'f': \"422\",\n        },\n\"14/08/2021\",\n{\n            'v': NaN,\n            'f': \"NaN\",\n        }],\n [{\n            'v': 423,\n            'f': \"423\",\n        },\n\"15/08/2021\",\n{\n            'v': NaN,\n            'f': \"NaN\",\n        }],\n [{\n            'v': 630,\n            'f': \"630\",\n        },\n\"10/08/2021\",\n{\n            'v': NaN,\n            'f': \"NaN\",\n        }],\n [{\n            'v': 631,\n            'f': \"631\",\n        },\n\"11/08/2021\",\n{\n            'v': NaN,\n            'f': \"NaN\",\n        }],\n [{\n            'v': 632,\n            'f': \"632\",\n        },\n\"12/08/2021\",\n{\n            'v': NaN,\n            'f': \"NaN\",\n        }],\n [{\n            'v': 633,\n            'f': \"633\",\n        },\n\"13/08/2021\",\n{\n            'v': NaN,\n            'f': \"NaN\",\n        }],\n [{\n            'v': 634,\n            'f': \"634\",\n        },\n\"14/08/2021\",\n{\n            'v': NaN,\n            'f': \"NaN\",\n        }],\n [{\n            'v': 635,\n            'f': \"635\",\n        },\n\"15/08/2021\",\n{\n            'v': NaN,\n            'f': \"NaN\",\n        }],\n [{\n            'v': 842,\n            'f': \"842\",\n        },\n\"10/08/2021\",\n{\n            'v': NaN,\n            'f': \"NaN\",\n        }],\n [{\n            'v': 843,\n            'f': \"843\",\n        },\n\"11/08/2021\",\n{\n            'v': NaN,\n            'f': \"NaN\",\n        }],\n [{\n            'v': 844,\n            'f': \"844\",\n        },\n\"12/08/2021\",\n{\n            'v': NaN,\n            'f': \"NaN\",\n        }],\n [{\n            'v': 845,\n            'f': \"845\",\n        },\n\"13/08/2021\",\n{\n            'v': NaN,\n            'f': \"NaN\",\n        }],\n [{\n            'v': 846,\n            'f': \"846\",\n        },\n\"14/08/2021\",\n{\n            'v': NaN,\n            'f': \"NaN\",\n        }],\n [{\n            'v': 847,\n            'f': \"847\",\n        },\n\"15/08/2021\",\n{\n            'v': NaN,\n            'f': \"NaN\",\n        }],\n [{\n            'v': 1054,\n            'f': \"1054\",\n        },\n\"10/08/2021\",\n{\n            'v': NaN,\n            'f': \"NaN\",\n        }],\n [{\n            'v': 1055,\n            'f': \"1055\",\n        },\n\"11/08/2021\",\n{\n            'v': NaN,\n            'f': \"NaN\",\n        }],\n [{\n            'v': 1056,\n            'f': \"1056\",\n        },\n\"12/08/2021\",\n{\n            'v': NaN,\n            'f': \"NaN\",\n        }],\n [{\n            'v': 1057,\n            'f': \"1057\",\n        },\n\"13/08/2021\",\n{\n            'v': NaN,\n            'f': \"NaN\",\n        }],\n [{\n            'v': 1058,\n            'f': \"1058\",\n        },\n\"14/08/2021\",\n{\n            'v': NaN,\n            'f': \"NaN\",\n        }],\n [{\n            'v': 1059,\n            'f': \"1059\",\n        },\n\"15/08/2021\",\n{\n            'v': NaN,\n            'f': \"NaN\",\n        }],\n [{\n            'v': 1266,\n            'f': \"1266\",\n        },\n\"10/08/2021\",\n{\n            'v': NaN,\n            'f': \"NaN\",\n        }],\n [{\n            'v': 1267,\n            'f': \"1267\",\n        },\n\"11/08/2021\",\n{\n            'v': NaN,\n            'f': \"NaN\",\n        }],\n [{\n            'v': 1268,\n            'f': \"1268\",\n        },\n\"12/08/2021\",\n{\n            'v': NaN,\n            'f': \"NaN\",\n        }],\n [{\n            'v': 1269,\n            'f': \"1269\",\n        },\n\"13/08/2021\",\n{\n            'v': NaN,\n            'f': \"NaN\",\n        }],\n [{\n            'v': 1270,\n            'f': \"1270\",\n        },\n\"14/08/2021\",\n{\n            'v': NaN,\n            'f': \"NaN\",\n        }],\n [{\n            'v': 1271,\n            'f': \"1271\",\n        },\n\"15/08/2021\",\n{\n            'v': NaN,\n            'f': \"NaN\",\n        }],\n [{\n            'v': 1478,\n            'f': \"1478\",\n        },\n\"10/08/2021\",\n{\n            'v': NaN,\n            'f': \"NaN\",\n        }],\n [{\n            'v': 1479,\n            'f': \"1479\",\n        },\n\"11/08/2021\",\n{\n            'v': NaN,\n            'f': \"NaN\",\n        }],\n [{\n            'v': 1480,\n            'f': \"1480\",\n        },\n\"12/08/2021\",\n{\n            'v': NaN,\n            'f': \"NaN\",\n        }],\n [{\n            'v': 1481,\n            'f': \"1481\",\n        },\n\"13/08/2021\",\n{\n            'v': NaN,\n            'f': \"NaN\",\n        }],\n [{\n            'v': 1482,\n            'f': \"1482\",\n        },\n\"14/08/2021\",\n{\n            'v': NaN,\n            'f': \"NaN\",\n        }],\n [{\n            'v': 1483,\n            'f': \"1483\",\n        },\n\"15/08/2021\",\n{\n            'v': NaN,\n            'f': \"NaN\",\n        }],\n [{\n            'v': 1690,\n            'f': \"1690\",\n        },\n\"10/08/2021\",\n{\n            'v': NaN,\n            'f': \"NaN\",\n        }],\n [{\n            'v': 1691,\n            'f': \"1691\",\n        },\n\"11/08/2021\",\n{\n            'v': NaN,\n            'f': \"NaN\",\n        }],\n [{\n            'v': 1692,\n            'f': \"1692\",\n        },\n\"12/08/2021\",\n{\n            'v': NaN,\n            'f': \"NaN\",\n        }],\n [{\n            'v': 1693,\n            'f': \"1693\",\n        },\n\"13/08/2021\",\n{\n            'v': NaN,\n            'f': \"NaN\",\n        }],\n [{\n            'v': 1694,\n            'f': \"1694\",\n        },\n\"14/08/2021\",\n{\n            'v': NaN,\n            'f': \"NaN\",\n        }],\n [{\n            'v': 1695,\n            'f': \"1695\",\n        },\n\"15/08/2021\",\n{\n            'v': NaN,\n            'f': \"NaN\",\n        }],\n [{\n            'v': 1851,\n            'f': \"1851\",\n        },\n\"20/06/2021\",\n{\n            'v': NaN,\n            'f': \"NaN\",\n        }],\n [{\n            'v': 1902,\n            'f': \"1902\",\n        },\n\"10/08/2021\",\n{\n            'v': NaN,\n            'f': \"NaN\",\n        }],\n [{\n            'v': 1903,\n            'f': \"1903\",\n        },\n\"11/08/2021\",\n{\n            'v': NaN,\n            'f': \"NaN\",\n        }],\n [{\n            'v': 1904,\n            'f': \"1904\",\n        },\n\"12/08/2021\",\n{\n            'v': NaN,\n            'f': \"NaN\",\n        }],\n [{\n            'v': 1905,\n            'f': \"1905\",\n        },\n\"13/08/2021\",\n{\n            'v': NaN,\n            'f': \"NaN\",\n        }],\n [{\n            'v': 1906,\n            'f': \"1906\",\n        },\n\"14/08/2021\",\n{\n            'v': NaN,\n            'f': \"NaN\",\n        }],\n [{\n            'v': 1907,\n            'f': \"1907\",\n        },\n\"15/08/2021\",\n{\n            'v': NaN,\n            'f': \"NaN\",\n        }],\n [{\n            'v': 2114,\n            'f': \"2114\",\n        },\n\"10/08/2021\",\n{\n            'v': NaN,\n            'f': \"NaN\",\n        }],\n [{\n            'v': 2115,\n            'f': \"2115\",\n        },\n\"11/08/2021\",\n{\n            'v': NaN,\n            'f': \"NaN\",\n        }],\n [{\n            'v': 2116,\n            'f': \"2116\",\n        },\n\"12/08/2021\",\n{\n            'v': NaN,\n            'f': \"NaN\",\n        }],\n [{\n            'v': 2117,\n            'f': \"2117\",\n        },\n\"13/08/2021\",\n{\n            'v': NaN,\n            'f': \"NaN\",\n        }],\n [{\n            'v': 2118,\n            'f': \"2118\",\n        },\n\"14/08/2021\",\n{\n            'v': NaN,\n            'f': \"NaN\",\n        }],\n [{\n            'v': 2119,\n            'f': \"2119\",\n        },\n\"15/08/2021\",\n{\n            'v': NaN,\n            'f': \"NaN\",\n        }],\n [{\n            'v': 2120,\n            'f': \"2120\",\n        },\n\"16/08/2021\",\n{\n            'v': NaN,\n            'f': \"NaN\",\n        }],\n [{\n            'v': 2327,\n            'f': \"2327\",\n        },\n\"10/08/2021\",\n{\n            'v': NaN,\n            'f': \"NaN\",\n        }],\n [{\n            'v': 2328,\n            'f': \"2328\",\n        },\n\"11/08/2021\",\n{\n            'v': NaN,\n            'f': \"NaN\",\n        }],\n [{\n            'v': 2329,\n            'f': \"2329\",\n        },\n\"12/08/2021\",\n{\n            'v': NaN,\n            'f': \"NaN\",\n        }],\n [{\n            'v': 2330,\n            'f': \"2330\",\n        },\n\"13/08/2021\",\n{\n            'v': NaN,\n            'f': \"NaN\",\n        }],\n [{\n            'v': 2331,\n            'f': \"2331\",\n        },\n\"14/08/2021\",\n{\n            'v': NaN,\n            'f': \"NaN\",\n        }],\n [{\n            'v': 2332,\n            'f': \"2332\",\n        },\n\"15/08/2021\",\n{\n            'v': NaN,\n            'f': \"NaN\",\n        }],\n [{\n            'v': 2539,\n            'f': \"2539\",\n        },\n\"10/08/2021\",\n{\n            'v': NaN,\n            'f': \"NaN\",\n        }],\n [{\n            'v': 2540,\n            'f': \"2540\",\n        },\n\"11/08/2021\",\n{\n            'v': NaN,\n            'f': \"NaN\",\n        }],\n [{\n            'v': 2541,\n            'f': \"2541\",\n        },\n\"12/08/2021\",\n{\n            'v': NaN,\n            'f': \"NaN\",\n        }],\n [{\n            'v': 2542,\n            'f': \"2542\",\n        },\n\"13/08/2021\",\n{\n            'v': NaN,\n            'f': \"NaN\",\n        }],\n [{\n            'v': 2543,\n            'f': \"2543\",\n        },\n\"14/08/2021\",\n{\n            'v': NaN,\n            'f': \"NaN\",\n        }],\n [{\n            'v': 2544,\n            'f': \"2544\",\n        },\n\"15/08/2021\",\n{\n            'v': NaN,\n            'f': \"NaN\",\n        }],\n [{\n            'v': 2751,\n            'f': \"2751\",\n        },\n\"10/08/2021\",\n{\n            'v': NaN,\n            'f': \"NaN\",\n        }],\n [{\n            'v': 2752,\n            'f': \"2752\",\n        },\n\"11/08/2021\",\n{\n            'v': NaN,\n            'f': \"NaN\",\n        }],\n [{\n            'v': 2753,\n            'f': \"2753\",\n        },\n\"12/08/2021\",\n{\n            'v': NaN,\n            'f': \"NaN\",\n        }],\n [{\n            'v': 2754,\n            'f': \"2754\",\n        },\n\"13/08/2021\",\n{\n            'v': NaN,\n            'f': \"NaN\",\n        }],\n [{\n            'v': 2755,\n            'f': \"2755\",\n        },\n\"14/08/2021\",\n{\n            'v': NaN,\n            'f': \"NaN\",\n        }],\n [{\n            'v': 2756,\n            'f': \"2756\",\n        },\n\"15/08/2021\",\n{\n            'v': NaN,\n            'f': \"NaN\",\n        }],\n [{\n            'v': 2963,\n            'f': \"2963\",\n        },\n\"10/08/2021\",\n{\n            'v': NaN,\n            'f': \"NaN\",\n        }],\n [{\n            'v': 2964,\n            'f': \"2964\",\n        },\n\"11/08/2021\",\n{\n            'v': NaN,\n            'f': \"NaN\",\n        }],\n [{\n            'v': 2965,\n            'f': \"2965\",\n        },\n\"12/08/2021\",\n{\n            'v': NaN,\n            'f': \"NaN\",\n        }],\n [{\n            'v': 2966,\n            'f': \"2966\",\n        },\n\"13/08/2021\",\n{\n            'v': NaN,\n            'f': \"NaN\",\n        }],\n [{\n            'v': 2967,\n            'f': \"2967\",\n        },\n\"14/08/2021\",\n{\n            'v': NaN,\n            'f': \"NaN\",\n        }],\n [{\n            'v': 2968,\n            'f': \"2968\",\n        },\n\"15/08/2021\",\n{\n            'v': NaN,\n            'f': \"NaN\",\n        }],\n [{\n            'v': 3175,\n            'f': \"3175\",\n        },\n\"10/08/2021\",\n{\n            'v': NaN,\n            'f': \"NaN\",\n        }],\n [{\n            'v': 3176,\n            'f': \"3176\",\n        },\n\"11/08/2021\",\n{\n            'v': NaN,\n            'f': \"NaN\",\n        }],\n [{\n            'v': 3177,\n            'f': \"3177\",\n        },\n\"12/08/2021\",\n{\n            'v': NaN,\n            'f': \"NaN\",\n        }],\n [{\n            'v': 3178,\n            'f': \"3178\",\n        },\n\"13/08/2021\",\n{\n            'v': NaN,\n            'f': \"NaN\",\n        }],\n [{\n            'v': 3179,\n            'f': \"3179\",\n        },\n\"14/08/2021\",\n{\n            'v': NaN,\n            'f': \"NaN\",\n        }],\n [{\n            'v': 3180,\n            'f': \"3180\",\n        },\n\"15/08/2021\",\n{\n            'v': NaN,\n            'f': \"NaN\",\n        }],\n [{\n            'v': 3387,\n            'f': \"3387\",\n        },\n\"10/08/2021\",\n{\n            'v': NaN,\n            'f': \"NaN\",\n        }],\n [{\n            'v': 3388,\n            'f': \"3388\",\n        },\n\"11/08/2021\",\n{\n            'v': NaN,\n            'f': \"NaN\",\n        }],\n [{\n            'v': 3389,\n            'f': \"3389\",\n        },\n\"12/08/2021\",\n{\n            'v': NaN,\n            'f': \"NaN\",\n        }],\n [{\n            'v': 3390,\n            'f': \"3390\",\n        },\n\"13/08/2021\",\n{\n            'v': NaN,\n            'f': \"NaN\",\n        }],\n [{\n            'v': 3391,\n            'f': \"3391\",\n        },\n\"14/08/2021\",\n{\n            'v': NaN,\n            'f': \"NaN\",\n        }],\n [{\n            'v': 3392,\n            'f': \"3392\",\n        },\n\"15/08/2021\",\n{\n            'v': NaN,\n            'f': \"NaN\",\n        }],\n [{\n            'v': 3599,\n            'f': \"3599\",\n        },\n\"10/08/2021\",\n{\n            'v': NaN,\n            'f': \"NaN\",\n        }],\n [{\n            'v': 3600,\n            'f': \"3600\",\n        },\n\"11/08/2021\",\n{\n            'v': NaN,\n            'f': \"NaN\",\n        }],\n [{\n            'v': 3601,\n            'f': \"3601\",\n        },\n\"12/08/2021\",\n{\n            'v': NaN,\n            'f': \"NaN\",\n        }],\n [{\n            'v': 3602,\n            'f': \"3602\",\n        },\n\"13/08/2021\",\n{\n            'v': NaN,\n            'f': \"NaN\",\n        }],\n [{\n            'v': 3603,\n            'f': \"3603\",\n        },\n\"14/08/2021\",\n{\n            'v': NaN,\n            'f': \"NaN\",\n        }],\n [{\n            'v': 3604,\n            'f': \"3604\",\n        },\n\"15/08/2021\",\n{\n            'v': NaN,\n            'f': \"NaN\",\n        }],\n [{\n            'v': 3811,\n            'f': \"3811\",\n        },\n\"10/08/2021\",\n{\n            'v': NaN,\n            'f': \"NaN\",\n        }],\n [{\n            'v': 3812,\n            'f': \"3812\",\n        },\n\"11/08/2021\",\n{\n            'v': NaN,\n            'f': \"NaN\",\n        }],\n [{\n            'v': 3813,\n            'f': \"3813\",\n        },\n\"12/08/2021\",\n{\n            'v': NaN,\n            'f': \"NaN\",\n        }],\n [{\n            'v': 3814,\n            'f': \"3814\",\n        },\n\"13/08/2021\",\n{\n            'v': NaN,\n            'f': \"NaN\",\n        }],\n [{\n            'v': 3815,\n            'f': \"3815\",\n        },\n\"14/08/2021\",\n{\n            'v': NaN,\n            'f': \"NaN\",\n        }],\n [{\n            'v': 3816,\n            'f': \"3816\",\n        },\n\"15/08/2021\",\n{\n            'v': NaN,\n            'f': \"NaN\",\n        }],\n [{\n            'v': 4023,\n            'f': \"4023\",\n        },\n\"10/08/2021\",\n{\n            'v': NaN,\n            'f': \"NaN\",\n        }],\n [{\n            'v': 4024,\n            'f': \"4024\",\n        },\n\"11/08/2021\",\n{\n            'v': NaN,\n            'f': \"NaN\",\n        }],\n [{\n            'v': 4025,\n            'f': \"4025\",\n        },\n\"12/08/2021\",\n{\n            'v': NaN,\n            'f': \"NaN\",\n        }],\n [{\n            'v': 4026,\n            'f': \"4026\",\n        },\n\"13/08/2021\",\n{\n            'v': NaN,\n            'f': \"NaN\",\n        }],\n [{\n            'v': 4027,\n            'f': \"4027\",\n        },\n\"14/08/2021\",\n{\n            'v': NaN,\n            'f': \"NaN\",\n        }],\n [{\n            'v': 4028,\n            'f': \"4028\",\n        },\n\"15/08/2021\",\n{\n            'v': NaN,\n            'f': \"NaN\",\n        }],\n [{\n            'v': 4235,\n            'f': \"4235\",\n        },\n\"10/08/2021\",\n{\n            'v': NaN,\n            'f': \"NaN\",\n        }],\n [{\n            'v': 4236,\n            'f': \"4236\",\n        },\n\"11/08/2021\",\n{\n            'v': NaN,\n            'f': \"NaN\",\n        }],\n [{\n            'v': 4237,\n            'f': \"4237\",\n        },\n\"12/08/2021\",\n{\n            'v': NaN,\n            'f': \"NaN\",\n        }],\n [{\n            'v': 4238,\n            'f': \"4238\",\n        },\n\"13/08/2021\",\n{\n            'v': NaN,\n            'f': \"NaN\",\n        }],\n [{\n            'v': 4239,\n            'f': \"4239\",\n        },\n\"14/08/2021\",\n{\n            'v': NaN,\n            'f': \"NaN\",\n        }],\n [{\n            'v': 4240,\n            'f': \"4240\",\n        },\n\"15/08/2021\",\n{\n            'v': NaN,\n            'f': \"NaN\",\n        }],\n [{\n            'v': 4447,\n            'f': \"4447\",\n        },\n\"10/08/2021\",\n{\n            'v': NaN,\n            'f': \"NaN\",\n        }],\n [{\n            'v': 4448,\n            'f': \"4448\",\n        },\n\"11/08/2021\",\n{\n            'v': NaN,\n            'f': \"NaN\",\n        }],\n [{\n            'v': 4449,\n            'f': \"4449\",\n        },\n\"12/08/2021\",\n{\n            'v': NaN,\n            'f': \"NaN\",\n        }],\n [{\n            'v': 4450,\n            'f': \"4450\",\n        },\n\"13/08/2021\",\n{\n            'v': NaN,\n            'f': \"NaN\",\n        }],\n [{\n            'v': 4451,\n            'f': \"4451\",\n        },\n\"14/08/2021\",\n{\n            'v': NaN,\n            'f': \"NaN\",\n        }],\n [{\n            'v': 4452,\n            'f': \"4452\",\n        },\n\"15/08/2021\",\n{\n            'v': NaN,\n            'f': \"NaN\",\n        }],\n [{\n            'v': 4659,\n            'f': \"4659\",\n        },\n\"10/08/2021\",\n{\n            'v': NaN,\n            'f': \"NaN\",\n        }],\n [{\n            'v': 4660,\n            'f': \"4660\",\n        },\n\"11/08/2021\",\n{\n            'v': NaN,\n            'f': \"NaN\",\n        }],\n [{\n            'v': 4661,\n            'f': \"4661\",\n        },\n\"12/08/2021\",\n{\n            'v': NaN,\n            'f': \"NaN\",\n        }],\n [{\n            'v': 4662,\n            'f': \"4662\",\n        },\n\"13/08/2021\",\n{\n            'v': NaN,\n            'f': \"NaN\",\n        }],\n [{\n            'v': 4663,\n            'f': \"4663\",\n        },\n\"14/08/2021\",\n{\n            'v': NaN,\n            'f': \"NaN\",\n        }],\n [{\n            'v': 4664,\n            'f': \"4664\",\n        },\n\"15/08/2021\",\n{\n            'v': NaN,\n            'f': \"NaN\",\n        }],\n [{\n            'v': 4871,\n            'f': \"4871\",\n        },\n\"10/08/2021\",\n{\n            'v': NaN,\n            'f': \"NaN\",\n        }],\n [{\n            'v': 4872,\n            'f': \"4872\",\n        },\n\"11/08/2021\",\n{\n            'v': NaN,\n            'f': \"NaN\",\n        }],\n [{\n            'v': 4873,\n            'f': \"4873\",\n        },\n\"12/08/2021\",\n{\n            'v': NaN,\n            'f': \"NaN\",\n        }],\n [{\n            'v': 4874,\n            'f': \"4874\",\n        },\n\"13/08/2021\",\n{\n            'v': NaN,\n            'f': \"NaN\",\n        }],\n [{\n            'v': 4875,\n            'f': \"4875\",\n        },\n\"14/08/2021\",\n{\n            'v': NaN,\n            'f': \"NaN\",\n        }],\n [{\n            'v': 4876,\n            'f': \"4876\",\n        },\n\"15/08/2021\",\n{\n            'v': NaN,\n            'f': \"NaN\",\n        }],\n [{\n            'v': 5083,\n            'f': \"5083\",\n        },\n\"10/08/2021\",\n{\n            'v': NaN,\n            'f': \"NaN\",\n        }],\n [{\n            'v': 5084,\n            'f': \"5084\",\n        },\n\"11/08/2021\",\n{\n            'v': NaN,\n            'f': \"NaN\",\n        }],\n [{\n            'v': 5085,\n            'f': \"5085\",\n        },\n\"12/08/2021\",\n{\n            'v': NaN,\n            'f': \"NaN\",\n        }],\n [{\n            'v': 5086,\n            'f': \"5086\",\n        },\n\"13/08/2021\",\n{\n            'v': NaN,\n            'f': \"NaN\",\n        }],\n [{\n            'v': 5087,\n            'f': \"5087\",\n        },\n\"14/08/2021\",\n{\n            'v': NaN,\n            'f': \"NaN\",\n        }],\n [{\n            'v': 5088,\n            'f': \"5088\",\n        },\n\"15/08/2021\",\n{\n            'v': NaN,\n            'f': \"NaN\",\n        }],\n [{\n            'v': 5295,\n            'f': \"5295\",\n        },\n\"10/08/2021\",\n{\n            'v': NaN,\n            'f': \"NaN\",\n        }],\n [{\n            'v': 5296,\n            'f': \"5296\",\n        },\n\"11/08/2021\",\n{\n            'v': NaN,\n            'f': \"NaN\",\n        }],\n [{\n            'v': 5297,\n            'f': \"5297\",\n        },\n\"12/08/2021\",\n{\n            'v': NaN,\n            'f': \"NaN\",\n        }],\n [{\n            'v': 5298,\n            'f': \"5298\",\n        },\n\"13/08/2021\",\n{\n            'v': NaN,\n            'f': \"NaN\",\n        }],\n [{\n            'v': 5299,\n            'f': \"5299\",\n        },\n\"14/08/2021\",\n{\n            'v': NaN,\n            'f': \"NaN\",\n        }],\n [{\n            'v': 5300,\n            'f': \"5300\",\n        },\n\"15/08/2021\",\n{\n            'v': NaN,\n            'f': \"NaN\",\n        }],\n [{\n            'v': 5507,\n            'f': \"5507\",\n        },\n\"10/08/2021\",\n{\n            'v': NaN,\n            'f': \"NaN\",\n        }],\n [{\n            'v': 5508,\n            'f': \"5508\",\n        },\n\"11/08/2021\",\n{\n            'v': NaN,\n            'f': \"NaN\",\n        }],\n [{\n            'v': 5509,\n            'f': \"5509\",\n        },\n\"12/08/2021\",\n{\n            'v': NaN,\n            'f': \"NaN\",\n        }],\n [{\n            'v': 5510,\n            'f': \"5510\",\n        },\n\"13/08/2021\",\n{\n            'v': NaN,\n            'f': \"NaN\",\n        }],\n [{\n            'v': 5511,\n            'f': \"5511\",\n        },\n\"14/08/2021\",\n{\n            'v': NaN,\n            'f': \"NaN\",\n        }],\n [{\n            'v': 5512,\n            'f': \"5512\",\n        },\n\"15/08/2021\",\n{\n            'v': NaN,\n            'f': \"NaN\",\n        }],\n [{\n            'v': 5719,\n            'f': \"5719\",\n        },\n\"10/08/2021\",\n{\n            'v': NaN,\n            'f': \"NaN\",\n        }],\n [{\n            'v': 5720,\n            'f': \"5720\",\n        },\n\"11/08/2021\",\n{\n            'v': NaN,\n            'f': \"NaN\",\n        }],\n [{\n            'v': 5721,\n            'f': \"5721\",\n        },\n\"12/08/2021\",\n{\n            'v': NaN,\n            'f': \"NaN\",\n        }],\n [{\n            'v': 5722,\n            'f': \"5722\",\n        },\n\"13/08/2021\",\n{\n            'v': NaN,\n            'f': \"NaN\",\n        }],\n [{\n            'v': 5723,\n            'f': \"5723\",\n        },\n\"14/08/2021\",\n{\n            'v': NaN,\n            'f': \"NaN\",\n        }],\n [{\n            'v': 5724,\n            'f': \"5724\",\n        },\n\"15/08/2021\",\n{\n            'v': NaN,\n            'f': \"NaN\",\n        }],\n [{\n            'v': 5931,\n            'f': \"5931\",\n        },\n\"10/08/2021\",\n{\n            'v': NaN,\n            'f': \"NaN\",\n        }],\n [{\n            'v': 5932,\n            'f': \"5932\",\n        },\n\"11/08/2021\",\n{\n            'v': NaN,\n            'f': \"NaN\",\n        }],\n [{\n            'v': 5933,\n            'f': \"5933\",\n        },\n\"12/08/2021\",\n{\n            'v': NaN,\n            'f': \"NaN\",\n        }],\n [{\n            'v': 5934,\n            'f': \"5934\",\n        },\n\"13/08/2021\",\n{\n            'v': NaN,\n            'f': \"NaN\",\n        }],\n [{\n            'v': 5935,\n            'f': \"5935\",\n        },\n\"14/08/2021\",\n{\n            'v': NaN,\n            'f': \"NaN\",\n        }],\n [{\n            'v': 5936,\n            'f': \"5936\",\n        },\n\"15/08/2021\",\n{\n            'v': NaN,\n            'f': \"NaN\",\n        }],\n [{\n            'v': 6143,\n            'f': \"6143\",\n        },\n\"10/08/2021\",\n{\n            'v': NaN,\n            'f': \"NaN\",\n        }],\n [{\n            'v': 6144,\n            'f': \"6144\",\n        },\n\"11/08/2021\",\n{\n            'v': NaN,\n            'f': \"NaN\",\n        }],\n [{\n            'v': 6145,\n            'f': \"6145\",\n        },\n\"12/08/2021\",\n{\n            'v': NaN,\n            'f': \"NaN\",\n        }],\n [{\n            'v': 6146,\n            'f': \"6146\",\n        },\n\"13/08/2021\",\n{\n            'v': NaN,\n            'f': \"NaN\",\n        }],\n [{\n            'v': 6147,\n            'f': \"6147\",\n        },\n\"14/08/2021\",\n{\n            'v': NaN,\n            'f': \"NaN\",\n        }],\n [{\n            'v': 6148,\n            'f': \"6148\",\n        },\n\"15/08/2021\",\n{\n            'v': NaN,\n            'f': \"NaN\",\n        }],\n [{\n            'v': 6355,\n            'f': \"6355\",\n        },\n\"10/08/2021\",\n{\n            'v': NaN,\n            'f': \"NaN\",\n        }],\n [{\n            'v': 6356,\n            'f': \"6356\",\n        },\n\"11/08/2021\",\n{\n            'v': NaN,\n            'f': \"NaN\",\n        }],\n [{\n            'v': 6357,\n            'f': \"6357\",\n        },\n\"12/08/2021\",\n{\n            'v': NaN,\n            'f': \"NaN\",\n        }],\n [{\n            'v': 6358,\n            'f': \"6358\",\n        },\n\"13/08/2021\",\n{\n            'v': NaN,\n            'f': \"NaN\",\n        }],\n [{\n            'v': 6359,\n            'f': \"6359\",\n        },\n\"14/08/2021\",\n{\n            'v': NaN,\n            'f': \"NaN\",\n        }],\n [{\n            'v': 6360,\n            'f': \"6360\",\n        },\n\"15/08/2021\",\n{\n            'v': NaN,\n            'f': \"NaN\",\n        }],\n [{\n            'v': 6567,\n            'f': \"6567\",\n        },\n\"10/08/2021\",\n{\n            'v': NaN,\n            'f': \"NaN\",\n        }],\n [{\n            'v': 6568,\n            'f': \"6568\",\n        },\n\"11/08/2021\",\n{\n            'v': NaN,\n            'f': \"NaN\",\n        }],\n [{\n            'v': 6569,\n            'f': \"6569\",\n        },\n\"12/08/2021\",\n{\n            'v': NaN,\n            'f': \"NaN\",\n        }],\n [{\n            'v': 6570,\n            'f': \"6570\",\n        },\n\"13/08/2021\",\n{\n            'v': NaN,\n            'f': \"NaN\",\n        }],\n [{\n            'v': 6571,\n            'f': \"6571\",\n        },\n\"14/08/2021\",\n{\n            'v': NaN,\n            'f': \"NaN\",\n        }],\n [{\n            'v': 6572,\n            'f': \"6572\",\n        },\n\"15/08/2021\",\n{\n            'v': NaN,\n            'f': \"NaN\",\n        }],\n [{\n            'v': 6779,\n            'f': \"6779\",\n        },\n\"10/08/2021\",\n{\n            'v': NaN,\n            'f': \"NaN\",\n        }],\n [{\n            'v': 6780,\n            'f': \"6780\",\n        },\n\"11/08/2021\",\n{\n            'v': NaN,\n            'f': \"NaN\",\n        }],\n [{\n            'v': 6781,\n            'f': \"6781\",\n        },\n\"12/08/2021\",\n{\n            'v': NaN,\n            'f': \"NaN\",\n        }],\n [{\n            'v': 6782,\n            'f': \"6782\",\n        },\n\"13/08/2021\",\n{\n            'v': NaN,\n            'f': \"NaN\",\n        }],\n [{\n            'v': 6783,\n            'f': \"6783\",\n        },\n\"14/08/2021\",\n{\n            'v': NaN,\n            'f': \"NaN\",\n        }],\n [{\n            'v': 6784,\n            'f': \"6784\",\n        },\n\"15/08/2021\",\n{\n            'v': NaN,\n            'f': \"NaN\",\n        }],\n [{\n            'v': 6991,\n            'f': \"6991\",\n        },\n\"10/08/2021\",\n{\n            'v': NaN,\n            'f': \"NaN\",\n        }],\n [{\n            'v': 6992,\n            'f': \"6992\",\n        },\n\"11/08/2021\",\n{\n            'v': NaN,\n            'f': \"NaN\",\n        }],\n [{\n            'v': 6993,\n            'f': \"6993\",\n        },\n\"12/08/2021\",\n{\n            'v': NaN,\n            'f': \"NaN\",\n        }],\n [{\n            'v': 6994,\n            'f': \"6994\",\n        },\n\"13/08/2021\",\n{\n            'v': NaN,\n            'f': \"NaN\",\n        }],\n [{\n            'v': 6995,\n            'f': \"6995\",\n        },\n\"14/08/2021\",\n{\n            'v': NaN,\n            'f': \"NaN\",\n        }],\n [{\n            'v': 6996,\n            'f': \"6996\",\n        },\n\"15/08/2021\",\n{\n            'v': NaN,\n            'f': \"NaN\",\n        }],\n [{\n            'v': 7203,\n            'f': \"7203\",\n        },\n\"10/08/2021\",\n{\n            'v': NaN,\n            'f': \"NaN\",\n        }],\n [{\n            'v': 7204,\n            'f': \"7204\",\n        },\n\"11/08/2021\",\n{\n            'v': NaN,\n            'f': \"NaN\",\n        }],\n [{\n            'v': 7205,\n            'f': \"7205\",\n        },\n\"12/08/2021\",\n{\n            'v': NaN,\n            'f': \"NaN\",\n        }],\n [{\n            'v': 7206,\n            'f': \"7206\",\n        },\n\"13/08/2021\",\n{\n            'v': NaN,\n            'f': \"NaN\",\n        }],\n [{\n            'v': 7207,\n            'f': \"7207\",\n        },\n\"14/08/2021\",\n{\n            'v': NaN,\n            'f': \"NaN\",\n        }],\n [{\n            'v': 7208,\n            'f': \"7208\",\n        },\n\"15/08/2021\",\n{\n            'v': NaN,\n            'f': \"NaN\",\n        }],\n [{\n            'v': 7415,\n            'f': \"7415\",\n        },\n\"10/08/2021\",\n{\n            'v': NaN,\n            'f': \"NaN\",\n        }],\n [{\n            'v': 7416,\n            'f': \"7416\",\n        },\n\"11/08/2021\",\n{\n            'v': NaN,\n            'f': \"NaN\",\n        }],\n [{\n            'v': 7417,\n            'f': \"7417\",\n        },\n\"12/08/2021\",\n{\n            'v': NaN,\n            'f': \"NaN\",\n        }],\n [{\n            'v': 7418,\n            'f': \"7418\",\n        },\n\"13/08/2021\",\n{\n            'v': NaN,\n            'f': \"NaN\",\n        }],\n [{\n            'v': 7419,\n            'f': \"7419\",\n        },\n\"14/08/2021\",\n{\n            'v': NaN,\n            'f': \"NaN\",\n        }],\n [{\n            'v': 7420,\n            'f': \"7420\",\n        },\n\"15/08/2021\",\n{\n            'v': NaN,\n            'f': \"NaN\",\n        }],\n [{\n            'v': 7627,\n            'f': \"7627\",\n        },\n\"10/08/2021\",\n{\n            'v': NaN,\n            'f': \"NaN\",\n        }],\n [{\n            'v': 7628,\n            'f': \"7628\",\n        },\n\"11/08/2021\",\n{\n            'v': NaN,\n            'f': \"NaN\",\n        }],\n [{\n            'v': 7629,\n            'f': \"7629\",\n        },\n\"12/08/2021\",\n{\n            'v': NaN,\n            'f': \"NaN\",\n        }],\n [{\n            'v': 7630,\n            'f': \"7630\",\n        },\n\"13/08/2021\",\n{\n            'v': NaN,\n            'f': \"NaN\",\n        }],\n [{\n            'v': 7631,\n            'f': \"7631\",\n        },\n\"14/08/2021\",\n{\n            'v': NaN,\n            'f': \"NaN\",\n        }],\n [{\n            'v': 7632,\n            'f': \"7632\",\n        },\n\"15/08/2021\",\n{\n            'v': NaN,\n            'f': \"NaN\",\n        }],\n [{\n            'v': 7839,\n            'f': \"7839\",\n        },\n\"10/08/2021\",\n{\n            'v': NaN,\n            'f': \"NaN\",\n        }],\n [{\n            'v': 7840,\n            'f': \"7840\",\n        },\n\"11/08/2021\",\n{\n            'v': NaN,\n            'f': \"NaN\",\n        }],\n [{\n            'v': 7841,\n            'f': \"7841\",\n        },\n\"12/08/2021\",\n{\n            'v': NaN,\n            'f': \"NaN\",\n        }],\n [{\n            'v': 7842,\n            'f': \"7842\",\n        },\n\"13/08/2021\",\n{\n            'v': NaN,\n            'f': \"NaN\",\n        }],\n [{\n            'v': 7843,\n            'f': \"7843\",\n        },\n\"14/08/2021\",\n{\n            'v': NaN,\n            'f': \"NaN\",\n        }],\n [{\n            'v': 7844,\n            'f': \"7844\",\n        },\n\"15/08/2021\",\n{\n            'v': NaN,\n            'f': \"NaN\",\n        }]],\n        columns: [[\"number\", \"index\"], [\"string\", \"Updated On\"], [\"number\", \"Total Doses Administered\"]],\n        columnOptions: [{\"width\": \"1px\", \"className\": \"index_column\"}],\n        rowsPerPage: 25,\n        helpUrl: \"https://colab.research.google.com/notebooks/data_table.ipynb\",\n        suppressOutputScrolling: true,\n        minimumWidth: undefined,\n      });\n    ",
            "text/html": [
              "\n",
              "  <div id=\"df-9666e8f2-9578-4974-8c01-eaba0f1b35fc\">\n",
              "    <div class=\"colab-df-container\">\n",
              "      <div>\n",
              "<style scoped>\n",
              "    .dataframe tbody tr th:only-of-type {\n",
              "        vertical-align: middle;\n",
              "    }\n",
              "\n",
              "    .dataframe tbody tr th {\n",
              "        vertical-align: top;\n",
              "    }\n",
              "\n",
              "    .dataframe thead th {\n",
              "        text-align: right;\n",
              "    }\n",
              "</style>\n",
              "<table border=\"1\" class=\"dataframe\">\n",
              "  <thead>\n",
              "    <tr style=\"text-align: right;\">\n",
              "      <th></th>\n",
              "      <th>Updated On</th>\n",
              "      <th>Total Doses Administered</th>\n",
              "    </tr>\n",
              "  </thead>\n",
              "  <tbody>\n",
              "    <tr>\n",
              "      <th>206</th>\n",
              "      <td>10/08/2021</td>\n",
              "      <td>NaN</td>\n",
              "    </tr>\n",
              "    <tr>\n",
              "      <th>207</th>\n",
              "      <td>11/08/2021</td>\n",
              "      <td>NaN</td>\n",
              "    </tr>\n",
              "    <tr>\n",
              "      <th>208</th>\n",
              "      <td>12/08/2021</td>\n",
              "      <td>NaN</td>\n",
              "    </tr>\n",
              "    <tr>\n",
              "      <th>209</th>\n",
              "      <td>13/08/2021</td>\n",
              "      <td>NaN</td>\n",
              "    </tr>\n",
              "    <tr>\n",
              "      <th>210</th>\n",
              "      <td>14/08/2021</td>\n",
              "      <td>NaN</td>\n",
              "    </tr>\n",
              "    <tr>\n",
              "      <th>...</th>\n",
              "      <td>...</td>\n",
              "      <td>...</td>\n",
              "    </tr>\n",
              "    <tr>\n",
              "      <th>7840</th>\n",
              "      <td>11/08/2021</td>\n",
              "      <td>NaN</td>\n",
              "    </tr>\n",
              "    <tr>\n",
              "      <th>7841</th>\n",
              "      <td>12/08/2021</td>\n",
              "      <td>NaN</td>\n",
              "    </tr>\n",
              "    <tr>\n",
              "      <th>7842</th>\n",
              "      <td>13/08/2021</td>\n",
              "      <td>NaN</td>\n",
              "    </tr>\n",
              "    <tr>\n",
              "      <th>7843</th>\n",
              "      <td>14/08/2021</td>\n",
              "      <td>NaN</td>\n",
              "    </tr>\n",
              "    <tr>\n",
              "      <th>7844</th>\n",
              "      <td>15/08/2021</td>\n",
              "      <td>NaN</td>\n",
              "    </tr>\n",
              "  </tbody>\n",
              "</table>\n",
              "<p>224 rows × 2 columns</p>\n",
              "</div>\n",
              "      <button class=\"colab-df-convert\" onclick=\"convertToInteractive('df-9666e8f2-9578-4974-8c01-eaba0f1b35fc')\"\n",
              "              title=\"Convert this dataframe to an interactive table.\"\n",
              "              style=\"display:none;\">\n",
              "        \n",
              "  <svg xmlns=\"http://www.w3.org/2000/svg\" height=\"24px\"viewBox=\"0 0 24 24\"\n",
              "       width=\"24px\">\n",
              "    <path d=\"M0 0h24v24H0V0z\" fill=\"none\"/>\n",
              "    <path d=\"M18.56 5.44l.94 2.06.94-2.06 2.06-.94-2.06-.94-.94-2.06-.94 2.06-2.06.94zm-11 1L8.5 8.5l.94-2.06 2.06-.94-2.06-.94L8.5 2.5l-.94 2.06-2.06.94zm10 10l.94 2.06.94-2.06 2.06-.94-2.06-.94-.94-2.06-.94 2.06-2.06.94z\"/><path d=\"M17.41 7.96l-1.37-1.37c-.4-.4-.92-.59-1.43-.59-.52 0-1.04.2-1.43.59L10.3 9.45l-7.72 7.72c-.78.78-.78 2.05 0 2.83L4 21.41c.39.39.9.59 1.41.59.51 0 1.02-.2 1.41-.59l7.78-7.78 2.81-2.81c.8-.78.8-2.07 0-2.86zM5.41 20L4 18.59l7.72-7.72 1.47 1.35L5.41 20z\"/>\n",
              "  </svg>\n",
              "      </button>\n",
              "      \n",
              "  <style>\n",
              "    .colab-df-container {\n",
              "      display:flex;\n",
              "      flex-wrap:wrap;\n",
              "      gap: 12px;\n",
              "    }\n",
              "\n",
              "    .colab-df-convert {\n",
              "      background-color: #E8F0FE;\n",
              "      border: none;\n",
              "      border-radius: 50%;\n",
              "      cursor: pointer;\n",
              "      display: none;\n",
              "      fill: #1967D2;\n",
              "      height: 32px;\n",
              "      padding: 0 0 0 0;\n",
              "      width: 32px;\n",
              "    }\n",
              "\n",
              "    .colab-df-convert:hover {\n",
              "      background-color: #E2EBFA;\n",
              "      box-shadow: 0px 1px 2px rgba(60, 64, 67, 0.3), 0px 1px 3px 1px rgba(60, 64, 67, 0.15);\n",
              "      fill: #174EA6;\n",
              "    }\n",
              "\n",
              "    [theme=dark] .colab-df-convert {\n",
              "      background-color: #3B4455;\n",
              "      fill: #D2E3FC;\n",
              "    }\n",
              "\n",
              "    [theme=dark] .colab-df-convert:hover {\n",
              "      background-color: #434B5C;\n",
              "      box-shadow: 0px 1px 3px 1px rgba(0, 0, 0, 0.15);\n",
              "      filter: drop-shadow(0px 1px 2px rgba(0, 0, 0, 0.3));\n",
              "      fill: #FFFFFF;\n",
              "    }\n",
              "  </style>\n",
              "\n",
              "      <script>\n",
              "        const buttonEl =\n",
              "          document.querySelector('#df-9666e8f2-9578-4974-8c01-eaba0f1b35fc button.colab-df-convert');\n",
              "        buttonEl.style.display =\n",
              "          google.colab.kernel.accessAllowed ? 'block' : 'none';\n",
              "\n",
              "        async function convertToInteractive(key) {\n",
              "          const element = document.querySelector('#df-9666e8f2-9578-4974-8c01-eaba0f1b35fc');\n",
              "          const dataTable =\n",
              "            await google.colab.kernel.invokeFunction('convertToInteractive',\n",
              "                                                     [key], {});\n",
              "          if (!dataTable) return;\n",
              "\n",
              "          const docLinkHtml = 'Like what you see? Visit the ' +\n",
              "            '<a target=\"_blank\" href=https://colab.research.google.com/notebooks/data_table.ipynb>data table notebook</a>'\n",
              "            + ' to learn more about interactive tables.';\n",
              "          element.innerHTML = '';\n",
              "          dataTable['output_type'] = 'display_data';\n",
              "          await google.colab.output.renderOutput(dataTable, element);\n",
              "          const docLink = document.createElement('div');\n",
              "          docLink.innerHTML = docLinkHtml;\n",
              "          element.appendChild(docLink);\n",
              "        }\n",
              "      </script>\n",
              "    </div>\n",
              "  </div>\n",
              "  "
            ],
            "text/plain": [
              "      Updated On  Total Doses Administered\n",
              "206   10/08/2021                       NaN\n",
              "207   11/08/2021                       NaN\n",
              "208   12/08/2021                       NaN\n",
              "209   13/08/2021                       NaN\n",
              "210   14/08/2021                       NaN\n",
              "...          ...                       ...\n",
              "7840  11/08/2021                       NaN\n",
              "7841  12/08/2021                       NaN\n",
              "7842  13/08/2021                       NaN\n",
              "7843  14/08/2021                       NaN\n",
              "7844  15/08/2021                       NaN\n",
              "\n",
              "[224 rows x 2 columns]"
            ]
          },
          "metadata": {},
          "execution_count": 28
        }
      ]
    },
    {
      "cell_type": "code",
      "source": [
        "vacc_datewise = vacc_statewise_sub.dropna()\n",
        "vacc_datewise = vacc_datewise.rename(columns={\"Updated On\":\"Date\"})\n",
        "vacc_datewise.info()"
      ],
      "metadata": {
        "colab": {
          "base_uri": "https://localhost:8080/"
        },
        "id": "S5x43dQGyctK",
        "outputId": "ca714e5c-5321-4116-ed83-dbc0b8f3e464"
      },
      "execution_count": null,
      "outputs": [
        {
          "output_type": "stream",
          "name": "stdout",
          "text": [
            "<class 'pandas.core.frame.DataFrame'>\n",
            "Int64Index: 7621 entries, 0 to 7838\n",
            "Data columns (total 2 columns):\n",
            " #   Column                    Non-Null Count  Dtype  \n",
            "---  ------                    --------------  -----  \n",
            " 0   Date                      7621 non-null   object \n",
            " 1   Total Doses Administered  7621 non-null   float64\n",
            "dtypes: float64(1), object(1)\n",
            "memory usage: 178.6+ KB\n"
          ]
        }
      ]
    },
    {
      "cell_type": "code",
      "source": [
        "vacc_datewise.head()"
      ],
      "metadata": {
        "colab": {
          "base_uri": "https://localhost:8080/",
          "height": 196
        },
        "id": "37k4PGDrCGhZ",
        "outputId": "1583f7d6-127c-4f22-a738-988440c76ede"
      },
      "execution_count": null,
      "outputs": [
        {
          "output_type": "execute_result",
          "data": {
            "application/vnd.google.colaboratory.module+javascript": "\n      import \"https://ssl.gstatic.com/colaboratory/data_table/81f25a011006ed3d/data_table.js\";\n\n      window.createDataTable({\n        data: [[{\n            'v': 0,\n            'f': \"0\",\n        },\n\"16/01/2021\",\n{\n            'v': 48276.0,\n            'f': \"48276.0\",\n        }],\n [{\n            'v': 1,\n            'f': \"1\",\n        },\n\"17/01/2021\",\n{\n            'v': 58604.0,\n            'f': \"58604.0\",\n        }],\n [{\n            'v': 2,\n            'f': \"2\",\n        },\n\"18/01/2021\",\n{\n            'v': 99449.0,\n            'f': \"99449.0\",\n        }],\n [{\n            'v': 3,\n            'f': \"3\",\n        },\n\"19/01/2021\",\n{\n            'v': 195525.0,\n            'f': \"195525.0\",\n        }],\n [{\n            'v': 4,\n            'f': \"4\",\n        },\n\"20/01/2021\",\n{\n            'v': 251280.0,\n            'f': \"251280.0\",\n        }]],\n        columns: [[\"number\", \"index\"], [\"string\", \"Date\"], [\"number\", \"Total Doses Administered\"]],\n        columnOptions: [{\"width\": \"1px\", \"className\": \"index_column\"}],\n        rowsPerPage: 25,\n        helpUrl: \"https://colab.research.google.com/notebooks/data_table.ipynb\",\n        suppressOutputScrolling: true,\n        minimumWidth: undefined,\n      });\n    ",
            "text/html": [
              "\n",
              "  <div id=\"df-15799d6a-b0ef-48ab-b855-286ac1901dfb\">\n",
              "    <div class=\"colab-df-container\">\n",
              "      <div>\n",
              "<style scoped>\n",
              "    .dataframe tbody tr th:only-of-type {\n",
              "        vertical-align: middle;\n",
              "    }\n",
              "\n",
              "    .dataframe tbody tr th {\n",
              "        vertical-align: top;\n",
              "    }\n",
              "\n",
              "    .dataframe thead th {\n",
              "        text-align: right;\n",
              "    }\n",
              "</style>\n",
              "<table border=\"1\" class=\"dataframe\">\n",
              "  <thead>\n",
              "    <tr style=\"text-align: right;\">\n",
              "      <th></th>\n",
              "      <th>Date</th>\n",
              "      <th>Total Doses Administered</th>\n",
              "    </tr>\n",
              "  </thead>\n",
              "  <tbody>\n",
              "    <tr>\n",
              "      <th>0</th>\n",
              "      <td>16/01/2021</td>\n",
              "      <td>48276.0</td>\n",
              "    </tr>\n",
              "    <tr>\n",
              "      <th>1</th>\n",
              "      <td>17/01/2021</td>\n",
              "      <td>58604.0</td>\n",
              "    </tr>\n",
              "    <tr>\n",
              "      <th>2</th>\n",
              "      <td>18/01/2021</td>\n",
              "      <td>99449.0</td>\n",
              "    </tr>\n",
              "    <tr>\n",
              "      <th>3</th>\n",
              "      <td>19/01/2021</td>\n",
              "      <td>195525.0</td>\n",
              "    </tr>\n",
              "    <tr>\n",
              "      <th>4</th>\n",
              "      <td>20/01/2021</td>\n",
              "      <td>251280.0</td>\n",
              "    </tr>\n",
              "  </tbody>\n",
              "</table>\n",
              "</div>\n",
              "      <button class=\"colab-df-convert\" onclick=\"convertToInteractive('df-15799d6a-b0ef-48ab-b855-286ac1901dfb')\"\n",
              "              title=\"Convert this dataframe to an interactive table.\"\n",
              "              style=\"display:none;\">\n",
              "        \n",
              "  <svg xmlns=\"http://www.w3.org/2000/svg\" height=\"24px\"viewBox=\"0 0 24 24\"\n",
              "       width=\"24px\">\n",
              "    <path d=\"M0 0h24v24H0V0z\" fill=\"none\"/>\n",
              "    <path d=\"M18.56 5.44l.94 2.06.94-2.06 2.06-.94-2.06-.94-.94-2.06-.94 2.06-2.06.94zm-11 1L8.5 8.5l.94-2.06 2.06-.94-2.06-.94L8.5 2.5l-.94 2.06-2.06.94zm10 10l.94 2.06.94-2.06 2.06-.94-2.06-.94-.94-2.06-.94 2.06-2.06.94z\"/><path d=\"M17.41 7.96l-1.37-1.37c-.4-.4-.92-.59-1.43-.59-.52 0-1.04.2-1.43.59L10.3 9.45l-7.72 7.72c-.78.78-.78 2.05 0 2.83L4 21.41c.39.39.9.59 1.41.59.51 0 1.02-.2 1.41-.59l7.78-7.78 2.81-2.81c.8-.78.8-2.07 0-2.86zM5.41 20L4 18.59l7.72-7.72 1.47 1.35L5.41 20z\"/>\n",
              "  </svg>\n",
              "      </button>\n",
              "      \n",
              "  <style>\n",
              "    .colab-df-container {\n",
              "      display:flex;\n",
              "      flex-wrap:wrap;\n",
              "      gap: 12px;\n",
              "    }\n",
              "\n",
              "    .colab-df-convert {\n",
              "      background-color: #E8F0FE;\n",
              "      border: none;\n",
              "      border-radius: 50%;\n",
              "      cursor: pointer;\n",
              "      display: none;\n",
              "      fill: #1967D2;\n",
              "      height: 32px;\n",
              "      padding: 0 0 0 0;\n",
              "      width: 32px;\n",
              "    }\n",
              "\n",
              "    .colab-df-convert:hover {\n",
              "      background-color: #E2EBFA;\n",
              "      box-shadow: 0px 1px 2px rgba(60, 64, 67, 0.3), 0px 1px 3px 1px rgba(60, 64, 67, 0.15);\n",
              "      fill: #174EA6;\n",
              "    }\n",
              "\n",
              "    [theme=dark] .colab-df-convert {\n",
              "      background-color: #3B4455;\n",
              "      fill: #D2E3FC;\n",
              "    }\n",
              "\n",
              "    [theme=dark] .colab-df-convert:hover {\n",
              "      background-color: #434B5C;\n",
              "      box-shadow: 0px 1px 3px 1px rgba(0, 0, 0, 0.15);\n",
              "      filter: drop-shadow(0px 1px 2px rgba(0, 0, 0, 0.3));\n",
              "      fill: #FFFFFF;\n",
              "    }\n",
              "  </style>\n",
              "\n",
              "      <script>\n",
              "        const buttonEl =\n",
              "          document.querySelector('#df-15799d6a-b0ef-48ab-b855-286ac1901dfb button.colab-df-convert');\n",
              "        buttonEl.style.display =\n",
              "          google.colab.kernel.accessAllowed ? 'block' : 'none';\n",
              "\n",
              "        async function convertToInteractive(key) {\n",
              "          const element = document.querySelector('#df-15799d6a-b0ef-48ab-b855-286ac1901dfb');\n",
              "          const dataTable =\n",
              "            await google.colab.kernel.invokeFunction('convertToInteractive',\n",
              "                                                     [key], {});\n",
              "          if (!dataTable) return;\n",
              "\n",
              "          const docLinkHtml = 'Like what you see? Visit the ' +\n",
              "            '<a target=\"_blank\" href=https://colab.research.google.com/notebooks/data_table.ipynb>data table notebook</a>'\n",
              "            + ' to learn more about interactive tables.';\n",
              "          element.innerHTML = '';\n",
              "          dataTable['output_type'] = 'display_data';\n",
              "          await google.colab.output.renderOutput(dataTable, element);\n",
              "          const docLink = document.createElement('div');\n",
              "          docLink.innerHTML = docLinkHtml;\n",
              "          element.appendChild(docLink);\n",
              "        }\n",
              "      </script>\n",
              "    </div>\n",
              "  </div>\n",
              "  "
            ],
            "text/plain": [
              "         Date  Total Doses Administered\n",
              "0  16/01/2021                   48276.0\n",
              "1  17/01/2021                   58604.0\n",
              "2  18/01/2021                   99449.0\n",
              "3  19/01/2021                  195525.0\n",
              "4  20/01/2021                  251280.0"
            ]
          },
          "metadata": {},
          "execution_count": 30
        }
      ]
    },
    {
      "cell_type": "markdown",
      "source": [
        "##ploting the cured, deaths, confirmed\n"
      ],
      "metadata": {
        "id": "66CpyLmG4Op-"
      }
    },
    {
      "cell_type": "code",
      "source": [
        "india_summ.plot(x=\"Date\", y=[\"Cured\", \"Deaths\", \"Confirmed\"],\n",
        "                       xlabel = \"Dates\",\n",
        "                       ylabel = \"value in Ten millons\",\n",
        "                       title  = \"Observing Trends of Deats, Cured, Total_Doses\",\n",
        "        kind=\"line\", figsize=(18, 10))"
      ],
      "metadata": {
        "colab": {
          "base_uri": "https://localhost:8080/",
          "height": 633
        },
        "id": "c9op4McE12pS",
        "outputId": "7e99bd63-3c9f-4ee9-f14b-67f6ee98aac9"
      },
      "execution_count": null,
      "outputs": [
        {
          "output_type": "execute_result",
          "data": {
            "text/plain": [
              "<matplotlib.axes._subplots.AxesSubplot at 0x7f496d555c10>"
            ]
          },
          "metadata": {},
          "execution_count": 31
        },
        {
          "output_type": "display_data",
          "data": {
            "image/png": "[encoded data removed]",
            "text/plain": [
              "<Figure size 1296x720 with 1 Axes>"
            ]
          },
          "metadata": {}
        }
      ]
    },
    {
      "cell_type": "markdown",
      "source": [
        "##plotting Recovery Rate"
      ],
      "metadata": {
        "id": "BCnOMtwSa-BG"
      }
    },
    {
      "cell_type": "code",
      "source": [
        "india_summ['Recovery_Rate'] = india_summ[\"Cured\"]/india_summ[\"Confirmed\"]\n",
        "india_summ.plot(x=\"Date\", y=\"Recovery_Rate\")"
      ],
      "metadata": {
        "colab": {
          "base_uri": "https://localhost:8080/",
          "height": 303
        },
        "id": "z7K4JWE8ZnBg",
        "outputId": "ca604f21-8213-46d7-fb94-8bec867575f8"
      },
      "execution_count": null,
      "outputs": [
        {
          "output_type": "execute_result",
          "data": {
            "text/plain": [
              "<matplotlib.axes._subplots.AxesSubplot at 0x7f496b992190>"
            ]
          },
          "metadata": {},
          "execution_count": 32
        },
        {
          "output_type": "display_data",
          "data": {
            "image/png": "[encoded data removed]",
            "text/plain": [
              "<Figure size 432x288 with 1 Axes>"
            ]
          },
          "metadata": {}
        }
      ]
    },
    {
      "cell_type": "markdown",
      "source": [
        "Mortality Ratio"
      ],
      "metadata": {
        "id": "Nx9sSW_zbXi7"
      }
    },
    {
      "cell_type": "code",
      "source": [
        "print(\"Mortality Ratio for India is\", india_summ.Deaths.sum()/india_summ.Confirmed.sum())"
      ],
      "metadata": {
        "colab": {
          "base_uri": "https://localhost:8080/"
        },
        "id": "Jd6ClPJNbZ2i",
        "outputId": "658d923c-3fb9-44da-a617-8d41b5b335a3"
      },
      "execution_count": null,
      "outputs": [
        {
          "output_type": "stream",
          "name": "stdout",
          "text": [
            "Mortality Ratio for India is 0.013461726050547042\n"
          ]
        }
      ]
    },
    {
      "cell_type": "markdown",
      "source": [
        "##statewise Trends"
      ],
      "metadata": {
        "id": "wk8S1gt38I4a"
      }
    },
    {
      "cell_type": "code",
      "source": [
        "Total=pd.DataFrame(india_statewise.groupby(\"State/UnionTerritory\")[\"Confirmed\",\"Deaths\",\"Cured\"].sum()).sort_values(\"Confirmed\",ascending=False).reset_index()"
      ],
      "metadata": {
        "colab": {
          "base_uri": "https://localhost:8080/"
        },
        "id": "1j1iE6eIoVFA",
        "outputId": "84499a19-5f7b-4958-f2d8-ad8ef3ef4d6a"
      },
      "execution_count": null,
      "outputs": [
        {
          "output_type": "stream",
          "name": "stderr",
          "text": [
            "/usr/local/lib/python3.7/dist-packages/ipykernel_launcher.py:1: FutureWarning:\n",
            "\n",
            "Indexing with multiple keys (implicitly converted to a tuple of keys) will be deprecated, use a list instead.\n",
            "\n"
          ]
        }
      ]
    },
    {
      "cell_type": "code",
      "source": [
        "fig = px.bar(Total, x='State/UnionTerritory', y='Confirmed', height=900, color='Deaths', title='Cases per State')\n",
        "fig.show()"
      ],
      "metadata": {
        "colab": {
          "base_uri": "https://localhost:8080/",
          "height": 917
        },
        "id": "W5jXttX_oec2",
        "outputId": "5eec30ae-fab6-4e16-8053-00064656c374"
      },
      "execution_count": null,
      "outputs": [
        {
          "output_type": "display_data",
          "data": {
            "text/html": [
              "<html>\n",
              "<head><meta charset=\"utf-8\" /></head>\n",
              "<body>\n",
              "    <div>            <script src=\"https://cdnjs.cloudflare.com/ajax/libs/mathjax/2.7.5/MathJax.js?config=TeX-AMS-MML_SVG\"></script><script type=\"text/javascript\">if (window.MathJax) {MathJax.Hub.Config({SVG: {font: \"STIX-Web\"}});}</script>                <script type=\"text/javascript\">window.PlotlyConfig = {MathJaxConfig: 'local'};</script>\n",
              "        <script src=\"https://cdn.plot.ly/plotly-2.8.3.min.js\"></script>                <div id=\"4134af02-45df-474d-9ff6-30c050a9d022\" class=\"plotly-graph-div\" style=\"height:900px; width:100%;\"></div>            <script type=\"text/javascript\">                                    window.PLOTLYENV=window.PLOTLYENV || {};                                    if (document.getElementById(\"4134af02-45df-474d-9ff6-30c050a9d022\")) {                    Plotly.newPlot(                        \"4134af02-45df-474d-9ff6-30c050a9d022\",                        [{\"alignmentgroup\":\"True\",\"hovertemplate\":\"State/UnionTerritory=%{x}<br>Confirmed=%{y}<br>Deaths=%{marker.color}<extra></extra>\",\"legendgroup\":\"\",\"marker\":{\"color\":[23737432,6053762,1888177,5916658,2939367,4143450,4943294,3846989,2063920,1473089,790814,2219448,1777752,1502799,1093466,2785594,638323,400427,748641,349648,839694,986001,491348,447801,312155,150342,173056,147694,101950,26799,130753,58460,45804,53150,9791,36197,1014,27136,18881,3908,10506,0,3507,8,0,0],\"coloraxis\":\"coloraxis\",\"pattern\":{\"shape\":\"\"}},\"name\":\"\",\"offsetgroup\":\"\",\"orientation\":\"v\",\"showlegend\":false,\"textposition\":\"auto\",\"x\":[\"Maharashtra\",\"Karnataka\",\"Kerala\",\"Tamil Nadu\",\"Andhra Pradesh\",\"Uttar Pradesh\",\"Delhi\",\"West Bengal\",\"Chhattisgarh\",\"Rajasthan\",\"Odisha\",\"Gujarat\",\"Madhya Pradesh\",\"Haryana\",\"Bihar\",\"Punjab\",\"Assam\",\"Telengana\",\"Jharkhand\",\"Telangana\",\"Jammu and Kashmir\",\"Uttarakhand\",\"Himachal Pradesh\",\"Goa\",\"Puducherry\",\"Tripura\",\"Manipur\",\"Chandigarh\",\"Meghalaya\",\"Arunachal Pradesh\",\"Maharashtra***\",\"Nagaland\",\"Ladakh\",\"Sikkim\",\"Mizoram\",\"Karanataka\",\"Dadra and Nagar Haveli and Daman and Diu\",\"Andaman and Nicobar Islands\",\"Bihar****\",\"Lakshadweep\",\"Madhya Pradesh***\",\"Cases being reassigned to states\",\"Himanchal Pradesh\",\"Dadra and Nagar Haveli\",\"Unassigned\",\"Daman & Diu\"],\"xaxis\":\"x\",\"y\":[1121491467,485970693,458906023,431928644,392432753,312625843,287227765,263107876,163776262,162369656,160130533,143420082,135625265,134347285,132231166,99949702,99837011,69990668,62111994,60571979,58117726,53140414,30033289,28240159,20065891,14050250,12617943,10858627,7355969,7176907,6229596,5041742,4054293,3186799,2984732,2885238,1938632,1938498,1430909,915784,791656,345565,204516,20722,161,2],\"yaxis\":\"y\",\"type\":\"bar\"}],                        {\"template\":{\"data\":{\"bar\":[{\"error_x\":{\"color\":\"#2a3f5f\"},\"error_y\":{\"color\":\"#2a3f5f\"},\"marker\":{\"line\":{\"color\":\"#E5ECF6\",\"width\":0.5},\"pattern\":{\"fillmode\":\"overlay\",\"size\":10,\"solidity\":0.2}},\"type\":\"bar\"}],\"barpolar\":[{\"marker\":{\"line\":{\"color\":\"#E5ECF6\",\"width\":0.5},\"pattern\":{\"fillmode\":\"overlay\",\"size\":10,\"solidity\":0.2}},\"type\":\"barpolar\"}],\"carpet\":[{\"aaxis\":{\"endlinecolor\":\"#2a3f5f\",\"gridcolor\":\"white\",\"linecolor\":\"white\",\"minorgridcolor\":\"white\",\"startlinecolor\":\"#2a3f5f\"},\"baxis\":{\"endlinecolor\":\"#2a3f5f\",\"gridcolor\":\"white\",\"linecolor\":\"white\",\"minorgridcolor\":\"white\",\"startlinecolor\":\"#2a3f5f\"},\"type\":\"carpet\"}],\"choropleth\":[{\"colorbar\":{\"outlinewidth\":0,\"ticks\":\"\"},\"type\":\"choropleth\"}],\"contour\":[{\"colorbar\":{\"outlinewidth\":0,\"ticks\":\"\"},\"colorscale\":[[0.0,\"#0d0887\"],[0.1111111111111111,\"#46039f\"],[0.2222222222222222,\"#7201a8\"],[0.3333333333333333,\"#9c179e\"],[0.4444444444444444,\"#bd3786\"],[0.5555555555555556,\"#d8576b\"],[0.6666666666666666,\"#ed7953\"],[0.7777777777777778,\"#fb9f3a\"],[0.8888888888888888,\"#fdca26\"],[1.0,\"#f0f921\"]],\"type\":\"contour\"}],\"contourcarpet\":[{\"colorbar\":{\"outlinewidth\":0,\"ticks\":\"\"},\"type\":\"contourcarpet\"}],\"heatmap\":[{\"colorbar\":{\"outlinewidth\":0,\"ticks\":\"\"},\"colorscale\":[[0.0,\"#0d0887\"],[0.1111111111111111,\"#46039f\"],[0.2222222222222222,\"#7201a8\"],[0.3333333333333333,\"#9c179e\"],[0.4444444444444444,\"#bd3786\"],[0.5555555555555556,\"#d8576b\"],[0.6666666666666666,\"#ed7953\"],[0.7777777777777778,\"#fb9f3a\"],[0.8888888888888888,\"#fdca26\"],[1.0,\"#f0f921\"]],\"type\":\"heatmap\"}],\"heatmapgl\":[{\"colorbar\":{\"outlinewidth\":0,\"ticks\":\"\"},\"colorscale\":[[0.0,\"#0d0887\"],[0.1111111111111111,\"#46039f\"],[0.2222222222222222,\"#7201a8\"],[0.3333333333333333,\"#9c179e\"],[0.4444444444444444,\"#bd3786\"],[0.5555555555555556,\"#d8576b\"],[0.6666666666666666,\"#ed7953\"],[0.7777777777777778,\"#fb9f3a\"],[0.8888888888888888,\"#fdca26\"],[1.0,\"#f0f921\"]],\"type\":\"heatmapgl\"}],\"histogram\":[{\"marker\":{\"pattern\":{\"fillmode\":\"overlay\",\"size\":10,\"solidity\":0.2}},\"type\":\"histogram\"}],\"histogram2d\":[{\"colorbar\":{\"outlinewidth\":0,\"ticks\":\"\"},\"colorscale\":[[0.0,\"#0d0887\"],[0.1111111111111111,\"#46039f\"],[0.2222222222222222,\"#7201a8\"],[0.3333333333333333,\"#9c179e\"],[0.4444444444444444,\"#bd3786\"],[0.5555555555555556,\"#d8576b\"],[0.6666666666666666,\"#ed7953\"],[0.7777777777777778,\"#fb9f3a\"],[0.8888888888888888,\"#fdca26\"],[1.0,\"#f0f921\"]],\"type\":\"histogram2d\"}],\"histogram2dcontour\":[{\"colorbar\":{\"outlinewidth\":0,\"ticks\":\"\"},\"colorscale\":[[0.0,\"#0d0887\"],[0.1111111111111111,\"#46039f\"],[0.2222222222222222,\"#7201a8\"],[0.3333333333333333,\"#9c179e\"],[0.4444444444444444,\"#bd3786\"],[0.5555555555555556,\"#d8576b\"],[0.6666666666666666,\"#ed7953\"],[0.7777777777777778,\"#fb9f3a\"],[0.8888888888888888,\"#fdca26\"],[1.0,\"#f0f921\"]],\"type\":\"histogram2dcontour\"}],\"mesh3d\":[{\"colorbar\":{\"outlinewidth\":0,\"ticks\":\"\"},\"type\":\"mesh3d\"}],\"parcoords\":[{\"line\":{\"colorbar\":{\"outlinewidth\":0,\"ticks\":\"\"}},\"type\":\"parcoords\"}],\"pie\":[{\"automargin\":true,\"type\":\"pie\"}],\"scatter\":[{\"marker\":{\"colorbar\":{\"outlinewidth\":0,\"ticks\":\"\"}},\"type\":\"scatter\"}],\"scatter3d\":[{\"line\":{\"colorbar\":{\"outlinewidth\":0,\"ticks\":\"\"}},\"marker\":{\"colorbar\":{\"outlinewidth\":0,\"ticks\":\"\"}},\"type\":\"scatter3d\"}],\"scattercarpet\":[{\"marker\":{\"colorbar\":{\"outlinewidth\":0,\"ticks\":\"\"}},\"type\":\"scattercarpet\"}],\"scattergeo\":[{\"marker\":{\"colorbar\":{\"outlinewidth\":0,\"ticks\":\"\"}},\"type\":\"scattergeo\"}],\"scattergl\":[{\"marker\":{\"colorbar\":{\"outlinewidth\":0,\"ticks\":\"\"}},\"type\":\"scattergl\"}],\"scattermapbox\":[{\"marker\":{\"colorbar\":{\"outlinewidth\":0,\"ticks\":\"\"}},\"type\":\"scattermapbox\"}],\"scatterpolar\":[{\"marker\":{\"colorbar\":{\"outlinewidth\":0,\"ticks\":\"\"}},\"type\":\"scatterpolar\"}],\"scatterpolargl\":[{\"marker\":{\"colorbar\":{\"outlinewidth\":0,\"ticks\":\"\"}},\"type\":\"scatterpolargl\"}],\"scatterternary\":[{\"marker\":{\"colorbar\":{\"outlinewidth\":0,\"ticks\":\"\"}},\"type\":\"scatterternary\"}],\"surface\":[{\"colorbar\":{\"outlinewidth\":0,\"ticks\":\"\"},\"colorscale\":[[0.0,\"#0d0887\"],[0.1111111111111111,\"#46039f\"],[0.2222222222222222,\"#7201a8\"],[0.3333333333333333,\"#9c179e\"],[0.4444444444444444,\"#bd3786\"],[0.5555555555555556,\"#d8576b\"],[0.6666666666666666,\"#ed7953\"],[0.7777777777777778,\"#fb9f3a\"],[0.8888888888888888,\"#fdca26\"],[1.0,\"#f0f921\"]],\"type\":\"surface\"}],\"table\":[{\"cells\":{\"fill\":{\"color\":\"#EBF0F8\"},\"line\":{\"color\":\"white\"}},\"header\":{\"fill\":{\"color\":\"#C8D4E3\"},\"line\":{\"color\":\"white\"}},\"type\":\"table\"}]},\"layout\":{\"annotationdefaults\":{\"arrowcolor\":\"#2a3f5f\",\"arrowhead\":0,\"arrowwidth\":1},\"autotypenumbers\":\"strict\",\"coloraxis\":{\"colorbar\":{\"outlinewidth\":0,\"ticks\":\"\"}},\"colorscale\":{\"diverging\":[[0,\"#8e0152\"],[0.1,\"#c51b7d\"],[0.2,\"#de77ae\"],[0.3,\"#f1b6da\"],[0.4,\"#fde0ef\"],[0.5,\"#f7f7f7\"],[0.6,\"#e6f5d0\"],[0.7,\"#b8e186\"],[0.8,\"#7fbc41\"],[0.9,\"#4d9221\"],[1,\"#276419\"]],\"sequential\":[[0.0,\"#0d0887\"],[0.1111111111111111,\"#46039f\"],[0.2222222222222222,\"#7201a8\"],[0.3333333333333333,\"#9c179e\"],[0.4444444444444444,\"#bd3786\"],[0.5555555555555556,\"#d8576b\"],[0.6666666666666666,\"#ed7953\"],[0.7777777777777778,\"#fb9f3a\"],[0.8888888888888888,\"#fdca26\"],[1.0,\"#f0f921\"]],\"sequentialminus\":[[0.0,\"#0d0887\"],[0.1111111111111111,\"#46039f\"],[0.2222222222222222,\"#7201a8\"],[0.3333333333333333,\"#9c179e\"],[0.4444444444444444,\"#bd3786\"],[0.5555555555555556,\"#d8576b\"],[0.6666666666666666,\"#ed7953\"],[0.7777777777777778,\"#fb9f3a\"],[0.8888888888888888,\"#fdca26\"],[1.0,\"#f0f921\"]]},\"colorway\":[\"#636efa\",\"#EF553B\",\"#00cc96\",\"#ab63fa\",\"#FFA15A\",\"#19d3f3\",\"#FF6692\",\"#B6E880\",\"#FF97FF\",\"#FECB52\"],\"font\":{\"color\":\"#2a3f5f\"},\"geo\":{\"bgcolor\":\"white\",\"lakecolor\":\"white\",\"landcolor\":\"#E5ECF6\",\"showlakes\":true,\"showland\":true,\"subunitcolor\":\"white\"},\"hoverlabel\":{\"align\":\"left\"},\"hovermode\":\"closest\",\"mapbox\":{\"style\":\"light\"},\"paper_bgcolor\":\"white\",\"plot_bgcolor\":\"#E5ECF6\",\"polar\":{\"angularaxis\":{\"gridcolor\":\"white\",\"linecolor\":\"white\",\"ticks\":\"\"},\"bgcolor\":\"#E5ECF6\",\"radialaxis\":{\"gridcolor\":\"white\",\"linecolor\":\"white\",\"ticks\":\"\"}},\"scene\":{\"xaxis\":{\"backgroundcolor\":\"#E5ECF6\",\"gridcolor\":\"white\",\"gridwidth\":2,\"linecolor\":\"white\",\"showbackground\":true,\"ticks\":\"\",\"zerolinecolor\":\"white\"},\"yaxis\":{\"backgroundcolor\":\"#E5ECF6\",\"gridcolor\":\"white\",\"gridwidth\":2,\"linecolor\":\"white\",\"showbackground\":true,\"ticks\":\"\",\"zerolinecolor\":\"white\"},\"zaxis\":{\"backgroundcolor\":\"#E5ECF6\",\"gridcolor\":\"white\",\"gridwidth\":2,\"linecolor\":\"white\",\"showbackground\":true,\"ticks\":\"\",\"zerolinecolor\":\"white\"}},\"shapedefaults\":{\"line\":{\"color\":\"#2a3f5f\"}},\"ternary\":{\"aaxis\":{\"gridcolor\":\"white\",\"linecolor\":\"white\",\"ticks\":\"\"},\"baxis\":{\"gridcolor\":\"white\",\"linecolor\":\"white\",\"ticks\":\"\"},\"bgcolor\":\"#E5ECF6\",\"caxis\":{\"gridcolor\":\"white\",\"linecolor\":\"white\",\"ticks\":\"\"}},\"title\":{\"x\":0.05},\"xaxis\":{\"automargin\":true,\"gridcolor\":\"white\",\"linecolor\":\"white\",\"ticks\":\"\",\"title\":{\"standoff\":15},\"zerolinecolor\":\"white\",\"zerolinewidth\":2},\"yaxis\":{\"automargin\":true,\"gridcolor\":\"white\",\"linecolor\":\"white\",\"ticks\":\"\",\"title\":{\"standoff\":15},\"zerolinecolor\":\"white\",\"zerolinewidth\":2}}},\"xaxis\":{\"anchor\":\"y\",\"domain\":[0.0,1.0],\"title\":{\"text\":\"State/UnionTerritory\"}},\"yaxis\":{\"anchor\":\"x\",\"domain\":[0.0,1.0],\"title\":{\"text\":\"Confirmed\"}},\"coloraxis\":{\"colorbar\":{\"title\":{\"text\":\"Deaths\"}},\"colorscale\":[[0.0,\"#0d0887\"],[0.1111111111111111,\"#46039f\"],[0.2222222222222222,\"#7201a8\"],[0.3333333333333333,\"#9c179e\"],[0.4444444444444444,\"#bd3786\"],[0.5555555555555556,\"#d8576b\"],[0.6666666666666666,\"#ed7953\"],[0.7777777777777778,\"#fb9f3a\"],[0.8888888888888888,\"#fdca26\"],[1.0,\"#f0f921\"]]},\"legend\":{\"tracegroupgap\":0},\"title\":{\"text\":\"Cases per State\"},\"barmode\":\"relative\",\"height\":900},                        {\"responsive\": true}                    ).then(function(){\n",
              "                            \n",
              "var gd = document.getElementById('4134af02-45df-474d-9ff6-30c050a9d022');\n",
              "var x = new MutationObserver(function (mutations, observer) {{\n",
              "        var display = window.getComputedStyle(gd).display;\n",
              "        if (!display || display === 'none') {{\n",
              "            console.log([gd, 'removed!']);\n",
              "            Plotly.purge(gd);\n",
              "            observer.disconnect();\n",
              "        }}\n",
              "}});\n",
              "\n",
              "// Listen for the removal of the full notebook cells\n",
              "var notebookContainer = gd.closest('#notebook-container');\n",
              "if (notebookContainer) {{\n",
              "    x.observe(notebookContainer, {childList: true});\n",
              "}}\n",
              "\n",
              "// Listen for the clearing of the current output cell\n",
              "var outputEl = gd.closest('.output');\n",
              "if (outputEl) {{\n",
              "    x.observe(outputEl, {childList: true});\n",
              "}}\n",
              "\n",
              "                        })                };                            </script>        </div>\n",
              "</body>\n",
              "</html>"
            ]
          },
          "metadata": {}
        }
      ]
    },
    {
      "cell_type": "code",
      "source": [
        "india_statewise.info()\n",
        "india_statewise['Date'] = pd.to_datetime(india_statewise['Date'], format = '%Y-%m-%d')\n",
        "# world_daily_subset['date'] = pd.to_datetime(world_daily_subset['date'], format = '%Y-%m-%d')"
      ],
      "metadata": {
        "colab": {
          "base_uri": "https://localhost:8080/"
        },
        "id": "MG2nJymdGN9X",
        "outputId": "78b20975-1366-4d13-f528-38981a2f034b"
      },
      "execution_count": null,
      "outputs": [
        {
          "output_type": "stream",
          "name": "stdout",
          "text": [
            "<class 'pandas.core.frame.DataFrame'>\n",
            "RangeIndex: 18110 entries, 0 to 18109\n",
            "Data columns (total 9 columns):\n",
            " #   Column                    Non-Null Count  Dtype \n",
            "---  ------                    --------------  ----- \n",
            " 0   Sno                       18110 non-null  int64 \n",
            " 1   Date                      18110 non-null  object\n",
            " 2   Time                      18110 non-null  object\n",
            " 3   State/UnionTerritory      18110 non-null  object\n",
            " 4   ConfirmedIndianNational   18110 non-null  object\n",
            " 5   ConfirmedForeignNational  18110 non-null  object\n",
            " 6   Cured                     18110 non-null  int64 \n",
            " 7   Deaths                    18110 non-null  int64 \n",
            " 8   Confirmed                 18110 non-null  int64 \n",
            "dtypes: int64(4), object(5)\n",
            "memory usage: 1.2+ MB\n"
          ]
        }
      ]
    },
    {
      "cell_type": "code",
      "source": [
        "states = ['Karnataka', 'Maharashtra','Jammu and Kashmir', 'Punjab', 'Haryana', 'Uttar Pradesh', 'Rajasthan']\n",
        "india_statewise_sub = india_statewise[india_statewise['State/UnionTerritory'].isin(states)]\n",
        "india_statewise_sub['Date'] = pd.to_datetime(india_statewise_sub['Date'], format = '%Y-%m-%d')\n",
        "india_statewise_sub.info()\n",
        "# countries = ['USA', 'China', 'India']\n",
        "# world_daily_subset = world_daily[world_daily.country.isin(countries)]"
      ],
      "metadata": {
        "colab": {
          "base_uri": "https://localhost:8080/"
        },
        "id": "cCadwGdJKs8-",
        "outputId": "1d01778f-30e1-4d29-d6f3-e47e6d30f4a4"
      },
      "execution_count": null,
      "outputs": [
        {
          "output_type": "stream",
          "name": "stdout",
          "text": [
            "<class 'pandas.core.frame.DataFrame'>\n",
            "Int64Index: 3661 entries, 36 to 18108\n",
            "Data columns (total 9 columns):\n",
            " #   Column                    Non-Null Count  Dtype         \n",
            "---  ------                    --------------  -----         \n",
            " 0   Sno                       3661 non-null   int64         \n",
            " 1   Date                      3661 non-null   datetime64[ns]\n",
            " 2   Time                      3661 non-null   object        \n",
            " 3   State/UnionTerritory      3661 non-null   object        \n",
            " 4   ConfirmedIndianNational   3661 non-null   object        \n",
            " 5   ConfirmedForeignNational  3661 non-null   object        \n",
            " 6   Cured                     3661 non-null   int64         \n",
            " 7   Deaths                    3661 non-null   int64         \n",
            " 8   Confirmed                 3661 non-null   int64         \n",
            "dtypes: datetime64[ns](1), int64(4), object(4)\n",
            "memory usage: 286.0+ KB\n"
          ]
        },
        {
          "output_type": "stream",
          "name": "stderr",
          "text": [
            "/usr/local/lib/python3.7/dist-packages/ipykernel_launcher.py:3: SettingWithCopyWarning:\n",
            "\n",
            "\n",
            "A value is trying to be set on a copy of a slice from a DataFrame.\n",
            "Try using .loc[row_indexer,col_indexer] = value instead\n",
            "\n",
            "See the caveats in the documentation: https://pandas.pydata.org/pandas-docs/stable/user_guide/indexing.html#returning-a-view-versus-a-copy\n",
            "\n"
          ]
        }
      ]
    },
    {
      "cell_type": "code",
      "source": [
        "vacc_statewise_sub = vacc_statewise[vacc_statewise['State'].isin(states)]\n",
        "#vacc_statewise_sub['Date'] = pd.to_datetime(vacc_statewise_sub['Updated On'], format = '%Y-%m-%d')\n",
        "vacc_statewise_sub.info()\n",
        "# vacc_statewise.info()"
      ],
      "metadata": {
        "colab": {
          "base_uri": "https://localhost:8080/"
        },
        "id": "36QBTQbzRu-Q",
        "outputId": "824f7f7d-fabd-41ac-b691-fdfdc1a00fd9"
      },
      "execution_count": null,
      "outputs": [
        {
          "output_type": "stream",
          "name": "stdout",
          "text": [
            "<class 'pandas.core.frame.DataFrame'>\n",
            "Int64Index: 1484 entries, 2545 to 7420\n",
            "Data columns (total 24 columns):\n",
            " #   Column                               Non-Null Count  Dtype  \n",
            "---  ------                               --------------  -----  \n",
            " 0   Updated On                           1484 non-null   object \n",
            " 1   State                                1484 non-null   object \n",
            " 2   Total Doses Administered             1442 non-null   float64\n",
            " 3   Sessions                             1442 non-null   float64\n",
            " 4    Sites                               1442 non-null   float64\n",
            " 5   First Dose Administered              1442 non-null   float64\n",
            " 6   Second Dose Administered             1442 non-null   float64\n",
            " 7   Male (Doses Administered)            1442 non-null   float64\n",
            " 8   Female (Doses Administered)          1442 non-null   float64\n",
            " 9   Transgender (Doses Administered)     1442 non-null   float64\n",
            " 10   Covaxin (Doses Administered)        1442 non-null   float64\n",
            " 11  CoviShield (Doses Administered)      1442 non-null   float64\n",
            " 12  Sputnik V (Doses Administered)       567 non-null    float64\n",
            " 13  AEFI                                 1029 non-null   float64\n",
            " 14  18-44 Years (Doses Administered)     322 non-null    float64\n",
            " 15  45-60 Years (Doses Administered)     322 non-null    float64\n",
            " 16  60+ Years (Doses Administered)       322 non-null    float64\n",
            " 17  18-44 Years(Individuals Vaccinated)  706 non-null    float64\n",
            " 18  45-60 Years(Individuals Vaccinated)  707 non-null    float64\n",
            " 19  60+ Years(Individuals Vaccinated)    707 non-null    float64\n",
            " 20  Male(Individuals Vaccinated)         0 non-null      float64\n",
            " 21  Female(Individuals Vaccinated)       0 non-null      float64\n",
            " 22  Transgender(Individuals Vaccinated)  0 non-null      float64\n",
            " 23  Total Individuals Vaccinated         1120 non-null   float64\n",
            "dtypes: float64(22), object(2)\n",
            "memory usage: 289.8+ KB\n"
          ]
        }
      ]
    },
    {
      "cell_type": "code",
      "source": [
        "fig, axes = plt.subplots(2, 2, figsize=(20,10))\n",
        "sns.lineplot(data = india_statewise_sub, x=\"Date\", y=\"Cured\", hue=\"State/UnionTerritory\", ax=axes[0,0])\n",
        "sns.lineplot(data = india_statewise_sub, x=\"Date\", y=\"Deaths\", hue=\"State/UnionTerritory\", ax=axes[0,1])\n",
        "sns.lineplot(data = india_statewise_sub, x=\"Date\", y=\"Confirmed\", hue=\"State/UnionTerritory\", ax=axes[1,0])\n",
        "sns.lineplot(data = vacc_statewise_sub, x=\"Updated On\", y=\"Total Doses Administered\", hue=\"State\", ax=axes[1,1])"
      ],
      "metadata": {
        "colab": {
          "base_uri": "https://localhost:8080/",
          "height": 567
        },
        "id": "AffbGPN55JPo",
        "outputId": "977390fe-d458-47ce-b47c-74fde68573d9"
      },
      "execution_count": null,
      "outputs": [
        {
          "output_type": "execute_result",
          "data": {
            "text/plain": [
              "<matplotlib.axes._subplots.AxesSubplot at 0x7f496d5a4dd0>"
            ]
          },
          "metadata": {},
          "execution_count": 39
        },
        {
          "output_type": "display_data",
          "data": {
            "image/png": "[encoded data removed]",
            "text/plain": [
              "<Figure size 1440x720 with 4 Axes>"
            ]
          },
          "metadata": {}
        }
      ]
    },
    {
      "cell_type": "markdown",
      "source": [
        "#Training a model which will predict the number of cases for perticular day"
      ],
      "metadata": {
        "id": "MZq_tGP0WGtl"
      }
    },
    {
      "cell_type": "code",
      "source": [
        "india_statewise.head()\n",
        "india_statewise.columns"
      ],
      "metadata": {
        "colab": {
          "base_uri": "https://localhost:8080/"
        },
        "id": "Neq7-cLxWWu1",
        "outputId": "0fc1cf47-df1f-460f-9efa-9f0f01232a4c"
      },
      "execution_count": null,
      "outputs": [
        {
          "output_type": "execute_result",
          "data": {
            "text/plain": [
              "Index(['Sno', 'Date', 'Time', 'State/UnionTerritory',\n",
              "       'ConfirmedIndianNational', 'ConfirmedForeignNational', 'Cured',\n",
              "       'Deaths', 'Confirmed'],\n",
              "      dtype='object')"
            ]
          },
          "metadata": {},
          "execution_count": 40
        }
      ]
    },
    {
      "cell_type": "code",
      "source": [
        "data_ml = india_statewise.drop(columns=[\"Time\", \"ConfirmedForeignNational\", \"ConfirmedIndianNational\", \"Date\"])"
      ],
      "metadata": {
        "id": "1e0DRe0Di2Ay"
      },
      "execution_count": null,
      "outputs": []
    },
    {
      "cell_type": "code",
      "source": [
        "data_ml = data_ml.rename(columns={\"Sno\":\"No_of_Days\"})\n",
        "data_ml.head()"
      ],
      "metadata": {
        "colab": {
          "base_uri": "https://localhost:8080/",
          "height": 196
        },
        "id": "RiOFAVSjkUcj",
        "outputId": "7de7ee1f-7cf7-4117-f5da-8c317d147c03"
      },
      "execution_count": null,
      "outputs": [
        {
          "output_type": "execute_result",
          "data": {
            "application/vnd.google.colaboratory.module+javascript": "\n      import \"https://ssl.gstatic.com/colaboratory/data_table/81f25a011006ed3d/data_table.js\";\n\n      window.createDataTable({\n        data: [[{\n            'v': 0,\n            'f': \"0\",\n        },\n{\n            'v': 1,\n            'f': \"1\",\n        },\n\"Kerala\",\n{\n            'v': 0,\n            'f': \"0\",\n        },\n{\n            'v': 0,\n            'f': \"0\",\n        },\n{\n            'v': 1,\n            'f': \"1\",\n        }],\n [{\n            'v': 1,\n            'f': \"1\",\n        },\n{\n            'v': 2,\n            'f': \"2\",\n        },\n\"Kerala\",\n{\n            'v': 0,\n            'f': \"0\",\n        },\n{\n            'v': 0,\n            'f': \"0\",\n        },\n{\n            'v': 1,\n            'f': \"1\",\n        }],\n [{\n            'v': 2,\n            'f': \"2\",\n        },\n{\n            'v': 3,\n            'f': \"3\",\n        },\n\"Kerala\",\n{\n            'v': 0,\n            'f': \"0\",\n        },\n{\n            'v': 0,\n            'f': \"0\",\n        },\n{\n            'v': 2,\n            'f': \"2\",\n        }],\n [{\n            'v': 3,\n            'f': \"3\",\n        },\n{\n            'v': 4,\n            'f': \"4\",\n        },\n\"Kerala\",\n{\n            'v': 0,\n            'f': \"0\",\n        },\n{\n            'v': 0,\n            'f': \"0\",\n        },\n{\n            'v': 3,\n            'f': \"3\",\n        }],\n [{\n            'v': 4,\n            'f': \"4\",\n        },\n{\n            'v': 5,\n            'f': \"5\",\n        },\n\"Kerala\",\n{\n            'v': 0,\n            'f': \"0\",\n        },\n{\n            'v': 0,\n            'f': \"0\",\n        },\n{\n            'v': 3,\n            'f': \"3\",\n        }]],\n        columns: [[\"number\", \"index\"], [\"number\", \"No_of_Days\"], [\"string\", \"State/UnionTerritory\"], [\"number\", \"Cured\"], [\"number\", \"Deaths\"], [\"number\", \"Confirmed\"]],\n        columnOptions: [{\"width\": \"1px\", \"className\": \"index_column\"}],\n        rowsPerPage: 25,\n        helpUrl: \"https://colab.research.google.com/notebooks/data_table.ipynb\",\n        suppressOutputScrolling: true,\n        minimumWidth: undefined,\n      });\n    ",
            "text/html": [
              "\n",
              "  <div id=\"df-efebfbff-be88-473a-aa39-20be8aa6031a\">\n",
              "    <div class=\"colab-df-container\">\n",
              "      <div>\n",
              "<style scoped>\n",
              "    .dataframe tbody tr th:only-of-type {\n",
              "        vertical-align: middle;\n",
              "    }\n",
              "\n",
              "    .dataframe tbody tr th {\n",
              "        vertical-align: top;\n",
              "    }\n",
              "\n",
              "    .dataframe thead th {\n",
              "        text-align: right;\n",
              "    }\n",
              "</style>\n",
              "<table border=\"1\" class=\"dataframe\">\n",
              "  <thead>\n",
              "    <tr style=\"text-align: right;\">\n",
              "      <th></th>\n",
              "      <th>No_of_Days</th>\n",
              "      <th>State/UnionTerritory</th>\n",
              "      <th>Cured</th>\n",
              "      <th>Deaths</th>\n",
              "      <th>Confirmed</th>\n",
              "    </tr>\n",
              "  </thead>\n",
              "  <tbody>\n",
              "    <tr>\n",
              "      <th>0</th>\n",
              "      <td>1</td>\n",
              "      <td>Kerala</td>\n",
              "      <td>0</td>\n",
              "      <td>0</td>\n",
              "      <td>1</td>\n",
              "    </tr>\n",
              "    <tr>\n",
              "      <th>1</th>\n",
              "      <td>2</td>\n",
              "      <td>Kerala</td>\n",
              "      <td>0</td>\n",
              "      <td>0</td>\n",
              "      <td>1</td>\n",
              "    </tr>\n",
              "    <tr>\n",
              "      <th>2</th>\n",
              "      <td>3</td>\n",
              "      <td>Kerala</td>\n",
              "      <td>0</td>\n",
              "      <td>0</td>\n",
              "      <td>2</td>\n",
              "    </tr>\n",
              "    <tr>\n",
              "      <th>3</th>\n",
              "      <td>4</td>\n",
              "      <td>Kerala</td>\n",
              "      <td>0</td>\n",
              "      <td>0</td>\n",
              "      <td>3</td>\n",
              "    </tr>\n",
              "    <tr>\n",
              "      <th>4</th>\n",
              "      <td>5</td>\n",
              "      <td>Kerala</td>\n",
              "      <td>0</td>\n",
              "      <td>0</td>\n",
              "      <td>3</td>\n",
              "    </tr>\n",
              "  </tbody>\n",
              "</table>\n",
              "</div>\n",
              "      <button class=\"colab-df-convert\" onclick=\"convertToInteractive('df-efebfbff-be88-473a-aa39-20be8aa6031a')\"\n",
              "              title=\"Convert this dataframe to an interactive table.\"\n",
              "              style=\"display:none;\">\n",
              "        \n",
              "  <svg xmlns=\"http://www.w3.org/2000/svg\" height=\"24px\"viewBox=\"0 0 24 24\"\n",
              "       width=\"24px\">\n",
              "    <path d=\"M0 0h24v24H0V0z\" fill=\"none\"/>\n",
              "    <path d=\"M18.56 5.44l.94 2.06.94-2.06 2.06-.94-2.06-.94-.94-2.06-.94 2.06-2.06.94zm-11 1L8.5 8.5l.94-2.06 2.06-.94-2.06-.94L8.5 2.5l-.94 2.06-2.06.94zm10 10l.94 2.06.94-2.06 2.06-.94-2.06-.94-.94-2.06-.94 2.06-2.06.94z\"/><path d=\"M17.41 7.96l-1.37-1.37c-.4-.4-.92-.59-1.43-.59-.52 0-1.04.2-1.43.59L10.3 9.45l-7.72 7.72c-.78.78-.78 2.05 0 2.83L4 21.41c.39.39.9.59 1.41.59.51 0 1.02-.2 1.41-.59l7.78-7.78 2.81-2.81c.8-.78.8-2.07 0-2.86zM5.41 20L4 18.59l7.72-7.72 1.47 1.35L5.41 20z\"/>\n",
              "  </svg>\n",
              "      </button>\n",
              "      \n",
              "  <style>\n",
              "    .colab-df-container {\n",
              "      display:flex;\n",
              "      flex-wrap:wrap;\n",
              "      gap: 12px;\n",
              "    }\n",
              "\n",
              "    .colab-df-convert {\n",
              "      background-color: #E8F0FE;\n",
              "      border: none;\n",
              "      border-radius: 50%;\n",
              "      cursor: pointer;\n",
              "      display: none;\n",
              "      fill: #1967D2;\n",
              "      height: 32px;\n",
              "      padding: 0 0 0 0;\n",
              "      width: 32px;\n",
              "    }\n",
              "\n",
              "    .colab-df-convert:hover {\n",
              "      background-color: #E2EBFA;\n",
              "      box-shadow: 0px 1px 2px rgba(60, 64, 67, 0.3), 0px 1px 3px 1px rgba(60, 64, 67, 0.15);\n",
              "      fill: #174EA6;\n",
              "    }\n",
              "\n",
              "    [theme=dark] .colab-df-convert {\n",
              "      background-color: #3B4455;\n",
              "      fill: #D2E3FC;\n",
              "    }\n",
              "\n",
              "    [theme=dark] .colab-df-convert:hover {\n",
              "      background-color: #434B5C;\n",
              "      box-shadow: 0px 1px 3px 1px rgba(0, 0, 0, 0.15);\n",
              "      filter: drop-shadow(0px 1px 2px rgba(0, 0, 0, 0.3));\n",
              "      fill: #FFFFFF;\n",
              "    }\n",
              "  </style>\n",
              "\n",
              "      <script>\n",
              "        const buttonEl =\n",
              "          document.querySelector('#df-efebfbff-be88-473a-aa39-20be8aa6031a button.colab-df-convert');\n",
              "        buttonEl.style.display =\n",
              "          google.colab.kernel.accessAllowed ? 'block' : 'none';\n",
              "\n",
              "        async function convertToInteractive(key) {\n",
              "          const element = document.querySelector('#df-efebfbff-be88-473a-aa39-20be8aa6031a');\n",
              "          const dataTable =\n",
              "            await google.colab.kernel.invokeFunction('convertToInteractive',\n",
              "                                                     [key], {});\n",
              "          if (!dataTable) return;\n",
              "\n",
              "          const docLinkHtml = 'Like what you see? Visit the ' +\n",
              "            '<a target=\"_blank\" href=https://colab.research.google.com/notebooks/data_table.ipynb>data table notebook</a>'\n",
              "            + ' to learn more about interactive tables.';\n",
              "          element.innerHTML = '';\n",
              "          dataTable['output_type'] = 'display_data';\n",
              "          await google.colab.output.renderOutput(dataTable, element);\n",
              "          const docLink = document.createElement('div');\n",
              "          docLink.innerHTML = docLinkHtml;\n",
              "          element.appendChild(docLink);\n",
              "        }\n",
              "      </script>\n",
              "    </div>\n",
              "  </div>\n",
              "  "
            ],
            "text/plain": [
              "   No_of_Days State/UnionTerritory  Cured  Deaths  Confirmed\n",
              "0           1               Kerala      0       0          1\n",
              "1           2               Kerala      0       0          1\n",
              "2           3               Kerala      0       0          2\n",
              "3           4               Kerala      0       0          3\n",
              "4           5               Kerala      0       0          3"
            ]
          },
          "metadata": {},
          "execution_count": 42
        }
      ]
    },
    {
      "cell_type": "code",
      "source": [
        "number = LabelEncoder()\n",
        "data_ml['State/UnionTerritory'] = number.fit_transform(data_ml['State/UnionTerritory'].astype('str'))\n",
        "data_ml.head()"
      ],
      "metadata": {
        "colab": {
          "base_uri": "https://localhost:8080/",
          "height": 196
        },
        "id": "XjhlycGTn0mB",
        "outputId": "e1e08259-dad5-4624-89f3-881214ac8a5e"
      },
      "execution_count": null,
      "outputs": [
        {
          "output_type": "execute_result",
          "data": {
            "application/vnd.google.colaboratory.module+javascript": "\n      import \"https://ssl.gstatic.com/colaboratory/data_table/81f25a011006ed3d/data_table.js\";\n\n      window.createDataTable({\n        data: [[{\n            'v': 0,\n            'f': \"0\",\n        },\n{\n            'v': 1,\n            'f': \"1\",\n        },\n{\n            'v': 22,\n            'f': \"22\",\n        },\n{\n            'v': 0,\n            'f': \"0\",\n        },\n{\n            'v': 0,\n            'f': \"0\",\n        },\n{\n            'v': 1,\n            'f': \"1\",\n        }],\n [{\n            'v': 1,\n            'f': \"1\",\n        },\n{\n            'v': 2,\n            'f': \"2\",\n        },\n{\n            'v': 22,\n            'f': \"22\",\n        },\n{\n            'v': 0,\n            'f': \"0\",\n        },\n{\n            'v': 0,\n            'f': \"0\",\n        },\n{\n            'v': 1,\n            'f': \"1\",\n        }],\n [{\n            'v': 2,\n            'f': \"2\",\n        },\n{\n            'v': 3,\n            'f': \"3\",\n        },\n{\n            'v': 22,\n            'f': \"22\",\n        },\n{\n            'v': 0,\n            'f': \"0\",\n        },\n{\n            'v': 0,\n            'f': \"0\",\n        },\n{\n            'v': 2,\n            'f': \"2\",\n        }],\n [{\n            'v': 3,\n            'f': \"3\",\n        },\n{\n            'v': 4,\n            'f': \"4\",\n        },\n{\n            'v': 22,\n            'f': \"22\",\n        },\n{\n            'v': 0,\n            'f': \"0\",\n        },\n{\n            'v': 0,\n            'f': \"0\",\n        },\n{\n            'v': 3,\n            'f': \"3\",\n        }],\n [{\n            'v': 4,\n            'f': \"4\",\n        },\n{\n            'v': 5,\n            'f': \"5\",\n        },\n{\n            'v': 22,\n            'f': \"22\",\n        },\n{\n            'v': 0,\n            'f': \"0\",\n        },\n{\n            'v': 0,\n            'f': \"0\",\n        },\n{\n            'v': 3,\n            'f': \"3\",\n        }]],\n        columns: [[\"number\", \"index\"], [\"number\", \"No_of_Days\"], [\"number\", \"State/UnionTerritory\"], [\"number\", \"Cured\"], [\"number\", \"Deaths\"], [\"number\", \"Confirmed\"]],\n        columnOptions: [{\"width\": \"1px\", \"className\": \"index_column\"}],\n        rowsPerPage: 25,\n        helpUrl: \"https://colab.research.google.com/notebooks/data_table.ipynb\",\n        suppressOutputScrolling: true,\n        minimumWidth: undefined,\n      });\n    ",
            "text/html": [
              "\n",
              "  <div id=\"df-f689481b-094a-4c90-8e37-2d1dc908c6c1\">\n",
              "    <div class=\"colab-df-container\">\n",
              "      <div>\n",
              "<style scoped>\n",
              "    .dataframe tbody tr th:only-of-type {\n",
              "        vertical-align: middle;\n",
              "    }\n",
              "\n",
              "    .dataframe tbody tr th {\n",
              "        vertical-align: top;\n",
              "    }\n",
              "\n",
              "    .dataframe thead th {\n",
              "        text-align: right;\n",
              "    }\n",
              "</style>\n",
              "<table border=\"1\" class=\"dataframe\">\n",
              "  <thead>\n",
              "    <tr style=\"text-align: right;\">\n",
              "      <th></th>\n",
              "      <th>No_of_Days</th>\n",
              "      <th>State/UnionTerritory</th>\n",
              "      <th>Cured</th>\n",
              "      <th>Deaths</th>\n",
              "      <th>Confirmed</th>\n",
              "    </tr>\n",
              "  </thead>\n",
              "  <tbody>\n",
              "    <tr>\n",
              "      <th>0</th>\n",
              "      <td>1</td>\n",
              "      <td>22</td>\n",
              "      <td>0</td>\n",
              "      <td>0</td>\n",
              "      <td>1</td>\n",
              "    </tr>\n",
              "    <tr>\n",
              "      <th>1</th>\n",
              "      <td>2</td>\n",
              "      <td>22</td>\n",
              "      <td>0</td>\n",
              "      <td>0</td>\n",
              "      <td>1</td>\n",
              "    </tr>\n",
              "    <tr>\n",
              "      <th>2</th>\n",
              "      <td>3</td>\n",
              "      <td>22</td>\n",
              "      <td>0</td>\n",
              "      <td>0</td>\n",
              "      <td>2</td>\n",
              "    </tr>\n",
              "    <tr>\n",
              "      <th>3</th>\n",
              "      <td>4</td>\n",
              "      <td>22</td>\n",
              "      <td>0</td>\n",
              "      <td>0</td>\n",
              "      <td>3</td>\n",
              "    </tr>\n",
              "    <tr>\n",
              "      <th>4</th>\n",
              "      <td>5</td>\n",
              "      <td>22</td>\n",
              "      <td>0</td>\n",
              "      <td>0</td>\n",
              "      <td>3</td>\n",
              "    </tr>\n",
              "  </tbody>\n",
              "</table>\n",
              "</div>\n",
              "      <button class=\"colab-df-convert\" onclick=\"convertToInteractive('df-f689481b-094a-4c90-8e37-2d1dc908c6c1')\"\n",
              "              title=\"Convert this dataframe to an interactive table.\"\n",
              "              style=\"display:none;\">\n",
              "        \n",
              "  <svg xmlns=\"http://www.w3.org/2000/svg\" height=\"24px\"viewBox=\"0 0 24 24\"\n",
              "       width=\"24px\">\n",
              "    <path d=\"M0 0h24v24H0V0z\" fill=\"none\"/>\n",
              "    <path d=\"M18.56 5.44l.94 2.06.94-2.06 2.06-.94-2.06-.94-.94-2.06-.94 2.06-2.06.94zm-11 1L8.5 8.5l.94-2.06 2.06-.94-2.06-.94L8.5 2.5l-.94 2.06-2.06.94zm10 10l.94 2.06.94-2.06 2.06-.94-2.06-.94-.94-2.06-.94 2.06-2.06.94z\"/><path d=\"M17.41 7.96l-1.37-1.37c-.4-.4-.92-.59-1.43-.59-.52 0-1.04.2-1.43.59L10.3 9.45l-7.72 7.72c-.78.78-.78 2.05 0 2.83L4 21.41c.39.39.9.59 1.41.59.51 0 1.02-.2 1.41-.59l7.78-7.78 2.81-2.81c.8-.78.8-2.07 0-2.86zM5.41 20L4 18.59l7.72-7.72 1.47 1.35L5.41 20z\"/>\n",
              "  </svg>\n",
              "      </button>\n",
              "      \n",
              "  <style>\n",
              "    .colab-df-container {\n",
              "      display:flex;\n",
              "      flex-wrap:wrap;\n",
              "      gap: 12px;\n",
              "    }\n",
              "\n",
              "    .colab-df-convert {\n",
              "      background-color: #E8F0FE;\n",
              "      border: none;\n",
              "      border-radius: 50%;\n",
              "      cursor: pointer;\n",
              "      display: none;\n",
              "      fill: #1967D2;\n",
              "      height: 32px;\n",
              "      padding: 0 0 0 0;\n",
              "      width: 32px;\n",
              "    }\n",
              "\n",
              "    .colab-df-convert:hover {\n",
              "      background-color: #E2EBFA;\n",
              "      box-shadow: 0px 1px 2px rgba(60, 64, 67, 0.3), 0px 1px 3px 1px rgba(60, 64, 67, 0.15);\n",
              "      fill: #174EA6;\n",
              "    }\n",
              "\n",
              "    [theme=dark] .colab-df-convert {\n",
              "      background-color: #3B4455;\n",
              "      fill: #D2E3FC;\n",
              "    }\n",
              "\n",
              "    [theme=dark] .colab-df-convert:hover {\n",
              "      background-color: #434B5C;\n",
              "      box-shadow: 0px 1px 3px 1px rgba(0, 0, 0, 0.15);\n",
              "      filter: drop-shadow(0px 1px 2px rgba(0, 0, 0, 0.3));\n",
              "      fill: #FFFFFF;\n",
              "    }\n",
              "  </style>\n",
              "\n",
              "      <script>\n",
              "        const buttonEl =\n",
              "          document.querySelector('#df-f689481b-094a-4c90-8e37-2d1dc908c6c1 button.colab-df-convert');\n",
              "        buttonEl.style.display =\n",
              "          google.colab.kernel.accessAllowed ? 'block' : 'none';\n",
              "\n",
              "        async function convertToInteractive(key) {\n",
              "          const element = document.querySelector('#df-f689481b-094a-4c90-8e37-2d1dc908c6c1');\n",
              "          const dataTable =\n",
              "            await google.colab.kernel.invokeFunction('convertToInteractive',\n",
              "                                                     [key], {});\n",
              "          if (!dataTable) return;\n",
              "\n",
              "          const docLinkHtml = 'Like what you see? Visit the ' +\n",
              "            '<a target=\"_blank\" href=https://colab.research.google.com/notebooks/data_table.ipynb>data table notebook</a>'\n",
              "            + ' to learn more about interactive tables.';\n",
              "          element.innerHTML = '';\n",
              "          dataTable['output_type'] = 'display_data';\n",
              "          await google.colab.output.renderOutput(dataTable, element);\n",
              "          const docLink = document.createElement('div');\n",
              "          docLink.innerHTML = docLinkHtml;\n",
              "          element.appendChild(docLink);\n",
              "        }\n",
              "      </script>\n",
              "    </div>\n",
              "  </div>\n",
              "  "
            ],
            "text/plain": [
              "   No_of_Days  State/UnionTerritory  Cured  Deaths  Confirmed\n",
              "0           1                    22      0       0          1\n",
              "1           2                    22      0       0          1\n",
              "2           3                    22      0       0          2\n",
              "3           4                    22      0       0          3\n",
              "4           5                    22      0       0          3"
            ]
          },
          "metadata": {},
          "execution_count": 43
        }
      ]
    },
    {
      "cell_type": "markdown",
      "source": [
        "splitting into training and test data"
      ],
      "metadata": {
        "id": "Q8Abef1MvJ5k"
      }
    },
    {
      "cell_type": "code",
      "source": [
        "X = data_ml[[\"No_of_Days\", \"State/UnionTerritory\", \"Cured\", \"Deaths\"]]\n",
        "y = data_ml[[\"Confirmed\"]]\n"
      ],
      "metadata": {
        "id": "y8mpZRfukKbb"
      },
      "execution_count": null,
      "outputs": []
    },
    {
      "cell_type": "code",
      "source": [
        "# split into train test sets\n",
        "X_train, X_test, y_train, y_test = train_test_split(X, y, test_size=0.20)"
      ],
      "metadata": {
        "id": "p01u3kyh3j7n"
      },
      "execution_count": null,
      "outputs": []
    },
    {
      "cell_type": "markdown",
      "source": [
        "##Regression Model"
      ],
      "metadata": {
        "id": "jqqLh5YHqY7x"
      }
    },
    {
      "cell_type": "code",
      "source": [
        "from sklearn.linear_model import LinearRegression\n",
        "from sklearn import metrics"
      ],
      "metadata": {
        "id": "c_NEbRdJriAv"
      },
      "execution_count": null,
      "outputs": []
    },
    {
      "cell_type": "code",
      "source": [
        "regressor = LinearRegression()\n",
        "regressor.fit(X_train, y_train)\n",
        "\n",
        "y_pred = regressor.predict(X_test)\n",
        "\n",
        "print('Mean Absolute Error:', metrics.mean_absolute_error(y_test, y_pred))\n",
        "print('Mean Squared Error:', metrics.mean_squared_error(y_test, y_pred))\n",
        "print('Root Mean Squared Error:', np.sqrt(metrics.mean_squared_error(y_test, y_pred)))"
      ],
      "metadata": {
        "colab": {
          "base_uri": "https://localhost:8080/"
        },
        "id": "ofl7YRNdpVdG",
        "outputId": "1608e247-ce61-492c-b2b1-7ea73222b0dc"
      },
      "execution_count": null,
      "outputs": [
        {
          "output_type": "stream",
          "name": "stdout",
          "text": [
            "Mean Absolute Error: 17549.23933617636\n",
            "Mean Squared Error: 1596497875.2552953\n",
            "Root Mean Squared Error: 39956.19945959945\n"
          ]
        }
      ]
    },
    {
      "cell_type": "code",
      "source": [
        "X_train.head()"
      ],
      "metadata": {
        "colab": {
          "base_uri": "https://localhost:8080/",
          "height": 196
        },
        "id": "EQy1tcj6thFz",
        "outputId": "25a5bc82-00b1-49d7-b5ae-0a097f006943"
      },
      "execution_count": null,
      "outputs": [
        {
          "output_type": "execute_result",
          "data": {
            "application/vnd.google.colaboratory.module+javascript": "\n      import \"https://ssl.gstatic.com/colaboratory/data_table/81f25a011006ed3d/data_table.js\";\n\n      window.createDataTable({\n        data: [[{\n            'v': 7342,\n            'f': \"7342\",\n        },\n{\n            'v': 7343,\n            'f': \"7343\",\n        },\n{\n            'v': 15,\n            'f': \"15\",\n        },\n{\n            'v': 133706,\n            'f': \"133706\",\n        },\n{\n            'v': 1614,\n            'f': \"1614\",\n        }],\n [{\n            'v': 9296,\n            'f': \"9296\",\n        },\n{\n            'v': 9297,\n            'f': \"9297\",\n        },\n{\n            'v': 7,\n            'f': \"7\",\n        },\n{\n            'v': 17128,\n            'f': \"17128\",\n        },\n{\n            'v': 297,\n            'f': \"297\",\n        }],\n [{\n            'v': 13466,\n            'f': \"13466\",\n        },\n{\n            'v': 13467,\n            'f': \"13467\",\n        },\n{\n            'v': 1,\n            'f': \"1\",\n        },\n{\n            'v': 890137,\n            'f': \"890137\",\n        },\n{\n            'v': 7239,\n            'f': \"7239\",\n        }],\n [{\n            'v': 12783,\n            'f': \"12783\",\n        },\n{\n            'v': 12784,\n            'f': \"12784\",\n        },\n{\n            'v': 0,\n            'f': \"0\",\n        },\n{\n            'v': 4967,\n            'f': \"4967\",\n        },\n{\n            'v': 62,\n            'f': \"62\",\n        }],\n [{\n            'v': 3925,\n            'f': \"3925\",\n        },\n{\n            'v': 3926,\n            'f': \"3926\",\n        },\n{\n            'v': 45,\n            'f': \"45\",\n        },\n{\n            'v': 16291,\n            'f': \"16291\",\n        },\n{\n            'v': 827,\n            'f': \"827\",\n        }]],\n        columns: [[\"number\", \"index\"], [\"number\", \"No_of_Days\"], [\"number\", \"State/UnionTerritory\"], [\"number\", \"Cured\"], [\"number\", \"Deaths\"]],\n        columnOptions: [{\"width\": \"1px\", \"className\": \"index_column\"}],\n        rowsPerPage: 25,\n        helpUrl: \"https://colab.research.google.com/notebooks/data_table.ipynb\",\n        suppressOutputScrolling: true,\n        minimumWidth: undefined,\n      });\n    ",
            "text/html": [
              "\n",
              "  <div id=\"df-bd2ec77f-e9da-4d15-b927-370982e0ea44\">\n",
              "    <div class=\"colab-df-container\">\n",
              "      <div>\n",
              "<style scoped>\n",
              "    .dataframe tbody tr th:only-of-type {\n",
              "        vertical-align: middle;\n",
              "    }\n",
              "\n",
              "    .dataframe tbody tr th {\n",
              "        vertical-align: top;\n",
              "    }\n",
              "\n",
              "    .dataframe thead th {\n",
              "        text-align: right;\n",
              "    }\n",
              "</style>\n",
              "<table border=\"1\" class=\"dataframe\">\n",
              "  <thead>\n",
              "    <tr style=\"text-align: right;\">\n",
              "      <th></th>\n",
              "      <th>No_of_Days</th>\n",
              "      <th>State/UnionTerritory</th>\n",
              "      <th>Cured</th>\n",
              "      <th>Deaths</th>\n",
              "    </tr>\n",
              "  </thead>\n",
              "  <tbody>\n",
              "    <tr>\n",
              "      <th>7342</th>\n",
              "      <td>7343</td>\n",
              "      <td>15</td>\n",
              "      <td>133706</td>\n",
              "      <td>1614</td>\n",
              "    </tr>\n",
              "    <tr>\n",
              "      <th>9296</th>\n",
              "      <td>9297</td>\n",
              "      <td>7</td>\n",
              "      <td>17128</td>\n",
              "      <td>297</td>\n",
              "    </tr>\n",
              "    <tr>\n",
              "      <th>13466</th>\n",
              "      <td>13467</td>\n",
              "      <td>1</td>\n",
              "      <td>890137</td>\n",
              "      <td>7239</td>\n",
              "    </tr>\n",
              "    <tr>\n",
              "      <th>12783</th>\n",
              "      <td>12784</td>\n",
              "      <td>0</td>\n",
              "      <td>4967</td>\n",
              "      <td>62</td>\n",
              "    </tr>\n",
              "    <tr>\n",
              "      <th>3925</th>\n",
              "      <td>3926</td>\n",
              "      <td>45</td>\n",
              "      <td>16291</td>\n",
              "      <td>827</td>\n",
              "    </tr>\n",
              "  </tbody>\n",
              "</table>\n",
              "</div>\n",
              "      <button class=\"colab-df-convert\" onclick=\"convertToInteractive('df-bd2ec77f-e9da-4d15-b927-370982e0ea44')\"\n",
              "              title=\"Convert this dataframe to an interactive table.\"\n",
              "              style=\"display:none;\">\n",
              "        \n",
              "  <svg xmlns=\"http://www.w3.org/2000/svg\" height=\"24px\"viewBox=\"0 0 24 24\"\n",
              "       width=\"24px\">\n",
              "    <path d=\"M0 0h24v24H0V0z\" fill=\"none\"/>\n",
              "    <path d=\"M18.56 5.44l.94 2.06.94-2.06 2.06-.94-2.06-.94-.94-2.06-.94 2.06-2.06.94zm-11 1L8.5 8.5l.94-2.06 2.06-.94-2.06-.94L8.5 2.5l-.94 2.06-2.06.94zm10 10l.94 2.06.94-2.06 2.06-.94-2.06-.94-.94-2.06-.94 2.06-2.06.94z\"/><path d=\"M17.41 7.96l-1.37-1.37c-.4-.4-.92-.59-1.43-.59-.52 0-1.04.2-1.43.59L10.3 9.45l-7.72 7.72c-.78.78-.78 2.05 0 2.83L4 21.41c.39.39.9.59 1.41.59.51 0 1.02-.2 1.41-.59l7.78-7.78 2.81-2.81c.8-.78.8-2.07 0-2.86zM5.41 20L4 18.59l7.72-7.72 1.47 1.35L5.41 20z\"/>\n",
              "  </svg>\n",
              "      </button>\n",
              "      \n",
              "  <style>\n",
              "    .colab-df-container {\n",
              "      display:flex;\n",
              "      flex-wrap:wrap;\n",
              "      gap: 12px;\n",
              "    }\n",
              "\n",
              "    .colab-df-convert {\n",
              "      background-color: #E8F0FE;\n",
              "      border: none;\n",
              "      border-radius: 50%;\n",
              "      cursor: pointer;\n",
              "      display: none;\n",
              "      fill: #1967D2;\n",
              "      height: 32px;\n",
              "      padding: 0 0 0 0;\n",
              "      width: 32px;\n",
              "    }\n",
              "\n",
              "    .colab-df-convert:hover {\n",
              "      background-color: #E2EBFA;\n",
              "      box-shadow: 0px 1px 2px rgba(60, 64, 67, 0.3), 0px 1px 3px 1px rgba(60, 64, 67, 0.15);\n",
              "      fill: #174EA6;\n",
              "    }\n",
              "\n",
              "    [theme=dark] .colab-df-convert {\n",
              "      background-color: #3B4455;\n",
              "      fill: #D2E3FC;\n",
              "    }\n",
              "\n",
              "    [theme=dark] .colab-df-convert:hover {\n",
              "      background-color: #434B5C;\n",
              "      box-shadow: 0px 1px 3px 1px rgba(0, 0, 0, 0.15);\n",
              "      filter: drop-shadow(0px 1px 2px rgba(0, 0, 0, 0.3));\n",
              "      fill: #FFFFFF;\n",
              "    }\n",
              "  </style>\n",
              "\n",
              "      <script>\n",
              "        const buttonEl =\n",
              "          document.querySelector('#df-bd2ec77f-e9da-4d15-b927-370982e0ea44 button.colab-df-convert');\n",
              "        buttonEl.style.display =\n",
              "          google.colab.kernel.accessAllowed ? 'block' : 'none';\n",
              "\n",
              "        async function convertToInteractive(key) {\n",
              "          const element = document.querySelector('#df-bd2ec77f-e9da-4d15-b927-370982e0ea44');\n",
              "          const dataTable =\n",
              "            await google.colab.kernel.invokeFunction('convertToInteractive',\n",
              "                                                     [key], {});\n",
              "          if (!dataTable) return;\n",
              "\n",
              "          const docLinkHtml = 'Like what you see? Visit the ' +\n",
              "            '<a target=\"_blank\" href=https://colab.research.google.com/notebooks/data_table.ipynb>data table notebook</a>'\n",
              "            + ' to learn more about interactive tables.';\n",
              "          element.innerHTML = '';\n",
              "          dataTable['output_type'] = 'display_data';\n",
              "          await google.colab.output.renderOutput(dataTable, element);\n",
              "          const docLink = document.createElement('div');\n",
              "          docLink.innerHTML = docLinkHtml;\n",
              "          element.appendChild(docLink);\n",
              "        }\n",
              "      </script>\n",
              "    </div>\n",
              "  </div>\n",
              "  "
            ],
            "text/plain": [
              "       No_of_Days  State/UnionTerritory   Cured  Deaths\n",
              "7342         7343                    15  133706    1614\n",
              "9296         9297                     7   17128     297\n",
              "13466       13467                     1  890137    7239\n",
              "12783       12784                     0    4967      62\n",
              "3925         3926                    45   16291     827"
            ]
          },
          "metadata": {},
          "execution_count": 48
        }
      ]
    },
    {
      "cell_type": "markdown",
      "source": [
        "##Polynomial Regression"
      ],
      "metadata": {
        "id": "gUNXswXLa16q"
      }
    },
    {
      "cell_type": "code",
      "source": [
        "X_pol = X[[\"No_of_Days\"]]\n",
        "y_pol = y[[\"Confirmed\"]]"
      ],
      "metadata": {
        "id": "4Z-OtNjO6iBS"
      },
      "execution_count": null,
      "outputs": []
    },
    {
      "cell_type": "code",
      "source": [
        "X_train_pol, X_test_pol, y_train_pol, y_test_pol = train_test_split(X_pol, y_pol, test_size=0.20)"
      ],
      "metadata": {
        "id": "Xu6m8ge665jM"
      },
      "execution_count": null,
      "outputs": []
    },
    {
      "cell_type": "code",
      "source": [
        "from sklearn.preprocessing import PolynomialFeatures  \n",
        "poly_regs= PolynomialFeatures(degree= 4)  \n",
        "x_poly= poly_regs.fit_transform(X_train_pol) \n",
        "x_test_pol= poly_regs.fit_transform(X_test_pol)  \n",
        "lin_reg_2 =LinearRegression()  \n",
        "lin_reg_2.fit(x_poly, y_train_pol)  "
      ],
      "metadata": {
        "id": "yAKhgzW7a1NR",
        "colab": {
          "base_uri": "https://localhost:8080/"
        },
        "outputId": "31a89944-46b2-4f17-98c5-455eb60db301"
      },
      "execution_count": null,
      "outputs": [
        {
          "output_type": "execute_result",
          "data": {
            "text/plain": [
              "LinearRegression()"
            ]
          },
          "metadata": {},
          "execution_count": 51
        }
      ]
    },
    {
      "cell_type": "code",
      "source": [
        "y_pred_pol = lin_reg_2.predict(x_test_pol)\n",
        "\n",
        "print('Mean Absolute Error:', metrics.mean_absolute_error(y_test_pol, y_pred_pol))\n",
        "print('Root Mean Squared Error:', np.sqrt(metrics.mean_squared_error(y_test_pol, y_pred_pol)))"
      ],
      "metadata": {
        "colab": {
          "base_uri": "https://localhost:8080/"
        },
        "id": "KvbsRbIq7OsE",
        "outputId": "91368068-8594-4fd2-93a4-b9669efd4115"
      },
      "execution_count": null,
      "outputs": [
        {
          "output_type": "stream",
          "name": "stdout",
          "text": [
            "Mean Absolute Error: 297865.6879742383\n",
            "Root Mean Squared Error: 600527.7468139336\n"
          ]
        }
      ]
    }
  ]
}